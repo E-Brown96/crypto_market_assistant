{
  "cells": [
    {
      "cell_type": "markdown",
      "metadata": {
        "id": "_-r71jEGWebE"
      },
      "source": [
        "# Joseph Korban's Notebook"
      ]
    },
    {
      "cell_type": "markdown",
      "metadata": {
        "id": "WKIpZHaUWebF"
      },
      "source": [
        "## Goal: DL Model for 7 days\n"
      ]
    },
    {
      "cell_type": "markdown",
      "metadata": {
        "id": "VAwYSRAuWebF"
      },
      "source": [
        "#### Preliminary Steps"
      ]
    },
    {
      "cell_type": "code",
      "execution_count": 1,
      "metadata": {
        "id": "Z7ACktisV8lt"
      },
      "outputs": [
        {
          "name": "stdout",
          "output_type": "stream",
          "text": [
            "            time      open      high       low     close    volume BTC  \\\n",
            "0     2017-08-17   4261.48   4485.39   4200.74   4285.08    795.150377   \n",
            "1     2017-08-18   4285.08   4371.52   3938.77   4108.37   1199.888264   \n",
            "2     2017-08-19   4108.37   4184.69   3850.00   4139.98    381.309763   \n",
            "3     2017-08-20   4139.98   4211.08   4032.62   4086.29    467.083022   \n",
            "4     2017-08-21   4069.13   4119.62   3911.79   4016.00    691.743060   \n",
            "...          ...       ...       ...       ...       ...           ...   \n",
            "2299  2023-12-03  39450.35  40250.00  39274.86  39972.26  26710.653350   \n",
            "2300  2023-12-04  39972.26  42420.00  39972.26  41991.10  79272.330590   \n",
            "2301  2023-12-05  41991.10  44488.00  41414.00  44073.32  67490.746440   \n",
            "2302  2023-12-06  44073.82  44297.21  43335.28  43762.69  51431.104920   \n",
            "2303  2023-12-07  43762.69  44047.33  42821.10  43273.14  47103.268450   \n",
            "\n",
            "        volume USD        RSI  RSI_class        ADX  ADX_class  \n",
            "0     3.454770e+06  50.000000          0   0.000000          1  \n",
            "1     5.086958e+06  50.000000          0   0.000000          1  \n",
            "2     1.549484e+06  50.000000          0   0.000000          1  \n",
            "3     1.930364e+06  50.000000          0   0.000000          1  \n",
            "4     2.797232e+06  50.000000          0   0.000000          1  \n",
            "...            ...        ...        ...        ...        ...  \n",
            "2299  1.059861e+09  70.702721          1  44.436432          2  \n",
            "2300  3.285737e+09  77.134115          1  45.836661          2  \n",
            "2301  2.890205e+09  81.616552          1  47.693335          2  \n",
            "2302  2.256980e+09  79.124603          1  49.417390          2  \n",
            "2303  2.046946e+09  75.226356          1  50.296646          3  \n",
            "\n",
            "[2304 rows x 11 columns]\n"
          ]
        }
      ],
      "source": [
        "import pandas as pd\n",
        "import numpy as np\n",
        "\n",
        "import matplotlib.pyplot as plt\n",
        "import seaborn as sns\n",
        "\n",
        "import os\n",
        "\n",
        "import tensorflow as tf\n",
        "from crypto_assist.data_preprocess import preprocessor_not_scaled\n"
      ]
    },
    {
      "cell_type": "code",
      "execution_count": 2,
      "metadata": {
        "id": "wke5eLbpuluH"
      },
      "outputs": [
        {
          "name": "stdout",
          "output_type": "stream",
          "text": [
            "            time      open      high       low     close    volume BTC  \\\n",
            "0     2017-08-17   4261.48   4485.39   4200.74   4285.08    795.150377   \n",
            "1     2017-08-18   4285.08   4371.52   3938.77   4108.37   1199.888264   \n",
            "2     2017-08-19   4108.37   4184.69   3850.00   4139.98    381.309763   \n",
            "3     2017-08-20   4139.98   4211.08   4032.62   4086.29    467.083022   \n",
            "4     2017-08-21   4069.13   4119.62   3911.79   4016.00    691.743060   \n",
            "...          ...       ...       ...       ...       ...           ...   \n",
            "2299  2023-12-03  39450.35  40250.00  39274.86  39972.26  26710.653350   \n",
            "2300  2023-12-04  39972.26  42420.00  39972.26  41991.10  79272.330590   \n",
            "2301  2023-12-05  41991.10  44488.00  41414.00  44073.32  67490.746440   \n",
            "2302  2023-12-06  44073.82  44297.21  43335.28  43762.69  51431.104920   \n",
            "2303  2023-12-07  43762.69  44047.33  42821.10  43273.14  47103.268450   \n",
            "\n",
            "        volume USD        RSI  RSI_class        ADX  ADX_class  \n",
            "0     3.454770e+06  50.000000          0   0.000000          1  \n",
            "1     5.086958e+06  50.000000          0   0.000000          1  \n",
            "2     1.549484e+06  50.000000          0   0.000000          1  \n",
            "3     1.930364e+06  50.000000          0   0.000000          1  \n",
            "4     2.797232e+06  50.000000          0   0.000000          1  \n",
            "...            ...        ...        ...        ...        ...  \n",
            "2299  1.059861e+09  70.702721          1  44.436432          2  \n",
            "2300  3.285737e+09  77.134115          1  45.836661          2  \n",
            "2301  2.890205e+09  81.616552          1  47.693335          2  \n",
            "2302  2.256980e+09  79.124603          1  49.417390          2  \n",
            "2303  2.046946e+09  75.226356          1  50.296646          3  \n",
            "\n",
            "[2304 rows x 11 columns]\n",
            "✅ Data has been merged\n",
            "✅ Data has been imputed\n",
            "✅ Data has been processed\n"
          ]
        },
        {
          "data": {
            "text/html": [
              "<div>\n",
              "<style scoped>\n",
              "    .dataframe tbody tr th:only-of-type {\n",
              "        vertical-align: middle;\n",
              "    }\n",
              "\n",
              "    .dataframe tbody tr th {\n",
              "        vertical-align: top;\n",
              "    }\n",
              "\n",
              "    .dataframe thead th {\n",
              "        text-align: right;\n",
              "    }\n",
              "</style>\n",
              "<table border=\"1\" class=\"dataframe\">\n",
              "  <thead>\n",
              "    <tr style=\"text-align: right;\">\n",
              "      <th></th>\n",
              "      <th>open</th>\n",
              "      <th>high</th>\n",
              "      <th>low</th>\n",
              "      <th>close</th>\n",
              "      <th>volume USD</th>\n",
              "      <th>RSI</th>\n",
              "      <th>ADX</th>\n",
              "      <th>FAGI_score</th>\n",
              "      <th>scored_title</th>\n",
              "      <th>scored_text</th>\n",
              "      <th>average_score</th>\n",
              "      <th>reddit_subscribers</th>\n",
              "      <th>reddit_comments_per_day</th>\n",
              "      <th>FAGI_sentiment_encoded</th>\n",
              "    </tr>\n",
              "  </thead>\n",
              "  <tbody>\n",
              "    <tr>\n",
              "      <th>0</th>\n",
              "      <td>4261.48</td>\n",
              "      <td>4485.39</td>\n",
              "      <td>4200.74</td>\n",
              "      <td>4285.08</td>\n",
              "      <td>3.454770e+06</td>\n",
              "      <td>50.000000</td>\n",
              "      <td>0.000000</td>\n",
              "      <td>50.0</td>\n",
              "      <td>0.000000</td>\n",
              "      <td>0.000000</td>\n",
              "      <td>0.000000</td>\n",
              "      <td>1.000000e+03</td>\n",
              "      <td>699.824346</td>\n",
              "      <td>2.0</td>\n",
              "    </tr>\n",
              "    <tr>\n",
              "      <th>1</th>\n",
              "      <td>4285.08</td>\n",
              "      <td>4371.52</td>\n",
              "      <td>3938.77</td>\n",
              "      <td>4108.37</td>\n",
              "      <td>5.086958e+06</td>\n",
              "      <td>50.000000</td>\n",
              "      <td>0.000000</td>\n",
              "      <td>50.0</td>\n",
              "      <td>0.000000</td>\n",
              "      <td>0.000000</td>\n",
              "      <td>0.000000</td>\n",
              "      <td>1.419855e+03</td>\n",
              "      <td>699.824346</td>\n",
              "      <td>2.0</td>\n",
              "    </tr>\n",
              "    <tr>\n",
              "      <th>2</th>\n",
              "      <td>4108.37</td>\n",
              "      <td>4184.69</td>\n",
              "      <td>3850.00</td>\n",
              "      <td>4139.98</td>\n",
              "      <td>1.549484e+06</td>\n",
              "      <td>50.000000</td>\n",
              "      <td>0.000000</td>\n",
              "      <td>50.0</td>\n",
              "      <td>0.000000</td>\n",
              "      <td>0.000000</td>\n",
              "      <td>0.000000</td>\n",
              "      <td>1.839711e+03</td>\n",
              "      <td>699.824346</td>\n",
              "      <td>2.0</td>\n",
              "    </tr>\n",
              "    <tr>\n",
              "      <th>3</th>\n",
              "      <td>4139.98</td>\n",
              "      <td>4211.08</td>\n",
              "      <td>4032.62</td>\n",
              "      <td>4086.29</td>\n",
              "      <td>1.930364e+06</td>\n",
              "      <td>50.000000</td>\n",
              "      <td>0.000000</td>\n",
              "      <td>50.0</td>\n",
              "      <td>0.000000</td>\n",
              "      <td>0.000000</td>\n",
              "      <td>0.000000</td>\n",
              "      <td>2.259566e+03</td>\n",
              "      <td>699.824346</td>\n",
              "      <td>2.0</td>\n",
              "    </tr>\n",
              "    <tr>\n",
              "      <th>4</th>\n",
              "      <td>4069.13</td>\n",
              "      <td>4119.62</td>\n",
              "      <td>3911.79</td>\n",
              "      <td>4016.00</td>\n",
              "      <td>2.797232e+06</td>\n",
              "      <td>50.000000</td>\n",
              "      <td>0.000000</td>\n",
              "      <td>50.0</td>\n",
              "      <td>0.000000</td>\n",
              "      <td>0.000000</td>\n",
              "      <td>0.000000</td>\n",
              "      <td>2.679422e+03</td>\n",
              "      <td>699.824346</td>\n",
              "      <td>2.0</td>\n",
              "    </tr>\n",
              "    <tr>\n",
              "      <th>...</th>\n",
              "      <td>...</td>\n",
              "      <td>...</td>\n",
              "      <td>...</td>\n",
              "      <td>...</td>\n",
              "      <td>...</td>\n",
              "      <td>...</td>\n",
              "      <td>...</td>\n",
              "      <td>...</td>\n",
              "      <td>...</td>\n",
              "      <td>...</td>\n",
              "      <td>...</td>\n",
              "      <td>...</td>\n",
              "      <td>...</td>\n",
              "      <td>...</td>\n",
              "    </tr>\n",
              "    <tr>\n",
              "      <th>2299</th>\n",
              "      <td>39450.35</td>\n",
              "      <td>40250.00</td>\n",
              "      <td>39274.86</td>\n",
              "      <td>39972.26</td>\n",
              "      <td>1.059861e+09</td>\n",
              "      <td>70.702721</td>\n",
              "      <td>44.436432</td>\n",
              "      <td>73.0</td>\n",
              "      <td>0.324950</td>\n",
              "      <td>0.944111</td>\n",
              "      <td>0.634530</td>\n",
              "      <td>2.594931e+06</td>\n",
              "      <td>699.824346</td>\n",
              "      <td>3.0</td>\n",
              "    </tr>\n",
              "    <tr>\n",
              "      <th>2300</th>\n",
              "      <td>39972.26</td>\n",
              "      <td>42420.00</td>\n",
              "      <td>39972.26</td>\n",
              "      <td>41991.10</td>\n",
              "      <td>3.285737e+09</td>\n",
              "      <td>77.134115</td>\n",
              "      <td>45.836661</td>\n",
              "      <td>74.0</td>\n",
              "      <td>0.400351</td>\n",
              "      <td>0.543259</td>\n",
              "      <td>0.471805</td>\n",
              "      <td>2.594931e+06</td>\n",
              "      <td>699.824346</td>\n",
              "      <td>3.0</td>\n",
              "    </tr>\n",
              "    <tr>\n",
              "      <th>2301</th>\n",
              "      <td>41991.10</td>\n",
              "      <td>44488.00</td>\n",
              "      <td>41414.00</td>\n",
              "      <td>44073.32</td>\n",
              "      <td>2.890205e+09</td>\n",
              "      <td>81.616552</td>\n",
              "      <td>47.693335</td>\n",
              "      <td>75.0</td>\n",
              "      <td>0.344162</td>\n",
              "      <td>0.655111</td>\n",
              "      <td>0.499637</td>\n",
              "      <td>2.594931e+06</td>\n",
              "      <td>699.824346</td>\n",
              "      <td>3.0</td>\n",
              "    </tr>\n",
              "    <tr>\n",
              "      <th>2302</th>\n",
              "      <td>44073.82</td>\n",
              "      <td>44297.21</td>\n",
              "      <td>43335.28</td>\n",
              "      <td>43762.69</td>\n",
              "      <td>2.256980e+09</td>\n",
              "      <td>79.124603</td>\n",
              "      <td>49.417390</td>\n",
              "      <td>72.0</td>\n",
              "      <td>0.453002</td>\n",
              "      <td>0.488086</td>\n",
              "      <td>0.470544</td>\n",
              "      <td>2.594931e+06</td>\n",
              "      <td>699.824346</td>\n",
              "      <td>3.0</td>\n",
              "    </tr>\n",
              "    <tr>\n",
              "      <th>2303</th>\n",
              "      <td>43762.69</td>\n",
              "      <td>44047.33</td>\n",
              "      <td>42821.10</td>\n",
              "      <td>43273.14</td>\n",
              "      <td>2.046946e+09</td>\n",
              "      <td>75.226356</td>\n",
              "      <td>50.296646</td>\n",
              "      <td>72.0</td>\n",
              "      <td>-0.005654</td>\n",
              "      <td>-0.824203</td>\n",
              "      <td>-0.414929</td>\n",
              "      <td>2.594931e+06</td>\n",
              "      <td>699.824346</td>\n",
              "      <td>3.0</td>\n",
              "    </tr>\n",
              "  </tbody>\n",
              "</table>\n",
              "<p>2304 rows × 14 columns</p>\n",
              "</div>"
            ],
            "text/plain": [
              "          open      high       low     close    volume USD        RSI  \\\n",
              "0      4261.48   4485.39   4200.74   4285.08  3.454770e+06  50.000000   \n",
              "1      4285.08   4371.52   3938.77   4108.37  5.086958e+06  50.000000   \n",
              "2      4108.37   4184.69   3850.00   4139.98  1.549484e+06  50.000000   \n",
              "3      4139.98   4211.08   4032.62   4086.29  1.930364e+06  50.000000   \n",
              "4      4069.13   4119.62   3911.79   4016.00  2.797232e+06  50.000000   \n",
              "...        ...       ...       ...       ...           ...        ...   \n",
              "2299  39450.35  40250.00  39274.86  39972.26  1.059861e+09  70.702721   \n",
              "2300  39972.26  42420.00  39972.26  41991.10  3.285737e+09  77.134115   \n",
              "2301  41991.10  44488.00  41414.00  44073.32  2.890205e+09  81.616552   \n",
              "2302  44073.82  44297.21  43335.28  43762.69  2.256980e+09  79.124603   \n",
              "2303  43762.69  44047.33  42821.10  43273.14  2.046946e+09  75.226356   \n",
              "\n",
              "            ADX  FAGI_score  scored_title  scored_text  average_score  \\\n",
              "0      0.000000        50.0      0.000000     0.000000       0.000000   \n",
              "1      0.000000        50.0      0.000000     0.000000       0.000000   \n",
              "2      0.000000        50.0      0.000000     0.000000       0.000000   \n",
              "3      0.000000        50.0      0.000000     0.000000       0.000000   \n",
              "4      0.000000        50.0      0.000000     0.000000       0.000000   \n",
              "...         ...         ...           ...          ...            ...   \n",
              "2299  44.436432        73.0      0.324950     0.944111       0.634530   \n",
              "2300  45.836661        74.0      0.400351     0.543259       0.471805   \n",
              "2301  47.693335        75.0      0.344162     0.655111       0.499637   \n",
              "2302  49.417390        72.0      0.453002     0.488086       0.470544   \n",
              "2303  50.296646        72.0     -0.005654    -0.824203      -0.414929   \n",
              "\n",
              "      reddit_subscribers  reddit_comments_per_day  FAGI_sentiment_encoded  \n",
              "0           1.000000e+03               699.824346                     2.0  \n",
              "1           1.419855e+03               699.824346                     2.0  \n",
              "2           1.839711e+03               699.824346                     2.0  \n",
              "3           2.259566e+03               699.824346                     2.0  \n",
              "4           2.679422e+03               699.824346                     2.0  \n",
              "...                  ...                      ...                     ...  \n",
              "2299        2.594931e+06               699.824346                     3.0  \n",
              "2300        2.594931e+06               699.824346                     3.0  \n",
              "2301        2.594931e+06               699.824346                     3.0  \n",
              "2302        2.594931e+06               699.824346                     3.0  \n",
              "2303        2.594931e+06               699.824346                     3.0  \n",
              "\n",
              "[2304 rows x 14 columns]"
            ]
          },
          "execution_count": 2,
          "metadata": {},
          "output_type": "execute_result"
        }
      ],
      "source": [
        "#For Jupyter only\n",
        "\n",
        "\n",
        "df = preprocessor_not_scaled('BTCUSDT_daily.csv','final_text_df.csv','social_number_data.csv','FearAndGreedIndex.csv')\n",
        "df_new = df.drop(columns=['date','volume BTC','twitter_favourites','reddit_active_users','twitter_followers','RSI_class','ADX_class'])\n",
        "df_new\n"
      ]
    },
    {
      "cell_type": "code",
      "execution_count": 3,
      "metadata": {
        "id": "6Z8GULRhFEEa"
      },
      "outputs": [],
      "source": [
        "# For Google Colab only\n",
        "\n",
        "\n",
        "#df_new = pd.read_csv('/content/FINAL.csv')\n"
      ]
    },
    {
      "cell_type": "markdown",
      "metadata": {
        "id": "dGTF64VdWebG"
      },
      "source": [
        "#### Assignments:\n",
        "- Targets  \n",
        "- Number of targets\n",
        "- Number of features\n"
      ]
    },
    {
      "cell_type": "code",
      "execution_count": 4,
      "metadata": {
        "id": "JvqxR2HeWebG"
      },
      "outputs": [],
      "source": [
        "# Can change later\n",
        "\n",
        "N_FEATURES = df_new.shape[1]  # All features other than time\n",
        "N_TARGETS = 1                      # Prediciting only 1 target (close price)\n",
        "TARGET = 'close'\n"
      ]
    },
    {
      "cell_type": "markdown",
      "metadata": {
        "id": "cQ9HoELiWebH"
      },
      "source": [
        "## Preparing the dataset for DL Model"
      ]
    },
    {
      "cell_type": "markdown",
      "metadata": {
        "id": "gf2ZHtciWebH"
      },
      "source": [
        "### Step 1. Creating many folds"
      ]
    },
    {
      "cell_type": "markdown",
      "metadata": {
        "id": "vYiGlhmwWebH"
      },
      "source": [
        "#### Assignments:\n",
        "- Fold Length   \n",
        "- Fold Size\n",
        "- Train Test Ratio\n"
      ]
    },
    {
      "cell_type": "code",
      "execution_count": 5,
      "metadata": {
        "id": "f2kUUTpOWebH"
      },
      "outputs": [],
      "source": [
        "# Can change later\n",
        "\n",
        "# Since we have data for about 6.3 years, we will asssume fold lengths of 2 years\n",
        "# 1.34 years for training and 0.67 for testing\n",
        "\n",
        "FOLD_LENGTH = 90    # Assume fold legnth of 2 years\n",
        "FOLD_STRIDE = 10      # Assume stride every quarter\n",
        "TRAIN_TEST_RATIO = 0.67   # Two-thirds split ratio\n"
      ]
    },
    {
      "cell_type": "markdown",
      "metadata": {
        "id": "oeWn8gqnWebH"
      },
      "source": [
        "#### * Implement the Get Folds Function:\n",
        "- Takes in df, fold length, fold stride\n",
        "- Returns a list of folds (each fold being a dataframe)"
      ]
    },
    {
      "cell_type": "code",
      "execution_count": 6,
      "metadata": {
        "id": "WD3AZab7WebH"
      },
      "outputs": [],
      "source": [
        "# Goes through the dataframe and creates equal sized folds of FOLD_LENGTH\n",
        "# starting at 0 and at each FOLD_STRIDE until it crosses len(df)\n",
        "\n",
        "def get_folds(df: pd.DataFrame,\n",
        "    fold_length: int,\n",
        "    fold_stride: int) -> list[pd.DataFrame]:\n",
        "\n",
        "    folds = []\n",
        "    for index in range(0, fold_length, fold_stride):\n",
        "        if index + fold_length > len(df):\n",
        "            break\n",
        "        fold = df.iloc[index:index + fold_length,:]\n",
        "        folds.append(fold)\n",
        "    return folds\n"
      ]
    },
    {
      "cell_type": "code",
      "execution_count": 7,
      "metadata": {
        "colab": {
          "base_uri": "https://localhost:8080/"
        },
        "id": "ABRR6UBRWebH",
        "outputId": "fc2e6933-4e9b-473f-cac0-82578598d8bd"
      },
      "outputs": [
        {
          "name": "stdout",
          "output_type": "stream",
          "text": [
            "Number of folds created were 9\n",
            "Each with a shape equal to (90, 14).\n"
          ]
        }
      ],
      "source": [
        "folds = (get_folds(df_new,FOLD_LENGTH,FOLD_STRIDE))\n",
        "print(f'Number of folds created were {len(folds)}')\n",
        "print(f'Each with a shape equal to {folds[0].shape}.')\n"
      ]
    },
    {
      "cell_type": "markdown",
      "metadata": {
        "id": "7Q1fiOACWebI"
      },
      "source": [
        "### Step 2. Temporal Train Test Split for one fold"
      ]
    },
    {
      "cell_type": "markdown",
      "metadata": {
        "id": "kn4OkG7sWebI"
      },
      "source": [
        "#### Focusing on one fold first"
      ]
    },
    {
      "cell_type": "code",
      "execution_count": 8,
      "metadata": {
        "id": "EvmSLgl5WebI"
      },
      "outputs": [],
      "source": [
        "fold = folds[-1]\n"
      ]
    },
    {
      "cell_type": "markdown",
      "metadata": {
        "id": "Vf1zCy-ZWebI"
      },
      "source": [
        "#### Assignments:\n",
        "- Input Length : Selected period selected for forecasting\n",
        "- Output Length : Selected period we want to predict\n"
      ]
    },
    {
      "cell_type": "code",
      "execution_count": 9,
      "metadata": {
        "id": "zOnLChyIWebI"
      },
      "outputs": [],
      "source": [
        "# Can change later\n",
        "\n",
        "INPUT_LENGTH = 7          # We can assume 3 days for a forecating period\n",
        "OUTPUT_LENGTH = 7           # If we want predict one week ahead\n",
        "TEMP_TRAIN_TEST_RATIO = 0.8 # How we want to split each fold (can be same as train test ratio)\n"
      ]
    },
    {
      "cell_type": "markdown",
      "metadata": {
        "id": "fWjxEp2oWebI"
      },
      "source": [
        "#### * Implement the Temporal Train Test Split Function:\n",
        "- Takes in a fold, temporal train test ratio, input length\n",
        "- Returns a tuple of (fold_train, fold_test), each as a dataframe"
      ]
    },
    {
      "cell_type": "code",
      "execution_count": 10,
      "metadata": {
        "id": "NnNXLhHqWebI"
      },
      "outputs": [],
      "source": [
        "# Splitting one fold into train and test chronologically,\n",
        "# so we can later sample many (Xi,yi) pairs (input and output lengths)\n",
        "\n",
        "def temporal_train_test_split(fold:pd.DataFrame,\n",
        "                            temp_train_test_ratio: float,\n",
        "                            input_length: int) -> tuple[pd.DataFrame]:\n",
        "    # Train set\n",
        "    last_train_index = round(temp_train_test_ratio * len(fold))\n",
        "    fold_train = fold.iloc[0:last_train_index, :]\n",
        "\n",
        "    #Test Set\n",
        "    first_test_index = last_train_index - input_length\n",
        "    fold_test = fold.iloc[first_test_index:, :]\n",
        "\n",
        "    return (fold_train,fold_test)\n"
      ]
    },
    {
      "cell_type": "code",
      "execution_count": 11,
      "metadata": {
        "id": "KeE2F13mWebI"
      },
      "outputs": [],
      "source": [
        "(fold_train, fold_test) = temporal_train_test_split(fold, TEMP_TRAIN_TEST_RATIO, INPUT_LENGTH)\n"
      ]
    },
    {
      "cell_type": "code",
      "execution_count": 12,
      "metadata": {
        "colab": {
          "base_uri": "https://localhost:8080/"
        },
        "id": "pw9uX_brWebI",
        "outputId": "ea3a3ea7-30ae-4e66-91cf-42e8a61e0c22"
      },
      "outputs": [
        {
          "data": {
            "text/plain": [
              "((72, 14), (25, 14))"
            ]
          },
          "execution_count": 12,
          "metadata": {},
          "output_type": "execute_result"
        }
      ],
      "source": [
        "fold_train.shape, fold_test.shape\n"
      ]
    },
    {
      "cell_type": "markdown",
      "metadata": {
        "id": "ucCfZHzoWebI"
      },
      "source": [
        "### Step 3. Create (X, y) sequences"
      ]
    },
    {
      "cell_type": "markdown",
      "metadata": {
        "id": "kLYhZj9mta1L"
      },
      "source": [
        "### Option 1. Random Sampling"
      ]
    },
    {
      "cell_type": "markdown",
      "metadata": {
        "id": "5U2Hh350WebJ"
      },
      "source": [
        "#### Now that we split our fold into trian and test we have to create 2 functions\n",
        "- One that will return a single sequence of (Xi, yi) (from fold train for training, and from fold test for evaluating)\n",
        "- Another that will call the first function many times over creating 3-D arrays of multiple sequences (X, y)"
      ]
    },
    {
      "cell_type": "markdown",
      "metadata": {
        "id": "Sfl9UtZ1WebJ"
      },
      "source": [
        "#### * Implement the Get (Xi, yi) function (using the random method):\n",
        "- Takes in a fold, input length ,output length\n",
        "- Returns a single sequence of (Xi, yi) as a 2-D DataFrame"
      ]
    },
    {
      "cell_type": "code",
      "execution_count": 13,
      "metadata": {
        "id": "UQko7frn8BUU"
      },
      "outputs": [],
      "source": [
        "STRIDE = 3\n"
      ]
    },
    {
      "cell_type": "code",
      "execution_count": 14,
      "metadata": {
        "id": "cFoOvPZ5WebJ"
      },
      "outputs": [],
      "source": [
        "# Given a fold (could be train fold for testing or test fold for evaluating),\n",
        "# it will return a sequence of (Xi,yi) based on input and output lengths,\n",
        "# starting from a random point.\n",
        "\n",
        "def get_Xi_yi_7(first_index: int,\n",
        "              fold: pd.DataFrame,\n",
        "              input_length: int,\n",
        "              output_length: int) -> tuple[np.ndarray, np.ndarray]:\n",
        "    '''\n",
        "    - extracts one sequence from a fold\n",
        "    - returns a pair (Xi, yi) with:\n",
        "        * len(Xi) = `input_length` and Xi starting at first_index\n",
        "        * len(yi) = `output_length`\n",
        "        * last_Xi and first_yi separated by the gap = horizon -1\n",
        "    '''\n",
        "\n",
        "    Xi_start = first_index\n",
        "    Xi_last = Xi_start + input_length\n",
        "    yi_start = Xi_last\n",
        "    yi_last = yi_start + output_length\n",
        "\n",
        "    Xi = fold[Xi_start:Xi_last]\n",
        "    yi = fold[yi_start:yi_last][TARGET]\n",
        "\n",
        "    return (Xi, yi)\n"
      ]
    },
    {
      "cell_type": "markdown",
      "metadata": {
        "id": "5JQGL2WOWebJ"
      },
      "source": []
    },
    {
      "cell_type": "code",
      "execution_count": 15,
      "metadata": {
        "id": "JHJPHO2JWebJ"
      },
      "outputs": [],
      "source": [
        "def get_X_y_7(fold: pd.DataFrame,             input_length: int,\n",
        "             output_length: int,\n",
        "             stride: int,\n",
        "             shuffle=True) -> tuple[np.ndarray, np.ndarray]:\n",
        "    \"\"\"\n",
        "    - Uses `data`, a 2D-array with axis=0 for timesteps, and axis=1 for (targets+covariates columns)\n",
        "    - Returns a Tuple (X,y) of two ndarrays :\n",
        "        * X.shape = (n_samples, input_length, n_covariates)\n",
        "        * y.shape =\n",
        "            (n_samples, output_length, n_targets) if all 3-dimensions are of size > 1\n",
        "            (n_samples, output_length) if n_targets == 1\n",
        "            (n_samples, n_targets) if output_length == 1\n",
        "            (n_samples, ) if both n_targets and lenghts == 1\n",
        "    - You can shuffle the pairs (Xi,yi) of your fold\n",
        "    \"\"\"\n",
        "    X = []\n",
        "    y = []\n",
        "\n",
        "    # Scanning the fold/data entirely with a certain stride\n",
        "    for i in range(0, len(fold), stride):\n",
        "        ## Extracting a sequence starting at index_i\n",
        "        Xi, yi = get_Xi_yi_7(first_index=i,\n",
        "                            fold=fold,\n",
        "                            input_length=input_length,\n",
        "                            output_length=output_length)\n",
        "        ## Exits loop as soon as we reach the end of the dataset\n",
        "        if len(yi) < output_length:\n",
        "            break\n",
        "        X.append(Xi)\n",
        "        y.append(yi)\n",
        "\n",
        "    X = np.array(X)\n",
        "    y = np.array(y)\n",
        "    y = np.squeeze(y)\n",
        "\n",
        "    if shuffle:\n",
        "        idx = np.arange(len(X))\n",
        "        np.random.shuffle(idx)\n",
        "        X = X[idx]\n",
        "        y = y[idx]\n",
        "\n",
        "    return X, y\n"
      ]
    },
    {
      "cell_type": "code",
      "execution_count": 16,
      "metadata": {
        "colab": {
          "base_uri": "https://localhost:8080/"
        },
        "id": "hHjEM59aWebJ",
        "outputId": "0ee094df-22e9-4059-dec8-079ed1aa7b4c"
      },
      "outputs": [
        {
          "name": "stdout",
          "output_type": "stream",
          "text": [
            "Shapes for the training set:\n",
            "X_train.shape = (20, 7, 14), y_train.shape = (20, 7)\n",
            "Shapes for the test set:\n",
            "X_test.shape = (4, 7, 14), y_test.shape = (4, 7)\n"
          ]
        }
      ],
      "source": [
        "X_train, y_train = get_X_y_7(fold=fold_train,\n",
        "                           input_length=INPUT_LENGTH,\n",
        "                           output_length=OUTPUT_LENGTH,\n",
        "                           stride=STRIDE)\n",
        "X_test, y_test = get_X_y_7(fold=fold_test,\n",
        "                         input_length=INPUT_LENGTH,\n",
        "                         output_length=OUTPUT_LENGTH,\n",
        "                         stride=STRIDE)\n",
        "\n",
        "print(\"Shapes for the training set:\")\n",
        "print(f\"X_train.shape = {X_train.shape}, y_train.shape = {y_train.shape}\")\n",
        "\n",
        "print(\"Shapes for the test set:\")\n",
        "print(f\"X_test.shape = {X_test.shape}, y_test.shape = {y_test.shape}\")\n"
      ]
    },
    {
      "cell_type": "markdown",
      "metadata": {
        "id": "5RTkxPyRWebK"
      },
      "source": [
        "## Modeling"
      ]
    },
    {
      "cell_type": "code",
      "execution_count": 17,
      "metadata": {
        "id": "X33dFLfqWebK"
      },
      "outputs": [],
      "source": [
        "from tensorflow.keras import models\n",
        "from tensorflow.keras import layers\n",
        "from tensorflow.keras import optimizers, metrics\n",
        "from tensorflow.keras.layers.experimental.preprocessing import Normalization\n",
        "from tensorflow.keras.callbacks import EarlyStopping, ReduceLROnPlateau\n",
        "from tensorflow.keras.layers import Lambda\n",
        "from tensorflow.keras.optimizers.schedules import ExponentialDecay\n",
        "from tensorflow.keras import regularizers\n"
      ]
    },
    {
      "cell_type": "markdown",
      "metadata": {
        "id": "cK2sKeX8WebT"
      },
      "source": [
        "### Step 1. Building a Baseline (dummy) model for comparisons"
      ]
    },
    {
      "cell_type": "markdown",
      "metadata": {
        "id": "1r3JLinkWebT"
      },
      "source": [
        "#### * Initialize the Baseline Model function based on last seen value"
      ]
    },
    {
      "cell_type": "code",
      "execution_count": 18,
      "metadata": {
        "colab": {
          "base_uri": "https://localhost:8080/"
        },
        "id": "MHSQ4bCC55Tk",
        "outputId": "538c426d-7fe8-430b-a746-3fae2a02fe09"
      },
      "outputs": [
        {
          "data": {
            "text/plain": [
              "((20, 7), (4, 7))"
            ]
          },
          "execution_count": 18,
          "metadata": {},
          "output_type": "execute_result"
        }
      ],
      "source": [
        "y_train.shape , y_test.shape\n"
      ]
    },
    {
      "cell_type": "code",
      "execution_count": 19,
      "metadata": {
        "id": "aKpzN9gLWebU"
      },
      "outputs": [],
      "source": [
        "\n",
        "def last_seen_value_baseline(X, y):\n",
        "\n",
        "    # How many values do you want to predict in the future ?\n",
        "    output_length = y.shape[-1]\n",
        "\n",
        "    # For each sequence, let's consider the last seen value\n",
        "    # and only the close column\n",
        "    last_seen_values = X[:,-1, 3].reshape(-1,1)\n",
        "\n",
        "    # We need to duplicate these values as many times as output_length\n",
        "    repeated = np.repeat(last_seen_values, axis = 1, repeats = output_length)\n",
        "\n",
        "    MAE = np.mean(np.abs(y - repeated))\n",
        "    MAPE = np.mean(abs((y - repeated) / y)) * 100\n",
        "    SMAPE = np.mean((abs(y - repeated)) / ((y + repeated)/2))* 100\n",
        "    return MAE, MAPE, SMAPE, repeated[0]\n"
      ]
    },
    {
      "cell_type": "code",
      "execution_count": 20,
      "metadata": {
        "colab": {
          "base_uri": "https://localhost:8080/"
        },
        "id": "68aYchyiWebU",
        "outputId": "48e57a96-3cda-470c-9191-269fb3ee8b4d"
      },
      "outputs": [
        {
          "data": {
            "text/plain": [
              "(910.6185714285717,\n",
              " 8.146962462523225,\n",
              " 7.658102616824382,\n",
              " array([10961.97, 10961.97, 10961.97, 10961.97, 10961.97, 10961.97,\n",
              "        10961.97]))"
            ]
          },
          "execution_count": 20,
          "metadata": {},
          "output_type": "execute_result"
        }
      ],
      "source": [
        "baseline_score = last_seen_value_baseline(X_test, y_test)\n",
        "baseline_score\n"
      ]
    },
    {
      "cell_type": "markdown",
      "metadata": {
        "id": "gbpQRtDeWebU"
      },
      "source": [
        "### Step 2. Building an LSTM Model"
      ]
    },
    {
      "cell_type": "markdown",
      "metadata": {
        "id": "c80bjzqhLBmA"
      },
      "source": [
        "#### * Define the SMAPE Metric"
      ]
    },
    {
      "cell_type": "code",
      "execution_count": 21,
      "metadata": {
        "id": "Oq6juygRLFVw"
      },
      "outputs": [],
      "source": [
        "def smape(y_true, y_pred):\n",
        "    return tf.reduce_mean(((abs(y_true - y_pred)) / ((y_true + y_pred)/2))* 100, axis=-1)\n"
      ]
    },
    {
      "cell_type": "markdown",
      "metadata": {
        "id": "kmiyOzNQWebU"
      },
      "source": [
        "#### * Initialize the LSTM Model function"
      ]
    },
    {
      "cell_type": "code",
      "execution_count": 22,
      "metadata": {
        "id": "Ka5Hp_M3WebU"
      },
      "outputs": [],
      "source": [
        "def init_model(X_train, y_train):\n",
        "\n",
        "    # adam = optimizers.Adam(learning_rate=0.02)\n",
        "\n",
        "    initial_learning_rate = 0.1 # Default Adam\n",
        "\n",
        "    lr_schedule = ExponentialDecay(\n",
        "    initial_learning_rate,\n",
        "    decay_steps = 500,    # every 2000 iterations\n",
        "    decay_rate = 0.5)      # we multiply the learning rate by the decay_rate\n",
        "\n",
        "\n",
        "    adam = optimizers.Adam(learning_rate=lr_schedule)\n",
        "\n",
        "\n",
        "    #reg_l2 = regularizers.L2(0.5)\n",
        "\n",
        "    output_length = y_train.shape[1]\n",
        "\n",
        "    normalizer = Normalization()\n",
        "    normalizer.adapt(X_train)\n",
        "\n",
        "    model = models.Sequential()\n",
        "\n",
        "    model.add(normalizer)\n",
        "\n",
        "    model.add(layers.LSTM(64,\n",
        "                          activation='tanh',\n",
        "                          return_sequences = True,\n",
        "                          ))\n",
        "    model.add(layers.LSTM(32,\n",
        "                          activation='tanh',\n",
        "                          return_sequences = True\n",
        "                          ))\n",
        "    model.add(layers.LSTM(16,\n",
        "                          activation='tanh',\n",
        "                          return_sequences = False\n",
        "                          ))\n",
        "    model.add(layers.Dense(10, activation='elu'\n",
        "                           ))\n",
        "\n",
        "    model.add(layers.Dense(output_length, activation='linear'))\n",
        "\n",
        "    model.compile(loss='mse', optimizer=adam, metrics=[\"mse\",'mae','mape',smape])\n",
        "\n",
        "    return model\n"
      ]
    },
    {
      "cell_type": "markdown",
      "metadata": {
        "id": "ZC0hMdWyWebU"
      },
      "source": [
        "#### * Fit (Train) the LSTM Model function"
      ]
    },
    {
      "cell_type": "code",
      "execution_count": 23,
      "metadata": {
        "id": "Y5t5wsFJWebU"
      },
      "outputs": [],
      "source": [
        "def fit_model(model: tf.keras.Model, verbose=1) -> tuple[tf.keras.Model, dict]:\n",
        "\n",
        "    es = EarlyStopping(monitor = \"val_loss\",\n",
        "                      patience = 20,\n",
        "                      mode = \"min\",\n",
        "                      restore_best_weights = True)\n",
        "    #reduce_lr = ReduceLROnPlateau(monitor='val_loss', factor=0.2,\n",
        "                              #patience=5, min_lr=0.001)\n",
        "\n",
        "\n",
        "    history = model.fit(X_train, y_train,\n",
        "                        validation_split = 0.3,\n",
        "                        shuffle = False,\n",
        "                        batch_size = 16,\n",
        "                        epochs = 200,\n",
        "                        callbacks = [es],\n",
        "                        verbose = verbose)\n",
        "\n",
        "    return model, history\n"
      ]
    },
    {
      "cell_type": "markdown",
      "metadata": {
        "id": "tepHe3NzWebU"
      },
      "source": [
        "#### * Define the plot history function"
      ]
    },
    {
      "cell_type": "code",
      "execution_count": 24,
      "metadata": {
        "id": "Nl4RkRWnWebU"
      },
      "outputs": [],
      "source": [
        "def plot_history(history):\n",
        "\n",
        "    fig, ax = plt.subplots(1,2, figsize=(20,7))\n",
        "    ax[0].plot(history.history['loss'])\n",
        "    ax[0].plot(history.history['val_loss'])\n",
        "    ax[0].set_title('MSE')\n",
        "    ax[0].set_ylabel('Loss')\n",
        "    ax[0].set_xlabel('Epoch')\n",
        "    ax[0].legend(['Train', 'Validation'], loc='best')\n",
        "    ax[0].grid(axis=\"x\",linewidth=0.5)\n",
        "    ax[0].grid(axis=\"y\",linewidth=0.5)\n",
        "\n",
        "    ax[1].plot(history.history['mae'])\n",
        "    ax[1].plot(history.history['val_mae'])\n",
        "    ax[1].set_title('MAE')\n",
        "    ax[1].set_ylabel('MAE')\n",
        "    ax[1].set_xlabel('Epoch')\n",
        "    ax[1].legend(['Train', 'Validation'], loc='best')\n",
        "    ax[1].grid(axis=\"x\",linewidth=0.5)\n",
        "    ax[1].grid(axis=\"y\",linewidth=0.5)\n",
        "\n",
        "    return ax\n"
      ]
    },
    {
      "cell_type": "code",
      "execution_count": 25,
      "metadata": {
        "colab": {
          "base_uri": "https://localhost:8080/"
        },
        "id": "H4C53m2xWebU",
        "outputId": "2e48bd40-1555-4814-ff58-dbabf7743366"
      },
      "outputs": [
        {
          "name": "stderr",
          "output_type": "stream",
          "text": [
            "WARNING:absl:At this time, the v2.11+ optimizer `tf.keras.optimizers.Adam` runs slowly on M1/M2 Macs, please use the legacy Keras optimizer instead, located at `tf.keras.optimizers.legacy.Adam`.\n"
          ]
        },
        {
          "name": "stdout",
          "output_type": "stream",
          "text": [
            "Epoch 1/200\n",
            "1/1 [==============================] - 3s 3s/step - loss: 203045968.0000 - mse: 203045968.0000 - mae: 13988.1172 - mape: 100.0000 - smape: 200.0001 - val_loss: 131704320.0000 - val_mse: 131704320.0000 - val_mae: 10783.0264 - val_mape: 99.9979 - val_smape: 199.9916\n",
            "Epoch 2/200\n",
            "1/1 [==============================] - 0s 32ms/step - loss: 203034080.0000 - mse: 203034080.0000 - mae: 13987.7158 - mape: 99.9972 - smape: 199.9889 - val_loss: 131672792.0000 - val_mse: 131672792.0000 - val_mae: 10781.5107 - val_mape: 99.9817 - val_smape: 199.9268\n",
            "Epoch 3/200\n",
            "1/1 [==============================] - 0s 33ms/step - loss: 202993968.0000 - mse: 202993968.0000 - mae: 13986.2676 - mape: 99.9863 - smape: 199.9451 - val_loss: 131637048.0000 - val_mse: 131637048.0000 - val_mae: 10779.8330 - val_mape: 99.9641 - val_smape: 199.8565\n",
            "Epoch 4/200\n",
            "1/1 [==============================] - 0s 34ms/step - loss: 202949264.0000 - mse: 202949264.0000 - mae: 13984.6582 - mape: 99.9741 - smape: 199.8965 - val_loss: 131586920.0000 - val_mse: 131586920.0000 - val_mae: 10777.5156 - val_mape: 99.9401 - val_smape: 199.7608\n",
            "Epoch 5/200\n",
            "1/1 [==============================] - 0s 32ms/step - loss: 202885152.0000 - mse: 202885152.0000 - mae: 13982.3623 - mape: 99.9569 - smape: 199.8277 - val_loss: 131519040.0000 - val_mse: 131519040.0000 - val_mae: 10774.3799 - val_mape: 99.9077 - val_smape: 199.6313\n",
            "Epoch 6/200\n",
            "1/1 [==============================] - 0s 31ms/step - loss: 202797568.0000 - mse: 202797568.0000 - mae: 13979.2275 - mape: 99.9334 - smape: 199.7340 - val_loss: 131430976.0000 - val_mse: 131430976.0000 - val_mae: 10770.3203 - val_mape: 99.8658 - val_smape: 199.4641\n",
            "Epoch 7/200\n",
            "1/1 [==============================] - 0s 32ms/step - loss: 202683424.0000 - mse: 202683424.0000 - mae: 13975.1475 - mape: 99.9029 - smape: 199.6121 - val_loss: 131321728.0000 - val_mse: 131321728.0000 - val_mae: 10765.2744 - val_mape: 99.8137 - val_smape: 199.2562\n",
            "Epoch 8/200\n",
            "1/1 [==============================] - 0s 30ms/step - loss: 202542160.0000 - mse: 202542160.0000 - mae: 13970.0918 - mape: 99.8651 - smape: 199.4612 - val_loss: 131189248.0000 - val_mse: 131189248.0000 - val_mae: 10759.1426 - val_mape: 99.7502 - val_smape: 199.0035\n",
            "Epoch 9/200\n",
            "1/1 [==============================] - 0s 30ms/step - loss: 202370816.0000 - mse: 202370816.0000 - mae: 13963.9580 - mape: 99.8192 - smape: 199.2782 - val_loss: 131032000.0000 - val_mse: 131032000.0000 - val_mae: 10751.8545 - val_mape: 99.6747 - val_smape: 198.7035\n",
            "Epoch 10/200\n",
            "1/1 [==============================] - 0s 30ms/step - loss: 202167392.0000 - mse: 202167392.0000 - mae: 13956.6719 - mape: 99.7646 - smape: 199.0610 - val_loss: 130848744.0000 - val_mse: 130848744.0000 - val_mae: 10743.3516 - val_mape: 99.5866 - val_smape: 198.3540\n",
            "Epoch 11/200\n",
            "1/1 [==============================] - 0s 30ms/step - loss: 201930144.0000 - mse: 201930144.0000 - mae: 13948.1689 - mape: 99.7010 - smape: 198.8078 - val_loss: 130638280.0000 - val_mse: 130638280.0000 - val_mae: 10733.5762 - val_mape: 99.4853 - val_smape: 197.9528\n",
            "Epoch 12/200\n",
            "1/1 [==============================] - 0s 29ms/step - loss: 201657600.0000 - mse: 201657600.0000 - mae: 13938.3926 - mape: 99.6278 - smape: 198.5172 - val_loss: 130399456.0000 - val_mse: 130399456.0000 - val_mae: 10722.4697 - val_mape: 99.3701 - val_smape: 197.4979\n",
            "Epoch 13/200\n",
            "1/1 [==============================] - 0s 30ms/step - loss: 201348128.0000 - mse: 201348128.0000 - mae: 13927.2861 - mape: 99.5447 - smape: 198.1875 - val_loss: 130131128.0000 - val_mse: 130131128.0000 - val_mae: 10709.9756 - val_mape: 99.2406 - val_smape: 196.9874\n",
            "Epoch 14/200\n",
            "1/1 [==============================] - 0s 26ms/step - loss: 201000288.0000 - mse: 201000288.0000 - mae: 13914.7910 - mape: 99.4511 - smape: 197.8173 - val_loss: 129832232.0000 - val_mse: 129832232.0000 - val_mae: 10696.0361 - val_mape: 99.0960 - val_smape: 196.4196\n",
            "Epoch 15/200\n",
            "1/1 [==============================] - 0s 25ms/step - loss: 200612608.0000 - mse: 200612608.0000 - mae: 13900.8535 - mape: 99.3468 - smape: 197.4052 - val_loss: 129501768.0000 - val_mse: 129501768.0000 - val_mae: 10680.6025 - val_mape: 98.9359 - val_smape: 195.7928\n",
            "Epoch 16/200\n",
            "1/1 [==============================] - 0s 26ms/step - loss: 200183824.0000 - mse: 200183824.0000 - mae: 13885.4199 - mape: 99.2313 - smape: 196.9500 - val_loss: 129138776.0000 - val_mse: 129138776.0000 - val_mae: 10663.6230 - val_mape: 98.7598 - val_smape: 195.1056\n",
            "Epoch 17/200\n",
            "1/1 [==============================] - 0s 26ms/step - loss: 199712624.0000 - mse: 199712624.0000 - mae: 13868.4395 - mape: 99.1041 - smape: 196.4504 - val_loss: 128742408.0000 - val_mse: 128742408.0000 - val_mae: 10645.0479 - val_mape: 98.5671 - val_smape: 194.3567\n",
            "Epoch 18/200\n",
            "1/1 [==============================] - 0s 25ms/step - loss: 199197792.0000 - mse: 199197792.0000 - mae: 13849.8643 - mape: 98.9651 - smape: 195.9053 - val_loss: 128311784.0000 - val_mse: 128311784.0000 - val_mae: 10624.8311 - val_mape: 98.3573 - val_smape: 193.5450\n",
            "Epoch 19/200\n",
            "1/1 [==============================] - 0s 26ms/step - loss: 198638176.0000 - mse: 198638176.0000 - mae: 13829.6455 - mape: 98.8137 - smape: 195.3138 - val_loss: 127846136.0000 - val_mse: 127846136.0000 - val_mae: 10602.9209 - val_mape: 98.1299 - val_smape: 192.6694\n",
            "Epoch 20/200\n",
            "1/1 [==============================] - 0s 26ms/step - loss: 198032736.0000 - mse: 198032736.0000 - mae: 13807.7363 - mape: 98.6497 - smape: 194.6750 - val_loss: 127344712.0000 - val_mse: 127344712.0000 - val_mae: 10579.2773 - val_mape: 97.8845 - val_smape: 191.7292\n",
            "Epoch 21/200\n",
            "1/1 [==============================] - 0s 25ms/step - loss: 197380432.0000 - mse: 197380432.0000 - mae: 13784.0938 - mape: 98.4727 - smape: 193.9880 - val_loss: 126806888.0000 - val_mse: 126806888.0000 - val_mae: 10553.8555 - val_mape: 97.6207 - val_smape: 190.7237\n",
            "Epoch 22/200\n",
            "1/1 [==============================] - 0s 27ms/step - loss: 196680288.0000 - mse: 196680288.0000 - mae: 13758.6719 - mape: 98.2823 - smape: 193.2522 - val_loss: 126232024.0000 - val_mse: 126232024.0000 - val_mae: 10526.6143 - val_mape: 97.3379 - val_smape: 189.6523\n",
            "Epoch 23/200\n",
            "1/1 [==============================] - 0s 26ms/step - loss: 195931472.0000 - mse: 195931472.0000 - mae: 13731.4307 - mape: 98.0784 - smape: 192.4669 - val_loss: 125619560.0000 - val_mse: 125619560.0000 - val_mae: 10497.5127 - val_mape: 97.0359 - val_smape: 188.5147\n",
            "Epoch 24/200\n",
            "1/1 [==============================] - 0s 27ms/step - loss: 195133136.0000 - mse: 195133136.0000 - mae: 13702.3291 - mape: 97.8605 - smape: 191.6316 - val_loss: 124969056.0000 - val_mse: 124969056.0000 - val_mae: 10466.5117 - val_mape: 96.7140 - val_smape: 187.3108\n",
            "Epoch 25/200\n",
            "1/1 [==============================] - 0s 26ms/step - loss: 194284576.0000 - mse: 194284576.0000 - mae: 13671.3281 - mape: 97.6284 - smape: 190.7459 - val_loss: 124280056.0000 - val_mse: 124280056.0000 - val_mae: 10433.5752 - val_mape: 96.3721 - val_smape: 186.0405\n",
            "Epoch 26/200\n",
            "1/1 [==============================] - 0s 28ms/step - loss: 193385136.0000 - mse: 193385136.0000 - mae: 13638.3906 - mape: 97.3818 - smape: 189.8095 - val_loss: 123552232.0000 - val_mse: 123552232.0000 - val_mae: 10398.6670 - val_mape: 96.0097 - val_smape: 184.7039\n",
            "Epoch 27/200\n",
            "1/1 [==============================] - 0s 27ms/step - loss: 192434256.0000 - mse: 192434256.0000 - mae: 13603.4834 - mape: 97.1204 - smape: 188.8222 - val_loss: 122785288.0000 - val_mse: 122785288.0000 - val_mae: 10361.7549 - val_mape: 95.6265 - val_smape: 183.3014\n",
            "Epoch 28/200\n",
            "1/1 [==============================] - 0s 28ms/step - loss: 191431408.0000 - mse: 191431408.0000 - mae: 13566.5703 - mape: 96.8441 - smape: 187.7839 - val_loss: 121979008.0000 - val_mse: 121979008.0000 - val_mae: 10322.8057 - val_mape: 95.2221 - val_smape: 181.8335\n",
            "Epoch 29/200\n",
            "1/1 [==============================] - 0s 28ms/step - loss: 190376160.0000 - mse: 190376160.0000 - mae: 13527.6221 - mape: 96.5525 - smape: 186.6947 - val_loss: 121133256.0000 - val_mse: 121133256.0000 - val_mae: 10281.7891 - val_mape: 94.7962 - val_smape: 180.3008\n",
            "Epoch 30/200\n",
            "1/1 [==============================] - 0s 28ms/step - loss: 189268240.0000 - mse: 189268240.0000 - mae: 13486.6064 - mape: 96.2454 - smape: 185.5545 - val_loss: 120247976.0000 - val_mse: 120247976.0000 - val_mae: 10238.6787 - val_mape: 94.3486 - val_smape: 178.7041\n",
            "Epoch 31/200\n",
            "1/1 [==============================] - 0s 27ms/step - loss: 188107344.0000 - mse: 188107344.0000 - mae: 13443.4941 - mape: 95.9226 - smape: 184.3638 - val_loss: 119323160.0000 - val_mse: 119323160.0000 - val_mae: 10193.4463 - val_mape: 93.8790 - val_smape: 177.0444\n",
            "Epoch 32/200\n",
            "1/1 [==============================] - 0s 27ms/step - loss: 186893296.0000 - mse: 186893296.0000 - mae: 13398.2637 - mape: 95.5839 - smape: 183.1227 - val_loss: 118358880.0000 - val_mse: 118358880.0000 - val_mae: 10146.0693 - val_mape: 93.3870 - val_smape: 175.3227\n",
            "Epoch 33/200\n",
            "1/1 [==============================] - 0s 27ms/step - loss: 185626080.0000 - mse: 185626080.0000 - mae: 13350.8848 - mape: 95.2292 - smape: 181.8318 - val_loss: 117355304.0000 - val_mse: 117355304.0000 - val_mae: 10096.5234 - val_mape: 92.8725 - val_smape: 173.5402\n",
            "Epoch 34/200\n",
            "1/1 [==============================] - 0s 26ms/step - loss: 184305632.0000 - mse: 184305632.0000 - mae: 13301.3408 - mape: 94.8583 - smape: 180.4915 - val_loss: 116312648.0000 - val_mse: 116312648.0000 - val_mae: 10044.7881 - val_mape: 92.3353 - val_smape: 171.6985\n",
            "Epoch 35/200\n",
            "1/1 [==============================] - 0s 26ms/step - loss: 182932112.0000 - mse: 182932112.0000 - mae: 13249.6035 - mape: 94.4709 - smape: 179.1024 - val_loss: 115231200.0000 - val_mse: 115231200.0000 - val_mae: 9990.8447 - val_mape: 91.7751 - val_smape: 169.7989\n",
            "Epoch 36/200\n",
            "1/1 [==============================] - 0s 26ms/step - loss: 181505632.0000 - mse: 181505632.0000 - mae: 13195.6611 - mape: 94.0670 - smape: 177.6654 - val_loss: 114111360.0000 - val_mse: 114111360.0000 - val_mae: 9934.6768 - val_mape: 91.1918 - val_smape: 167.8431\n",
            "Epoch 37/200\n",
            "1/1 [==============================] - 0s 26ms/step - loss: 180026512.0000 - mse: 180026512.0000 - mae: 13139.4922 - mape: 93.6465 - smape: 176.1812 - val_loss: 112953576.0000 - val_mse: 112953576.0000 - val_mae: 9876.2666 - val_mape: 90.5852 - val_smape: 165.8329\n",
            "Epoch 38/200\n",
            "1/1 [==============================] - 0s 26ms/step - loss: 178495088.0000 - mse: 178495088.0000 - mae: 13081.0830 - mape: 93.2091 - smape: 174.6507 - val_loss: 111758376.0000 - val_mse: 111758376.0000 - val_mae: 9815.6055 - val_mape: 89.9553 - val_smape: 163.7700\n",
            "Epoch 39/200\n",
            "1/1 [==============================] - 0s 28ms/step - loss: 176911792.0000 - mse: 176911792.0000 - mae: 13020.4219 - mape: 92.7550 - smape: 173.0749 - val_loss: 110526360.0000 - val_mse: 110526360.0000 - val_mae: 9752.6787 - val_mape: 89.3017 - val_smape: 161.6565\n",
            "Epoch 40/200\n",
            "1/1 [==============================] - 0s 27ms/step - loss: 175277168.0000 - mse: 175277168.0000 - mae: 12957.4941 - mape: 92.2838 - smape: 171.4549 - val_loss: 109258184.0000 - val_mse: 109258184.0000 - val_mae: 9687.4775 - val_mape: 88.6246 - val_smape: 159.4944\n",
            "Epoch 41/200\n",
            "1/1 [==============================] - 0s 27ms/step - loss: 173591840.0000 - mse: 173591840.0000 - mae: 12892.2939 - mape: 91.7956 - smape: 169.7918 - val_loss: 107954624.0000 - val_mse: 107954624.0000 - val_mae: 9619.9951 - val_mape: 87.9237 - val_smape: 157.2858\n",
            "Epoch 42/200\n",
            "1/1 [==============================] - 0s 27ms/step - loss: 171856480.0000 - mse: 171856480.0000 - mae: 12824.8115 - mape: 91.2904 - smape: 168.0868 - val_loss: 106616472.0000 - val_mse: 106616472.0000 - val_mae: 9550.2256 - val_mape: 87.1991 - val_smape: 155.0328\n",
            "Epoch 43/200\n",
            "1/1 [==============================] - 0s 27ms/step - loss: 170071888.0000 - mse: 170071888.0000 - mae: 12755.0410 - mape: 90.7680 - smape: 166.3413 - val_loss: 105244632.0000 - val_mse: 105244632.0000 - val_mae: 9478.1650 - val_mape: 86.4507 - val_smape: 152.7377\n",
            "Epoch 44/200\n",
            "1/1 [==============================] - 0s 27ms/step - loss: 168238928.0000 - mse: 168238928.0000 - mae: 12682.9814 - mape: 90.2284 - smape: 164.5565 - val_loss: 103840064.0000 - val_mse: 103840064.0000 - val_mae: 9403.8135 - val_mape: 85.6785 - val_smape: 150.4029\n",
            "Epoch 45/200\n",
            "1/1 [==============================] - 0s 27ms/step - loss: 166358528.0000 - mse: 166358528.0000 - mae: 12608.6299 - mape: 89.6717 - smape: 162.7338 - val_loss: 102403800.0000 - val_mse: 102403800.0000 - val_mae: 9327.1689 - val_mape: 84.8824 - val_smape: 148.0306\n",
            "Epoch 46/200\n",
            "1/1 [==============================] - 0s 25ms/step - loss: 164431760.0000 - mse: 164431760.0000 - mae: 12531.9854 - mape: 89.0979 - smape: 160.8748 - val_loss: 100936920.0000 - val_mse: 100936920.0000 - val_mae: 9248.2354 - val_mape: 84.0626 - val_smape: 145.6232\n",
            "Epoch 47/200\n",
            "1/1 [==============================] - 0s 26ms/step - loss: 162459696.0000 - mse: 162459696.0000 - mae: 12453.0518 - mape: 88.5069 - smape: 158.9809 - val_loss: 99440600.0000 - val_mse: 99440600.0000 - val_mae: 9167.0156 - val_mape: 83.2190 - val_smape: 143.1832\n",
            "Epoch 48/200\n",
            "1/1 [==============================] - 0s 26ms/step - loss: 160443536.0000 - mse: 160443536.0000 - mae: 12371.8330 - mape: 87.8987 - smape: 157.0537 - val_loss: 97916032.0000 - val_mse: 97916032.0000 - val_mae: 9083.5166 - val_mape: 82.3517 - val_smape: 140.7129\n",
            "Epoch 49/200\n",
            "1/1 [==============================] - 0s 25ms/step - loss: 158384544.0000 - mse: 158384544.0000 - mae: 12288.3330 - mape: 87.2735 - smape: 155.0947 - val_loss: 96364536.0000 - val_mse: 96364536.0000 - val_mae: 8997.7451 - val_mape: 81.4609 - val_smape: 138.2147\n",
            "Epoch 50/200\n",
            "1/1 [==============================] - 0s 25ms/step - loss: 156284048.0000 - mse: 156284048.0000 - mae: 12202.5625 - mape: 86.6313 - smape: 153.1056 - val_loss: 94787432.0000 - val_mse: 94787432.0000 - val_mae: 8909.7119 - val_mape: 80.5465 - val_smape: 135.6912\n",
            "Epoch 51/200\n",
            "1/1 [==============================] - 0s 25ms/step - loss: 154143456.0000 - mse: 154143456.0000 - mae: 12114.5283 - mape: 85.9722 - smape: 151.0880 - val_loss: 93186144.0000 - val_mse: 93186144.0000 - val_mae: 8819.4268 - val_mape: 79.6087 - val_smape: 133.1447\n",
            "Epoch 52/200\n",
            "1/1 [==============================] - 0s 26ms/step - loss: 151964208.0000 - mse: 151964208.0000 - mae: 12024.2441 - mape: 85.2962 - smape: 149.0436 - val_loss: 91562104.0000 - val_mse: 91562104.0000 - val_mae: 8726.9072 - val_mape: 78.6477 - val_smape: 130.5777\n",
            "Epoch 53/200\n",
            "1/1 [==============================] - 0s 26ms/step - loss: 149747920.0000 - mse: 149747920.0000 - mae: 11931.7236 - mape: 84.6035 - smape: 146.9741 - val_loss: 89916808.0000 - val_mse: 89916808.0000 - val_mae: 8632.1641 - val_mape: 77.6636 - val_smape: 127.9924\n",
            "Epoch 54/200\n",
            "1/1 [==============================] - 0s 27ms/step - loss: 147496112.0000 - mse: 147496112.0000 - mae: 11836.9814 - mape: 83.8941 - smape: 144.8811 - val_loss: 88251848.0000 - val_mse: 88251848.0000 - val_mae: 8535.2178 - val_mape: 76.6566 - val_smape: 125.3913\n",
            "Epoch 55/200\n",
            "1/1 [==============================] - 0s 28ms/step - loss: 145210512.0000 - mse: 145210512.0000 - mae: 11740.0332 - mape: 83.1682 - smape: 142.7664 - val_loss: 86568800.0000 - val_mse: 86568800.0000 - val_mae: 8436.0850 - val_mape: 75.6269 - val_smape: 122.7768\n",
            "Epoch 56/200\n",
            "1/1 [==============================] - 0s 28ms/step - loss: 142892816.0000 - mse: 142892816.0000 - mae: 11640.9004 - mape: 82.4260 - smape: 140.6316 - val_loss: 84869336.0000 - val_mse: 84869336.0000 - val_mae: 8334.7881 - val_mape: 74.5747 - val_smape: 120.1510\n",
            "Epoch 57/200\n",
            "1/1 [==============================] - 0s 27ms/step - loss: 140544816.0000 - mse: 140544816.0000 - mae: 11539.6035 - mape: 81.6675 - smape: 138.4785 - val_loss: 83155128.0000 - val_mse: 83155128.0000 - val_mae: 8231.3486 - val_mape: 73.5002 - val_smape: 117.5163\n",
            "Epoch 58/200\n",
            "1/1 [==============================] - 0s 27ms/step - loss: 138168368.0000 - mse: 138168368.0000 - mae: 11436.1660 - mape: 80.8930 - smape: 136.3089 - val_loss: 81427912.0000 - val_mse: 81427912.0000 - val_mae: 8125.7930 - val_mape: 72.4037 - val_smape: 114.8749\n",
            "Epoch 59/200\n",
            "1/1 [==============================] - 0s 28ms/step - loss: 135765328.0000 - mse: 135765328.0000 - mae: 11330.6094 - mape: 80.1027 - smape: 134.1243 - val_loss: 79689448.0000 - val_mse: 79689448.0000 - val_mae: 8018.1460 - val_mape: 71.2855 - val_smape: 112.2289\n",
            "Epoch 60/200\n",
            "1/1 [==============================] - 0s 28ms/step - loss: 133337648.0000 - mse: 133337648.0000 - mae: 11222.9629 - mape: 79.2967 - smape: 131.9265 - val_loss: 77941544.0000 - val_mse: 77941544.0000 - val_mae: 7908.4380 - val_mape: 70.1459 - val_smape: 109.5804\n",
            "Epoch 61/200\n",
            "1/1 [==============================] - 0s 29ms/step - loss: 130887288.0000 - mse: 130887288.0000 - mae: 11113.2549 - mape: 78.4752 - smape: 129.7172 - val_loss: 76186024.0000 - val_mse: 76186024.0000 - val_mae: 7796.6968 - val_mape: 68.9852 - val_smape: 106.9315\n",
            "Epoch 62/200\n",
            "1/1 [==============================] - 0s 27ms/step - loss: 128416280.0000 - mse: 128416280.0000 - mae: 11001.5137 - mape: 77.6386 - smape: 127.4980 - val_loss: 74424736.0000 - val_mse: 74424736.0000 - val_mae: 7682.9556 - val_mape: 67.8037 - val_smape: 104.2842\n",
            "Epoch 63/200\n",
            "1/1 [==============================] - 0s 27ms/step - loss: 125926704.0000 - mse: 125926704.0000 - mae: 10887.7725 - mape: 76.7869 - smape: 125.2705 - val_loss: 72659560.0000 - val_mse: 72659560.0000 - val_mae: 7567.2485 - val_mape: 66.6017 - val_smape: 101.6403\n",
            "Epoch 64/200\n",
            "1/1 [==============================] - 0s 26ms/step - loss: 123420624.0000 - mse: 123420624.0000 - mae: 10772.0645 - mape: 75.9206 - smape: 123.0364 - val_loss: 70892408.0000 - val_mse: 70892408.0000 - val_mae: 7449.6099 - val_mape: 65.3797 - val_smape: 99.0018\n",
            "Epoch 65/200\n",
            "1/1 [==============================] - 0s 26ms/step - loss: 120900200.0000 - mse: 120900200.0000 - mae: 10654.4268 - mape: 75.0398 - smape: 120.7973 - val_loss: 69125176.0000 - val_mse: 69125176.0000 - val_mae: 7330.0796 - val_mape: 64.1380 - val_smape: 96.3705\n",
            "Epoch 66/200\n",
            "1/1 [==============================] - 0s 25ms/step - loss: 118367536.0000 - mse: 118367536.0000 - mae: 10534.8955 - mape: 74.1448 - smape: 118.5547 - val_loss: 67359784.0000 - val_mse: 67359784.0000 - val_mae: 7208.6938 - val_mape: 62.8771 - val_smape: 93.7480\n",
            "Epoch 67/200\n",
            "1/1 [==============================] - 0s 25ms/step - loss: 115824832.0000 - mse: 115824832.0000 - mae: 10413.5098 - mape: 73.2359 - smape: 116.3102 - val_loss: 65598164.0000 - val_mse: 65598164.0000 - val_mae: 7085.4961 - val_mape: 61.5973 - val_smape: 91.1361\n",
            "Epoch 68/200\n",
            "1/1 [==============================] - 0s 26ms/step - loss: 113274288.0000 - mse: 113274288.0000 - mae: 10290.3125 - mape: 72.3135 - smape: 114.0652 - val_loss: 63842284.0000 - val_mse: 63842284.0000 - val_mae: 6960.5278 - val_mape: 60.2991 - val_smape: 88.5364\n",
            "Epoch 69/200\n",
            "1/1 [==============================] - 0s 26ms/step - loss: 110718120.0000 - mse: 110718120.0000 - mae: 10165.3447 - mape: 71.3778 - smape: 111.8213 - val_loss: 62094048.0000 - val_mse: 62094048.0000 - val_mae: 6833.8359 - val_mape: 58.9830 - val_smape: 85.9504\n",
            "Epoch 70/200\n",
            "1/1 [==============================] - 0s 27ms/step - loss: 108158528.0000 - mse: 108158528.0000 - mae: 10038.6514 - mape: 70.4292 - smape: 109.5798 - val_loss: 60355412.0000 - val_mse: 60355412.0000 - val_mae: 6705.4634 - val_mape: 57.6495 - val_smape: 83.3795\n",
            "Epoch 71/200\n",
            "1/1 [==============================] - 0s 28ms/step - loss: 105597784.0000 - mse: 105597784.0000 - mae: 9910.2803 - mape: 69.4680 - smape: 107.3422 - val_loss: 58628292.0000 - val_mse: 58628292.0000 - val_mae: 6575.4624 - val_mape: 56.2990 - val_smape: 80.8252\n",
            "Epoch 72/200\n",
            "1/1 [==============================] - 0s 28ms/step - loss: 103038096.0000 - mse: 103038096.0000 - mae: 9780.2793 - mape: 68.4946 - smape: 105.1098 - val_loss: 56914628.0000 - val_mse: 56914628.0000 - val_mae: 6443.8813 - val_mape: 54.9321 - val_smape: 78.2888\n",
            "Epoch 73/200\n",
            "1/1 [==============================] - 0s 30ms/step - loss: 100481736.0000 - mse: 100481736.0000 - mae: 9648.6973 - mape: 67.5094 - smape: 102.8840 - val_loss: 55216300.0000 - val_mse: 55216300.0000 - val_mae: 6310.7729 - val_mape: 53.5493 - val_smape: 75.7716\n",
            "Epoch 74/200\n",
            "1/1 [==============================] - 0s 34ms/step - loss: 97930904.0000 - mse: 97930904.0000 - mae: 9515.5879 - mape: 66.5127 - smape: 100.6661 - val_loss: 53535200.0000 - val_mse: 53535200.0000 - val_mae: 6176.1895 - val_mape: 52.1512 - val_smape: 73.2747\n",
            "Epoch 75/200\n",
            "1/1 [==============================] - 0s 31ms/step - loss: 95387856.0000 - mse: 95387856.0000 - mae: 9381.0059 - mape: 65.5051 - smape: 98.4572 - val_loss: 51873196.0000 - val_mse: 51873196.0000 - val_mae: 6040.1875 - val_mape: 50.7384 - val_smape: 70.7994\n",
            "Epoch 76/200\n",
            "1/1 [==============================] - 0s 29ms/step - loss: 92854808.0000 - mse: 92854808.0000 - mae: 9245.0039 - mape: 64.4868 - smape: 96.2587 - val_loss: 50232124.0000 - val_mse: 50232124.0000 - val_mae: 5902.8257 - val_mape: 49.3114 - val_smape: 68.3467\n",
            "Epoch 77/200\n",
            "1/1 [==============================] - 0s 39ms/step - loss: 90333968.0000 - mse: 90333968.0000 - mae: 9107.6416 - mape: 63.4583 - smape: 94.0716 - val_loss: 48613788.0000 - val_mse: 48613788.0000 - val_mae: 5764.1616 - val_mape: 47.8709 - val_smape: 65.9176\n",
            "Epoch 78/200\n",
            "1/1 [==============================] - 0s 37ms/step - loss: 87827504.0000 - mse: 87827504.0000 - mae: 8968.9775 - mape: 62.4200 - smape: 91.8971 - val_loss: 47019956.0000 - val_mse: 47019956.0000 - val_mae: 5624.2573 - val_mape: 46.4175 - val_smape: 63.5131\n",
            "Epoch 79/200\n",
            "1/1 [==============================] - 0s 27ms/step - loss: 85337584.0000 - mse: 85337584.0000 - mae: 8829.0732 - mape: 61.3725 - smape: 89.7363 - val_loss: 45452340.0000 - val_mse: 45452340.0000 - val_mae: 5483.1743 - val_mape: 44.9519 - val_smape: 61.1341\n",
            "Epoch 80/200\n",
            "1/1 [==============================] - 0s 31ms/step - loss: 82866320.0000 - mse: 82866320.0000 - mae: 8687.9912 - mape: 60.3161 - smape: 87.5902 - val_loss: 43912668.0000 - val_mse: 43912668.0000 - val_mae: 5340.9785 - val_mape: 43.4747 - val_smape: 58.7815\n",
            "Epoch 81/200\n",
            "1/1 [==============================] - 0s 29ms/step - loss: 80415856.0000 - mse: 80415856.0000 - mae: 8545.7959 - mape: 59.2515 - smape: 85.4599 - val_loss: 42402544.0000 - val_mse: 42402544.0000 - val_mae: 5197.7358 - val_mape: 41.9866 - val_smape: 56.4560\n",
            "Epoch 82/200\n",
            "1/1 [==============================] - 0s 31ms/step - loss: 77988216.0000 - mse: 77988216.0000 - mae: 8402.5527 - mape: 58.1789 - smape: 83.3464 - val_loss: 40923572.0000 - val_mse: 40923572.0000 - val_mae: 5053.5142 - val_mape: 40.4883 - val_smape: 54.1584\n",
            "Epoch 83/200\n",
            "1/1 [==============================] - 0s 29ms/step - loss: 75585448.0000 - mse: 75585448.0000 - mae: 8258.3311 - mape: 57.0991 - smape: 81.2504 - val_loss: 39477264.0000 - val_mse: 39477264.0000 - val_mae: 4910.4780 - val_mape: 39.0167 - val_smape: 51.9252\n",
            "Epoch 84/200\n",
            "1/1 [==============================] - 0s 29ms/step - loss: 73209512.0000 - mse: 73209512.0000 - mae: 8113.1992 - mape: 56.0124 - smape: 79.1731 - val_loss: 38065116.0000 - val_mse: 38065116.0000 - val_mae: 4771.4321 - val_mape: 37.6194 - val_smape: 49.8022\n",
            "Epoch 85/200\n",
            "1/1 [==============================] - 0s 30ms/step - loss: 70862336.0000 - mse: 70862336.0000 - mae: 7967.2300 - mape: 54.9195 - smape: 77.1151 - val_loss: 36688524.0000 - val_mse: 36688524.0000 - val_mae: 4631.6558 - val_mape: 36.2147 - val_smape: 47.7067\n",
            "Epoch 86/200\n",
            "1/1 [==============================] - 0s 28ms/step - loss: 68545808.0000 - mse: 68545808.0000 - mae: 7820.4956 - mape: 53.8208 - smape: 75.0774 - val_loss: 35348820.0000 - val_mse: 35348820.0000 - val_mae: 4491.2207 - val_mape: 34.8035 - val_smape: 45.6393\n",
            "Epoch 87/200\n",
            "1/1 [==============================] - 0s 28ms/step - loss: 66261736.0000 - mse: 66261736.0000 - mae: 7673.0708 - mape: 52.7170 - smape: 73.0607 - val_loss: 34047288.0000 - val_mse: 34047288.0000 - val_mae: 4350.1997 - val_mape: 33.3863 - val_smape: 43.6005\n",
            "Epoch 88/200\n",
            "1/1 [==============================] - 0s 28ms/step - loss: 64011892.0000 - mse: 64011892.0000 - mae: 7525.0322 - mape: 51.6086 - smape: 71.0657 - val_loss: 32785118.0000 - val_mse: 32785118.0000 - val_mae: 4210.2241 - val_mape: 31.9881 - val_smape: 41.6148\n",
            "Epoch 89/200\n",
            "1/1 [==============================] - 0s 28ms/step - loss: 61797952.0000 - mse: 61797952.0000 - mae: 7376.4575 - mape: 50.4961 - smape: 69.0932 - val_loss: 31563422.0000 - val_mse: 31563422.0000 - val_mae: 4080.3877 - val_mape: 30.7477 - val_smape: 39.8185\n",
            "Epoch 90/200\n",
            "1/1 [==============================] - 0s 27ms/step - loss: 59621540.0000 - mse: 59621540.0000 - mae: 7227.4248 - mape: 49.3802 - smape: 67.1439 - val_loss: 30383238.0000 - val_mse: 30383238.0000 - val_mae: 3952.2224 - val_mape: 29.5346 - val_smape: 38.0784\n",
            "Epoch 91/200\n",
            "1/1 [==============================] - 0s 27ms/step - loss: 57484220.0000 - mse: 57484220.0000 - mae: 7078.0151 - mape: 48.2616 - smape: 65.2183 - val_loss: 29245510.0000 - val_mse: 29245510.0000 - val_mae: 3823.8069 - val_mape: 28.3191 - val_smape: 36.3643\n",
            "Epoch 92/200\n",
            "1/1 [==============================] - 0s 27ms/step - loss: 55387456.0000 - mse: 55387456.0000 - mae: 6928.3120 - mape: 47.1407 - smape: 63.3171 - val_loss: 28151102.0000 - val_mse: 28151102.0000 - val_mae: 3698.0693 - val_mape: 27.1414 - val_smape: 34.7160\n",
            "Epoch 93/200\n",
            "1/1 [==============================] - 0s 26ms/step - loss: 53332640.0000 - mse: 53332640.0000 - mae: 6778.3979 - mape: 46.0182 - smape: 61.4409 - val_loss: 27100784.0000 - val_mse: 27100784.0000 - val_mae: 3580.9541 - val_mape: 26.0833 - val_smape: 33.2129\n",
            "Epoch 94/200\n",
            "1/1 [==============================] - 0s 26ms/step - loss: 51321096.0000 - mse: 51321096.0000 - mae: 6628.3560 - mape: 44.8948 - smape: 59.5901 - val_loss: 26095230.0000 - val_mse: 26095230.0000 - val_mae: 3466.4998 - val_mape: 25.0620 - val_smape: 31.7702\n",
            "Epoch 95/200\n",
            "1/1 [==============================] - 0s 25ms/step - loss: 49354048.0000 - mse: 49354048.0000 - mae: 6478.2759 - mape: 43.7711 - smape: 57.7654 - val_loss: 25135022.0000 - val_mse: 25135022.0000 - val_mae: 3352.0791 - val_mape: 24.0411 - val_smape: 30.3508\n",
            "Epoch 96/200\n",
            "1/1 [==============================] - 0s 26ms/step - loss: 47432620.0000 - mse: 47432620.0000 - mae: 6328.2412 - mape: 42.6477 - smape: 55.9672 - val_loss: 24220646.0000 - val_mse: 24220646.0000 - val_mae: 3257.3616 - val_mape: 23.2737 - val_smape: 29.2059\n",
            "Epoch 97/200\n",
            "1/1 [==============================] - 0s 26ms/step - loss: 45557868.0000 - mse: 45557868.0000 - mae: 6178.7075 - mape: 41.5301 - smape: 54.2006 - val_loss: 23352474.0000 - val_mse: 23352474.0000 - val_mae: 3180.0989 - val_mape: 22.7302 - val_smape: 28.2997\n",
            "Epoch 98/200\n",
            "1/1 [==============================] - 0s 25ms/step - loss: 43730744.0000 - mse: 43730744.0000 - mae: 6032.0649 - mape: 40.4485 - smape: 52.4953 - val_loss: 22530784.0000 - val_mse: 22530784.0000 - val_mae: 3121.5422 - val_mape: 22.4192 - val_smape: 27.6374\n",
            "Epoch 99/200\n",
            "1/1 [==============================] - 0s 26ms/step - loss: 41952096.0000 - mse: 41952096.0000 - mae: 5889.5244 - mape: 39.4160 - smape: 50.8636 - val_loss: 21755766.0000 - val_mse: 21755766.0000 - val_mae: 3088.2966 - val_mape: 22.4201 - val_smape: 27.2929\n",
            "Epoch 100/200\n",
            "1/1 [==============================] - 0s 26ms/step - loss: 40222684.0000 - mse: 40222684.0000 - mae: 5757.7842 - mape: 38.5147 - smape: 49.3853 - val_loss: 21027482.0000 - val_mse: 21027482.0000 - val_mae: 3070.7266 - val_mape: 22.6112 - val_smape: 27.1399\n",
            "Epoch 101/200\n",
            "1/1 [==============================] - 0s 26ms/step - loss: 38543168.0000 - mse: 38543168.0000 - mae: 5629.8032 - mape: 37.6571 - smape: 47.9713 - val_loss: 20345904.0000 - val_mse: 20345904.0000 - val_mae: 3056.5264 - val_mape: 22.8418 - val_smape: 27.0260\n",
            "Epoch 102/200\n",
            "1/1 [==============================] - 0s 26ms/step - loss: 36914104.0000 - mse: 36914104.0000 - mae: 5503.0508 - mape: 36.8117 - smape: 46.5894 - val_loss: 19710898.0000 - val_mse: 19710898.0000 - val_mae: 3047.5320 - val_mape: 23.1304 - val_smape: 26.9697\n",
            "Epoch 103/200\n",
            "1/1 [==============================] - 0s 26ms/step - loss: 35335940.0000 - mse: 35335940.0000 - mae: 5376.8804 - mape: 35.9702 - smape: 45.2311 - val_loss: 19122210.0000 - val_mse: 19122210.0000 - val_mae: 3041.6311 - val_mape: 23.4525 - val_smape: 26.9457\n",
            "Epoch 104/200\n",
            "1/1 [==============================] - 0s 27ms/step - loss: 33809016.0000 - mse: 33809016.0000 - mae: 5251.3716 - mape: 35.1332 - smape: 43.8966 - val_loss: 18579500.0000 - val_mse: 18579500.0000 - val_mae: 3041.5227 - val_mape: 23.8388 - val_smape: 26.9844\n",
            "Epoch 105/200\n",
            "1/1 [==============================] - 0s 26ms/step - loss: 32333590.0000 - mse: 32333590.0000 - mae: 5126.6021 - mape: 34.3010 - smape: 42.5861 - val_loss: 18082324.0000 - val_mse: 18082324.0000 - val_mae: 3041.4133 - val_mape: 24.2226 - val_smape: 27.0189\n",
            "Epoch 106/200\n",
            "1/1 [==============================] - 0s 26ms/step - loss: 30909802.0000 - mse: 30909802.0000 - mae: 5002.6523 - mape: 33.4743 - smape: 41.3000 - val_loss: 17630118.0000 - val_mse: 17630118.0000 - val_mae: 3050.1436 - val_mape: 24.7004 - val_smape: 27.1459\n",
            "Epoch 107/200\n",
            "1/1 [==============================] - 0s 27ms/step - loss: 29537682.0000 - mse: 29537682.0000 - mae: 4879.6006 - mape: 32.6536 - smape: 40.0384 - val_loss: 17222236.0000 - val_mse: 17222236.0000 - val_mae: 3063.6316 - val_mape: 25.2274 - val_smape: 27.3191\n",
            "Epoch 108/200\n",
            "1/1 [==============================] - 0s 32ms/step - loss: 28217168.0000 - mse: 28217168.0000 - mae: 4757.5249 - mape: 31.8395 - smape: 38.8016 - val_loss: 16857924.0000 - val_mse: 16857924.0000 - val_mae: 3077.5674 - val_mape: 25.7556 - val_smape: 27.4912\n",
            "Epoch 109/200\n",
            "1/1 [==============================] - 0s 28ms/step - loss: 26948086.0000 - mse: 26948086.0000 - mae: 4636.5044 - mape: 31.0323 - smape: 37.5896 - val_loss: 16536336.0000 - val_mse: 16536336.0000 - val_mae: 3104.0549 - val_mape: 26.4103 - val_smape: 27.7868\n",
            "Epoch 110/200\n",
            "1/1 [==============================] - 0s 27ms/step - loss: 25730172.0000 - mse: 25730172.0000 - mae: 4516.7783 - mape: 30.2344 - smape: 36.4044 - val_loss: 16256529.0000 - val_mse: 16256529.0000 - val_mae: 3142.8210 - val_mape: 27.1866 - val_smape: 28.2002\n",
            "Epoch 111/200\n",
            "1/1 [==============================] - 0s 27ms/step - loss: 24563056.0000 - mse: 24563056.0000 - mae: 4404.5337 - mape: 29.5091 - smape: 35.3085 - val_loss: 16017476.0000 - val_mse: 16017476.0000 - val_mae: 3188.4749 - val_mape: 28.0287 - val_smape: 28.6743\n",
            "Epoch 112/200\n",
            "1/1 [==============================] - 0s 26ms/step - loss: 23446268.0000 - mse: 23446268.0000 - mae: 4297.3579 - mape: 28.8310 - smape: 34.2753 - val_loss: 15818056.0000 - val_mse: 15818056.0000 - val_mae: 3233.6008 - val_mape: 28.8611 - val_smape: 29.1340\n",
            "Epoch 113/200\n",
            "1/1 [==============================] - 0s 26ms/step - loss: 22379262.0000 - mse: 22379262.0000 - mae: 4194.2373 - mape: 28.1893 - smape: 33.2933 - val_loss: 15657081.0000 - val_mse: 15657081.0000 - val_mae: 3278.1707 - val_mape: 29.6832 - val_smape: 29.5796\n",
            "Epoch 114/200\n",
            "1/1 [==============================] - 0s 26ms/step - loss: 21361376.0000 - mse: 21361376.0000 - mae: 4093.2141 - mape: 27.5638 - smape: 32.3416 - val_loss: 15533279.0000 - val_mse: 15533279.0000 - val_mae: 3322.1553 - val_mape: 30.4945 - val_smape: 30.0113\n",
            "Epoch 115/200\n",
            "1/1 [==============================] - 0s 27ms/step - loss: 20391872.0000 - mse: 20391872.0000 - mae: 3993.5139 - mape: 26.9465 - smape: 31.4119 - val_loss: 15445297.0000 - val_mse: 15445297.0000 - val_mae: 3365.5283 - val_mape: 31.2945 - val_smape: 30.4294\n",
            "Epoch 116/200\n",
            "1/1 [==============================] - 0s 36ms/step - loss: 19469934.0000 - mse: 19469934.0000 - mae: 3895.1980 - mape: 26.3378 - smape: 30.5042 - val_loss: 15391739.0000 - val_mse: 15391739.0000 - val_mae: 3408.2639 - val_mape: 32.0828 - val_smape: 30.8342\n",
            "Epoch 117/200\n",
            "1/1 [==============================] - 0s 31ms/step - loss: 18594660.0000 - mse: 18594660.0000 - mae: 3798.3274 - mape: 25.7380 - smape: 29.6186 - val_loss: 15371121.0000 - val_mse: 15371121.0000 - val_mae: 3450.3359 - val_mape: 32.8588 - val_smape: 31.2258\n",
            "Epoch 118/200\n",
            "1/1 [==============================] - 0s 25ms/step - loss: 17765068.0000 - mse: 17765068.0000 - mae: 3704.9236 - mape: 25.1657 - smape: 28.7733 - val_loss: 15381929.0000 - val_mse: 15381929.0000 - val_mae: 3491.7195 - val_mape: 33.6221 - val_smape: 31.6046\n",
            "Epoch 119/200\n",
            "1/1 [==============================] - 0s 26ms/step - loss: 16980112.0000 - mse: 16980112.0000 - mae: 3613.6504 - mape: 24.6084 - smape: 27.9550 - val_loss: 15422591.0000 - val_mse: 15422591.0000 - val_mae: 3532.3909 - val_mape: 34.3722 - val_smape: 31.9708\n",
            "Epoch 120/200\n",
            "1/1 [==============================] - 0s 26ms/step - loss: 16238678.0000 - mse: 16238678.0000 - mae: 3528.9934 - mape: 24.1072 - smape: 27.2046 - val_loss: 15491493.0000 - val_mse: 15491493.0000 - val_mae: 3572.3271 - val_mape: 35.1088 - val_smape: 32.3246\n",
            "Epoch 121/200\n",
            "1/1 [==============================] - 0s 25ms/step - loss: 15539598.0000 - mse: 15539598.0000 - mae: 3450.5767 - mape: 23.6579 - smape: 26.5166 - val_loss: 15586992.0000 - val_mse: 15586992.0000 - val_mae: 3611.5076 - val_mape: 35.8314 - val_smape: 32.6663\n",
            "Epoch 122/200\n",
            "1/1 [==============================] - 0s 24ms/step - loss: 14881629.0000 - mse: 14881629.0000 - mae: 3376.4497 - mape: 23.2421 - smape: 25.8724 - val_loss: 15707416.0000 - val_mse: 15707416.0000 - val_mae: 3649.9102 - val_mape: 36.5397 - val_smape: 32.9961\n",
            "Epoch 123/200\n",
            "1/1 [==============================] - 0s 24ms/step - loss: 14263507.0000 - mse: 14263507.0000 - mae: 3305.8450 - mape: 22.8530 - smape: 25.2644 - val_loss: 15851077.0000 - val_mse: 15851077.0000 - val_mae: 3687.5176 - val_mape: 37.2333 - val_smape: 33.3142\n",
            "Epoch 124/200\n",
            "1/1 [==============================] - 0s 25ms/step - loss: 13683913.0000 - mse: 13683913.0000 - mae: 3236.9595 - mape: 22.4742 - smape: 24.6759 - val_loss: 16016264.0000 - val_mse: 16016264.0000 - val_mae: 3724.3096 - val_mape: 37.9119 - val_smape: 33.6210\n",
            "Epoch 125/200\n",
            "1/1 [==============================] - 0s 25ms/step - loss: 13141479.0000 - mse: 13141479.0000 - mae: 3171.5637 - mape: 22.1208 - smape: 24.1218 - val_loss: 16201272.0000 - val_mse: 16201272.0000 - val_mae: 3760.2708 - val_mape: 38.5751 - val_smape: 33.9166\n",
            "Epoch 126/200\n",
            "1/1 [==============================] - 0s 24ms/step - loss: 12634825.0000 - mse: 12634825.0000 - mae: 3107.6421 - mape: 21.7754 - smape: 23.5842 - val_loss: 16404397.0000 - val_mse: 16404397.0000 - val_mae: 3795.3860 - val_mape: 39.2227 - val_smape: 34.2013\n",
            "Epoch 127/200\n",
            "1/1 [==============================] - 0s 25ms/step - loss: 12162539.0000 - mse: 12162539.0000 - mae: 3049.7263 - mape: 21.4768 - smape: 23.1017 - val_loss: 16623939.0000 - val_mse: 16623939.0000 - val_mae: 3829.6414 - val_mape: 39.8544 - val_smape: 34.4754\n",
            "Epoch 128/200\n",
            "1/1 [==============================] - 0s 26ms/step - loss: 11723185.0000 - mse: 11723185.0000 - mae: 2995.2019 - mape: 21.2024 - smape: 22.6510 - val_loss: 16858208.0000 - val_mse: 16858208.0000 - val_mae: 3863.0227 - val_mape: 40.4700 - val_smape: 34.7390\n",
            "Epoch 129/200\n",
            "1/1 [==============================] - 0s 25ms/step - loss: 11315325.0000 - mse: 11315325.0000 - mae: 2942.0691 - mape: 20.9349 - smape: 22.2147 - val_loss: 17105558.0000 - val_mse: 17105558.0000 - val_mae: 3895.5215 - val_mape: 41.0693 - val_smape: 34.9925\n",
            "Epoch 130/200\n",
            "1/1 [==============================] - 0s 33ms/step - loss: 10937506.0000 - mse: 10937506.0000 - mae: 2890.3442 - mape: 20.6746 - smape: 21.7927 - val_loss: 17364352.0000 - val_mse: 17364352.0000 - val_mae: 3927.1270 - val_mape: 41.6522 - val_smape: 35.2359\n",
            "Epoch 131/200\n",
            "1/1 [==============================] - 0s 43ms/step - loss: 10588286.0000 - mse: 10588286.0000 - mae: 2840.0432 - mape: 20.4214 - smape: 21.3849 - val_loss: 17632994.0000 - val_mse: 17632994.0000 - val_mae: 3957.8320 - val_mape: 42.2184 - val_smape: 35.4697\n",
            "Epoch 132/200\n",
            "1/1 [==============================] - 0s 26ms/step - loss: 10266211.0000 - mse: 10266211.0000 - mae: 2791.1770 - mape: 20.1755 - smape: 20.9912 - val_loss: 17909938.0000 - val_mse: 17909938.0000 - val_mae: 3987.6296 - val_mape: 42.7678 - val_smape: 35.6940\n",
            "Epoch 133/200\n",
            "1/1 [==============================] - 0s 25ms/step - loss: 9969857.0000 - mse: 9969857.0000 - mae: 2744.6362 - mape: 19.9439 - smape: 20.6184 - val_loss: 18193674.0000 - val_mse: 18193674.0000 - val_mae: 4016.5159 - val_mape: 43.3005 - val_smape: 35.9091\n",
            "Epoch 134/200\n",
            "1/1 [==============================] - 0s 26ms/step - loss: 9697806.0000 - mse: 9697806.0000 - mae: 2702.1775 - mape: 19.7408 - smape: 20.2804 - val_loss: 18482748.0000 - val_mse: 18482748.0000 - val_mae: 4044.4875 - val_mape: 43.8162 - val_smape: 36.1151\n",
            "Epoch 135/200\n",
            "1/1 [==============================] - 0s 25ms/step - loss: 9448658.0000 - mse: 9448658.0000 - mae: 2661.0630 - mape: 19.5441 - smape: 19.9549 - val_loss: 18775762.0000 - val_mse: 18775762.0000 - val_mae: 4071.5427 - val_mape: 44.3151 - val_smape: 36.3123\n",
            "Epoch 136/200\n",
            "1/1 [==============================] - 0s 25ms/step - loss: 9221050.0000 - mse: 9221050.0000 - mae: 2622.8689 - mape: 19.3665 - smape: 19.6543 - val_loss: 19071386.0000 - val_mse: 19071386.0000 - val_mae: 4097.6831 - val_mape: 44.7970 - val_smape: 36.5011\n",
            "Epoch 137/200\n",
            "1/1 [==============================] - 0s 36ms/step - loss: 9013639.0000 - mse: 9013639.0000 - mae: 2585.9788 - mape: 19.1951 - smape: 19.3654 - val_loss: 19368342.0000 - val_mse: 19368342.0000 - val_mae: 4122.9087 - val_mape: 45.2621 - val_smape: 36.6814\n"
          ]
        }
      ],
      "source": [
        "model = init_model(X_train, y_train)\n",
        "\n",
        "model, history = fit_model(model)\n"
      ]
    },
    {
      "cell_type": "code",
      "execution_count": 26,
      "metadata": {
        "colab": {
          "base_uri": "https://localhost:8080/",
          "height": 312
        },
        "id": "SY9oLnDKWebV",
        "outputId": "dc7ce3f0-c75b-4086-a571-f06c8271b463"
      },
      "outputs": [
        {
          "data": {
            "text/plain": [
              "array([<Axes: title={'center': 'MSE'}, xlabel='Epoch', ylabel='Loss'>,\n",
              "       <Axes: title={'center': 'MAE'}, xlabel='Epoch', ylabel='MAE'>],\n",
              "      dtype=object)"
            ]
          },
          "execution_count": 26,
          "metadata": {},
          "output_type": "execute_result"
        },
        {
          "data": {
            "image/png": "[encoded data removed]",
            "text/plain": [
              "<Figure size 2000x700 with 2 Axes>"
            ]
          },
          "metadata": {},
          "output_type": "display_data"
        }
      ],
      "source": [
        "plot_history(history)\n"
      ]
    },
    {
      "cell_type": "code",
      "execution_count": 27,
      "metadata": {
        "colab": {
          "base_uri": "https://localhost:8080/"
        },
        "id": "H-2hKhXuWebV",
        "outputId": "20870ef9-c3a1-4cbc-fa03-fed44bca8f5f"
      },
      "outputs": [
        {
          "name": "stdout",
          "output_type": "stream",
          "text": [
            "1/1 [==============================] - 0s 17ms/step - loss: 586784.1250 - mse: 586784.1250 - mae: 588.2360 - mape: 5.0536 - smape: 5.2470\n"
          ]
        },
        {
          "data": {
            "text/plain": [
              "[586784.125,\n",
              " 586784.125,\n",
              " 588.2360229492188,\n",
              " 5.053607940673828,\n",
              " 5.247045516967773]"
            ]
          },
          "execution_count": 27,
          "metadata": {},
          "output_type": "execute_result"
        }
      ],
      "source": [
        "res = model.evaluate(X_test,y_test)\n",
        "res\n"
      ]
    },
    {
      "cell_type": "code",
      "execution_count": 28,
      "metadata": {
        "colab": {
          "base_uri": "https://localhost:8080/"
        },
        "id": "QRDv9VTYMhsa",
        "outputId": "077fedf7-9518-4b3b-cb28-c3c3bd35f420"
      },
      "outputs": [
        {
          "name": "stdout",
          "output_type": "stream",
          "text": [
            "Improvement over baseline model is 35.40258881098829 %\n"
          ]
        }
      ],
      "source": [
        "print(f'Improvement over baseline model is {((baseline_score[0] - res[2])/baseline_score[0])*100} %')\n"
      ]
    },
    {
      "cell_type": "code",
      "execution_count": 29,
      "metadata": {
        "colab": {
          "base_uri": "https://localhost:8080/"
        },
        "id": "58zm3zuVm8Hs",
        "outputId": "949ea6e8-e116-44d6-8525-b0df7e44f467"
      },
      "outputs": [
        {
          "data": {
            "text/plain": [
              "((4, 7, 14), (20, 7, 14), (4, 7), (20, 7))"
            ]
          },
          "execution_count": 29,
          "metadata": {},
          "output_type": "execute_result"
        }
      ],
      "source": [
        "X_test.shape , X_train.shape, y_test.shape, y_train.shape\n"
      ]
    },
    {
      "cell_type": "code",
      "execution_count": 30,
      "metadata": {
        "colab": {
          "base_uri": "https://localhost:8080/"
        },
        "id": "Wmgqm_lzQdbP",
        "outputId": "cbca9bd6-e765-49c4-9401-32f68701c63a"
      },
      "outputs": [
        {
          "name": "stdout",
          "output_type": "stream",
          "text": [
            "1/1 [==============================] - 1s 566ms/step\n"
          ]
        },
        {
          "data": {
            "text/plain": [
              "0    146.039062\n",
              "1    146.038086\n",
              "2    146.038086\n",
              "3    146.039062\n",
              "Name: diff, dtype: float32"
            ]
          },
          "execution_count": 30,
          "metadata": {},
          "output_type": "execute_result"
        }
      ],
      "source": [
        "pf = pd.DataFrame(model.predict(X_test))   #, y_test[2]\n",
        "pf['diff'] = pf.iloc[:][OUTPUT_LENGTH - 1] - pf.iloc[:][0]\n",
        "pf['diff']\n"
      ]
    },
    {
      "cell_type": "markdown",
      "metadata": {
        "id": "pwxLskyinPI9"
      },
      "source": [
        "Did the model predict the correct movement up or down at the end of the forecast?"
      ]
    },
    {
      "cell_type": "code",
      "execution_count": 31,
      "metadata": {
        "colab": {
          "base_uri": "https://localhost:8080/"
        },
        "id": "4DrdBvTL_hni",
        "outputId": "f889e511-ba33-4340-8a8d-2b7d58ad1ed2"
      },
      "outputs": [],
      "source": [
        "def end_of_forecast_predictions():\n",
        "    TP = 0\n",
        "    TN = 0\n",
        "    FP = 0\n",
        "    FN = 0\n",
        "\n",
        "    for j in range(y_test.shape[0]):\n",
        "        if model.predict(X_test)[j][-1] > model.predict(X_test)[j][0] and y_test[j][-1] > y_test[j][0]:\n",
        "            TP += 1\n",
        "        if model.predict(X_test)[j][-1] < model.predict(X_test)[j][0] and y_test[j][-1] < y_test[j][0]:\n",
        "            TN += 1\n",
        "        if model.predict(X_test)[j][-1] > model.predict(X_test)[j][0] and y_test[j][-1] < y_test[j][0]:\n",
        "            FP += 1\n",
        "        if model.predict(X_test)[j][-1] < model.predict(X_test)[j][0] and y_test[j][-1] > y_test[j][0]:\n",
        "            FN += 1\n",
        "    matrix = pd.DataFrame(np.array([[TN,FP],[FN,TP]]),index = ['Actual down','Actual up'])\n",
        "\n",
        "    matrix.columns=['Predicted down','Predicted up']\n",
        "\n",
        "\n",
        "    print (f'Accuracy = {100 * (TP + TN)/(TP + TN + FP + FN)} %')\n",
        "    print (f'Precision = {100 * TP /(TP + FP)} %')\n",
        "    print (f'Recall = {100 * TP /(TP + FN)} %')\n",
        "    print (f'f1 Score -  = {(2 * (TP /(TP + FP)) * (TP /(TP + FN))) / ((TP /(TP + FP)) + (TP /(TP + FN)))}')\n",
        "\n",
        "    return matrix\n"
      ]
    },
    {
      "cell_type": "code",
      "execution_count": 32,
      "metadata": {
        "colab": {
          "base_uri": "https://localhost:8080/",
          "height": 125
        },
        "id": "jaOuvD0A_keV",
        "outputId": "bffd82f2-8e51-4c54-9fd8-df9d3934e5ee"
      },
      "outputs": [
        {
          "name": "stdout",
          "output_type": "stream",
          "text": [
            "1/1 [==============================] - 0s 14ms/step\n",
            "1/1 [==============================] - 0s 14ms/step\n",
            "1/1 [==============================] - 0s 14ms/step\n",
            "1/1 [==============================] - 0s 14ms/step\n",
            "1/1 [==============================] - 0s 14ms/step\n",
            "1/1 [==============================] - 0s 15ms/step\n",
            "1/1 [==============================] - 0s 14ms/step\n",
            "1/1 [==============================] - 0s 15ms/step\n",
            "1/1 [==============================] - 0s 13ms/step\n",
            "1/1 [==============================] - 0s 14ms/step\n",
            "1/1 [==============================] - 0s 13ms/step\n",
            "1/1 [==============================] - 0s 13ms/step\n",
            "1/1 [==============================] - 0s 13ms/step\n",
            "1/1 [==============================] - 0s 13ms/step\n",
            "1/1 [==============================] - 0s 13ms/step\n",
            "1/1 [==============================] - 0s 13ms/step\n",
            "1/1 [==============================] - 0s 18ms/step\n",
            "1/1 [==============================] - 0s 13ms/step\n",
            "1/1 [==============================] - 0s 14ms/step\n",
            "1/1 [==============================] - 0s 13ms/step\n",
            "1/1 [==============================] - 0s 13ms/step\n",
            "1/1 [==============================] - 0s 14ms/step\n",
            "1/1 [==============================] - 0s 14ms/step\n",
            "1/1 [==============================] - 0s 14ms/step\n",
            "1/1 [==============================] - 0s 14ms/step\n",
            "1/1 [==============================] - 0s 14ms/step\n",
            "1/1 [==============================] - 0s 14ms/step\n",
            "1/1 [==============================] - 0s 14ms/step\n",
            "1/1 [==============================] - 0s 13ms/step\n",
            "1/1 [==============================] - 0s 17ms/step\n",
            "1/1 [==============================] - 0s 15ms/step\n",
            "1/1 [==============================] - 0s 14ms/step\n",
            "Accuracy = 25.0 %\n",
            "Precision = 25.0 %\n",
            "Recall = 100.0 %\n",
            "f1 Score -  = 0.4\n"
          ]
        },
        {
          "data": {
            "text/html": [
              "<div>\n",
              "<style scoped>\n",
              "    .dataframe tbody tr th:only-of-type {\n",
              "        vertical-align: middle;\n",
              "    }\n",
              "\n",
              "    .dataframe tbody tr th {\n",
              "        vertical-align: top;\n",
              "    }\n",
              "\n",
              "    .dataframe thead th {\n",
              "        text-align: right;\n",
              "    }\n",
              "</style>\n",
              "<table border=\"1\" class=\"dataframe\">\n",
              "  <thead>\n",
              "    <tr style=\"text-align: right;\">\n",
              "      <th></th>\n",
              "      <th>Predicted down</th>\n",
              "      <th>Predicted up</th>\n",
              "    </tr>\n",
              "  </thead>\n",
              "  <tbody>\n",
              "    <tr>\n",
              "      <th>Actual down</th>\n",
              "      <td>0</td>\n",
              "      <td>3</td>\n",
              "    </tr>\n",
              "    <tr>\n",
              "      <th>Actual up</th>\n",
              "      <td>0</td>\n",
              "      <td>1</td>\n",
              "    </tr>\n",
              "  </tbody>\n",
              "</table>\n",
              "</div>"
            ],
            "text/plain": [
              "             Predicted down  Predicted up\n",
              "Actual down               0             3\n",
              "Actual up                 0             1"
            ]
          },
          "execution_count": 32,
          "metadata": {},
          "output_type": "execute_result"
        }
      ],
      "source": [
        "end_of_forecast_predictions()\n"
      ]
    },
    {
      "cell_type": "markdown",
      "metadata": {
        "id": "KDQlVJFhnAjZ"
      },
      "source": [
        "How many total correct movements did\n",
        "it predict day to day?"
      ]
    },
    {
      "cell_type": "code",
      "execution_count": 33,
      "metadata": {
        "colab": {
          "base_uri": "https://localhost:8080/"
        },
        "id": "BOU8Bb20zR3i",
        "outputId": "94a5596f-e466-4baa-9a2e-5a0307ff2290"
      },
      "outputs": [],
      "source": [
        "def daily_movenemt_predictions():\n",
        "    TPD = 0\n",
        "    TND = 0\n",
        "    FPD = 0\n",
        "    FND = 0\n",
        "    for j in range(y_test.shape[0]):\n",
        "        for i in range(y_test.shape[1]-1):\n",
        "            if (model.predict(X_test)[j][i+1] > model.predict(X_test)[j][i] and y_test[j][i+1] > y_test[j][i]):\n",
        "                TPD +=1\n",
        "            if (model.predict(X_test)[j][i+1] < model.predict(X_test)[j][i] and y_test[j][i+1] < y_test[j][i]):\n",
        "                TND +=1\n",
        "            if (model.predict(X_test)[j][i+1] > model.predict(X_test)[j][i] and y_test[j][i+1] < y_test[j][i]):\n",
        "                FPD +=1\n",
        "            if (model.predict(X_test)[j][i+1] < model.predict(X_test)[j][i] and y_test[j][i+1] > y_test[j][i]):\n",
        "                FND +=1\n",
        "\n",
        "    matrix2 = pd.DataFrame(np.array([[TND,FPD],[FND,TPD]]),index = ['Actual down daily','Actual up daily'])\n",
        "\n",
        "    matrix2.columns=['Predicted down daily','Predicted up daily']\n",
        "\n",
        "    print (f'Accuracy (Daily) = {100 * (TPD + TND)/(TPD + TND + FPD + FND)} %')\n",
        "    print (f'Precision (Daily) = {100 * TPD /(TPD + FPD)} %')\n",
        "    print (f'Recall (Daily) = {100 * TPD /(TPD + FND)} %')\n",
        "    print (f'f1 Score (Daily) = {(2 * (TPD /(TPD + FPD)) * (TPD /(TPD + FND))) / ((TPD /(TPD + FPD)) + (TPD /(TPD + FND)))}')\n",
        "\n",
        "    return matrix2\n"
      ]
    },
    {
      "cell_type": "code",
      "execution_count": 34,
      "metadata": {
        "colab": {
          "base_uri": "https://localhost:8080/",
          "height": 125
        },
        "id": "kMSPlejYvDkc",
        "outputId": "a8b7e151-5dd2-4595-965c-25c10eafd74b"
      },
      "outputs": [
        {
          "name": "stdout",
          "output_type": "stream",
          "text": [
            "1/1 [==============================] - 0s 14ms/step\n",
            "1/1 [==============================] - 0s 14ms/step\n",
            "1/1 [==============================] - 0s 14ms/step\n",
            "1/1 [==============================] - 0s 13ms/step\n",
            "1/1 [==============================] - 0s 14ms/step\n",
            "1/1 [==============================] - 0s 27ms/step\n",
            "1/1 [==============================] - 0s 13ms/step\n",
            "1/1 [==============================] - 0s 13ms/step\n",
            "1/1 [==============================] - 0s 13ms/step\n",
            "1/1 [==============================] - 0s 13ms/step\n",
            "1/1 [==============================] - 0s 13ms/step\n",
            "1/1 [==============================] - 0s 14ms/step\n",
            "1/1 [==============================] - 0s 13ms/step\n",
            "1/1 [==============================] - 0s 14ms/step\n",
            "1/1 [==============================] - 0s 13ms/step\n",
            "1/1 [==============================] - 0s 13ms/step\n",
            "1/1 [==============================] - 0s 13ms/step\n",
            "1/1 [==============================] - 0s 13ms/step\n",
            "1/1 [==============================] - 0s 13ms/step\n",
            "1/1 [==============================] - 0s 13ms/step\n",
            "1/1 [==============================] - 0s 13ms/step\n",
            "1/1 [==============================] - 0s 13ms/step\n",
            "1/1 [==============================] - 0s 13ms/step\n",
            "1/1 [==============================] - 0s 14ms/step\n",
            "1/1 [==============================] - 0s 13ms/step\n",
            "1/1 [==============================] - 0s 14ms/step\n",
            "1/1 [==============================] - 0s 13ms/step\n",
            "1/1 [==============================] - 0s 13ms/step\n",
            "1/1 [==============================] - 0s 13ms/step\n",
            "1/1 [==============================] - 0s 13ms/step\n",
            "1/1 [==============================] - 0s 13ms/step\n",
            "1/1 [==============================] - 0s 13ms/step\n",
            "1/1 [==============================] - 0s 13ms/step\n",
            "1/1 [==============================] - 0s 13ms/step\n",
            "1/1 [==============================] - 0s 13ms/step\n",
            "1/1 [==============================] - 0s 13ms/step\n",
            "1/1 [==============================] - 0s 13ms/step\n",
            "1/1 [==============================] - 0s 14ms/step\n",
            "1/1 [==============================] - 0s 13ms/step\n",
            "1/1 [==============================] - 0s 13ms/step\n",
            "1/1 [==============================] - 0s 13ms/step\n",
            "1/1 [==============================] - 0s 13ms/step\n",
            "1/1 [==============================] - 0s 13ms/step\n",
            "1/1 [==============================] - 0s 14ms/step\n",
            "1/1 [==============================] - 0s 19ms/step\n",
            "1/1 [==============================] - 0s 13ms/step\n",
            "1/1 [==============================] - 0s 13ms/step\n",
            "1/1 [==============================] - 0s 13ms/step\n",
            "1/1 [==============================] - 0s 13ms/step\n",
            "1/1 [==============================] - 0s 13ms/step\n",
            "1/1 [==============================] - 0s 15ms/step\n",
            "1/1 [==============================] - 0s 15ms/step\n",
            "1/1 [==============================] - 0s 14ms/step\n",
            "1/1 [==============================] - 0s 14ms/step\n",
            "1/1 [==============================] - 0s 13ms/step\n",
            "1/1 [==============================] - 0s 15ms/step\n",
            "1/1 [==============================] - 0s 13ms/step\n",
            "1/1 [==============================] - 0s 14ms/step\n",
            "1/1 [==============================] - 0s 14ms/step\n",
            "1/1 [==============================] - 0s 14ms/step\n",
            "1/1 [==============================] - 0s 13ms/step\n",
            "1/1 [==============================] - 0s 13ms/step\n",
            "1/1 [==============================] - 0s 32ms/step\n",
            "1/1 [==============================] - 0s 14ms/step\n",
            "1/1 [==============================] - 0s 14ms/step\n",
            "1/1 [==============================] - 0s 14ms/step\n",
            "1/1 [==============================] - 0s 14ms/step\n",
            "1/1 [==============================] - 0s 14ms/step\n",
            "1/1 [==============================] - 0s 16ms/step\n",
            "1/1 [==============================] - 0s 14ms/step\n",
            "1/1 [==============================] - 0s 14ms/step\n",
            "1/1 [==============================] - 0s 13ms/step\n",
            "1/1 [==============================] - 0s 13ms/step\n",
            "1/1 [==============================] - 0s 14ms/step\n",
            "1/1 [==============================] - 0s 14ms/step\n",
            "1/1 [==============================] - 0s 14ms/step\n",
            "1/1 [==============================] - 0s 14ms/step\n",
            "1/1 [==============================] - 0s 14ms/step\n",
            "1/1 [==============================] - 0s 14ms/step\n",
            "1/1 [==============================] - 0s 14ms/step\n",
            "1/1 [==============================] - 0s 14ms/step\n",
            "1/1 [==============================] - 0s 14ms/step\n",
            "1/1 [==============================] - 0s 14ms/step\n",
            "1/1 [==============================] - 0s 14ms/step\n",
            "1/1 [==============================] - 0s 14ms/step\n",
            "1/1 [==============================] - 0s 13ms/step\n",
            "1/1 [==============================] - 0s 14ms/step\n",
            "1/1 [==============================] - 0s 14ms/step\n",
            "1/1 [==============================] - 0s 13ms/step\n",
            "1/1 [==============================] - 0s 13ms/step\n",
            "1/1 [==============================] - 0s 14ms/step\n",
            "1/1 [==============================] - 0s 14ms/step\n",
            "1/1 [==============================] - 0s 14ms/step\n",
            "1/1 [==============================] - 0s 14ms/step\n",
            "1/1 [==============================] - 0s 14ms/step\n",
            "1/1 [==============================] - 0s 14ms/step\n",
            "1/1 [==============================] - 0s 14ms/step\n",
            "1/1 [==============================] - 0s 14ms/step\n",
            "1/1 [==============================] - 0s 13ms/step\n",
            "1/1 [==============================] - 0s 13ms/step\n",
            "1/1 [==============================] - 0s 13ms/step\n",
            "1/1 [==============================] - 0s 12ms/step\n",
            "1/1 [==============================] - 0s 13ms/step\n",
            "1/1 [==============================] - 0s 13ms/step\n",
            "1/1 [==============================] - 0s 14ms/step\n",
            "1/1 [==============================] - 0s 14ms/step\n",
            "1/1 [==============================] - 0s 14ms/step\n",
            "1/1 [==============================] - 0s 13ms/step\n",
            "1/1 [==============================] - 0s 14ms/step\n",
            "1/1 [==============================] - 0s 14ms/step\n",
            "1/1 [==============================] - 0s 13ms/step\n",
            "1/1 [==============================] - 0s 14ms/step\n",
            "1/1 [==============================] - 0s 14ms/step\n",
            "1/1 [==============================] - 0s 14ms/step\n",
            "1/1 [==============================] - 0s 23ms/step\n",
            "1/1 [==============================] - 0s 13ms/step\n",
            "1/1 [==============================] - 0s 13ms/step\n",
            "1/1 [==============================] - 0s 14ms/step\n",
            "1/1 [==============================] - 0s 13ms/step\n",
            "1/1 [==============================] - 0s 13ms/step\n",
            "1/1 [==============================] - 0s 13ms/step\n",
            "1/1 [==============================] - 0s 13ms/step\n",
            "1/1 [==============================] - 0s 13ms/step\n",
            "1/1 [==============================] - 0s 13ms/step\n",
            "1/1 [==============================] - 0s 13ms/step\n",
            "1/1 [==============================] - 0s 13ms/step\n",
            "1/1 [==============================] - 0s 13ms/step\n",
            "1/1 [==============================] - 0s 13ms/step\n",
            "1/1 [==============================] - 0s 13ms/step\n",
            "1/1 [==============================] - 0s 14ms/step\n",
            "1/1 [==============================] - 0s 14ms/step\n",
            "1/1 [==============================] - 0s 14ms/step\n",
            "1/1 [==============================] - 0s 14ms/step\n",
            "1/1 [==============================] - 0s 14ms/step\n",
            "1/1 [==============================] - 0s 14ms/step\n",
            "1/1 [==============================] - 0s 14ms/step\n",
            "1/1 [==============================] - 0s 13ms/step\n",
            "1/1 [==============================] - 0s 14ms/step\n",
            "1/1 [==============================] - 0s 13ms/step\n",
            "1/1 [==============================] - 0s 14ms/step\n",
            "1/1 [==============================] - 0s 14ms/step\n",
            "1/1 [==============================] - 0s 13ms/step\n",
            "1/1 [==============================] - 0s 15ms/step\n",
            "1/1 [==============================] - 0s 15ms/step\n",
            "1/1 [==============================] - 0s 14ms/step\n",
            "1/1 [==============================] - 0s 14ms/step\n",
            "1/1 [==============================] - 0s 13ms/step\n",
            "1/1 [==============================] - 0s 14ms/step\n",
            "1/1 [==============================] - 0s 13ms/step\n",
            "1/1 [==============================] - 0s 13ms/step\n",
            "1/1 [==============================] - 0s 13ms/step\n",
            "1/1 [==============================] - 0s 13ms/step\n",
            "1/1 [==============================] - 0s 13ms/step\n",
            "1/1 [==============================] - 0s 13ms/step\n",
            "1/1 [==============================] - 0s 13ms/step\n",
            "1/1 [==============================] - 0s 13ms/step\n",
            "1/1 [==============================] - 0s 13ms/step\n",
            "1/1 [==============================] - 0s 13ms/step\n",
            "1/1 [==============================] - 0s 13ms/step\n",
            "1/1 [==============================] - 0s 13ms/step\n",
            "1/1 [==============================] - 0s 14ms/step\n",
            "1/1 [==============================] - 0s 14ms/step\n",
            "1/1 [==============================] - 0s 15ms/step\n",
            "1/1 [==============================] - 0s 14ms/step\n",
            "1/1 [==============================] - 0s 14ms/step\n",
            "1/1 [==============================] - 0s 13ms/step\n",
            "1/1 [==============================] - 0s 13ms/step\n",
            "1/1 [==============================] - 0s 13ms/step\n",
            "1/1 [==============================] - 0s 14ms/step\n",
            "1/1 [==============================] - 0s 14ms/step\n",
            "1/1 [==============================] - 0s 13ms/step\n",
            "1/1 [==============================] - 0s 13ms/step\n",
            "1/1 [==============================] - 0s 13ms/step\n",
            "1/1 [==============================] - 0s 13ms/step\n",
            "1/1 [==============================] - 0s 13ms/step\n",
            "1/1 [==============================] - 0s 13ms/step\n",
            "1/1 [==============================] - 0s 13ms/step\n",
            "1/1 [==============================] - 0s 13ms/step\n",
            "1/1 [==============================] - 0s 13ms/step\n",
            "1/1 [==============================] - 0s 12ms/step\n",
            "1/1 [==============================] - 0s 13ms/step\n",
            "1/1 [==============================] - 0s 13ms/step\n",
            "1/1 [==============================] - 0s 13ms/step\n",
            "1/1 [==============================] - 0s 13ms/step\n",
            "1/1 [==============================] - 0s 12ms/step\n",
            "1/1 [==============================] - 0s 13ms/step\n",
            "1/1 [==============================] - 0s 14ms/step\n",
            "1/1 [==============================] - 0s 13ms/step\n",
            "1/1 [==============================] - 0s 13ms/step\n",
            "1/1 [==============================] - 0s 13ms/step\n",
            "1/1 [==============================] - 0s 13ms/step\n",
            "1/1 [==============================] - 0s 13ms/step\n",
            "Accuracy (Daily) = 45.833333333333336 %\n",
            "Precision (Daily) = 50.0 %\n",
            "Recall (Daily) = 61.53846153846154 %\n",
            "f1 Score (Daily) = 0.5517241379310345\n"
          ]
        },
        {
          "data": {
            "text/html": [
              "<div>\n",
              "<style scoped>\n",
              "    .dataframe tbody tr th:only-of-type {\n",
              "        vertical-align: middle;\n",
              "    }\n",
              "\n",
              "    .dataframe tbody tr th {\n",
              "        vertical-align: top;\n",
              "    }\n",
              "\n",
              "    .dataframe thead th {\n",
              "        text-align: right;\n",
              "    }\n",
              "</style>\n",
              "<table border=\"1\" class=\"dataframe\">\n",
              "  <thead>\n",
              "    <tr style=\"text-align: right;\">\n",
              "      <th></th>\n",
              "      <th>Predicted down daily</th>\n",
              "      <th>Predicted up daily</th>\n",
              "    </tr>\n",
              "  </thead>\n",
              "  <tbody>\n",
              "    <tr>\n",
              "      <th>Actual down daily</th>\n",
              "      <td>3</td>\n",
              "      <td>8</td>\n",
              "    </tr>\n",
              "    <tr>\n",
              "      <th>Actual up daily</th>\n",
              "      <td>5</td>\n",
              "      <td>8</td>\n",
              "    </tr>\n",
              "  </tbody>\n",
              "</table>\n",
              "</div>"
            ],
            "text/plain": [
              "                   Predicted down daily  Predicted up daily\n",
              "Actual down daily                     3                   8\n",
              "Actual up daily                       5                   8"
            ]
          },
          "execution_count": 34,
          "metadata": {},
          "output_type": "execute_result"
        }
      ],
      "source": [
        "daily_movenemt_predictions()\n"
      ]
    },
    {
      "cell_type": "markdown",
      "metadata": {
        "id": "bhc6IHa0WebV"
      },
      "source": [
        "#### All this was for one fold, now we need to Cross validate on all folds"
      ]
    },
    {
      "cell_type": "markdown",
      "metadata": {
        "id": "CPw_sivDWebV"
      },
      "source": [
        "### Step 3. Cross Validation"
      ]
    },
    {
      "cell_type": "markdown",
      "metadata": {
        "id": "kQY2hTb1WebV"
      },
      "source": [
        "#### * Funtion to Cross Validate for Baseline and LSTM Models in for loop"
      ]
    },
    {
      "cell_type": "code",
      "execution_count": 35,
      "metadata": {
        "id": "6ADxZTAOWebV"
      },
      "outputs": [],
      "source": [
        "def cross_validate_baseline_and_lstm():\n",
        "    '''\n",
        "    This function cross-validates\n",
        "    - the \"last seen value\" baseline model\n",
        "    - the RNN model\n",
        "    '''\n",
        "\n",
        "    list_of_mae_baseline_model = []\n",
        "    list_of_mae_recurrent_model = []\n",
        "\n",
        "    # 0 - Creating folds\n",
        "    # =========================================\n",
        "    folds = get_folds(df_new, FOLD_LENGTH, FOLD_STRIDE)\n",
        "\n",
        "    for fold_id, fold in enumerate(folds):\n",
        "\n",
        "        # 1 - Train/Test split the current fold\n",
        "\n",
        "        (fold_train, fold_test) = temporal_train_test_split(fold, TRAIN_TEST_RATIO, INPUT_LENGTH)\n",
        "\n",
        "        X_train, y_train = get_X_y_7(fold=fold_train,\n",
        "                           input_length=INPUT_LENGTH,\n",
        "                           output_length=OUTPUT_LENGTH,\n",
        "                           stride=STRIDE)\n",
        "        X_test, y_test = get_X_y_7(fold=fold_train,\n",
        "                           input_length=INPUT_LENGTH,\n",
        "                           output_length=OUTPUT_LENGTH,\n",
        "                           stride=STRIDE)\n",
        "\n",
        "        # 2 - Modelling\n",
        "\n",
        "        ##### Baseline Model\n",
        "        mae_baseline = last_seen_value_baseline(X_test, y_test)[0]\n",
        "        list_of_mae_baseline_model.append(mae_baseline)\n",
        "        print(\"-\"*50)\n",
        "        print(f\"MAE baseline fold n°{fold_id} = {round(mae_baseline, 2)}\")\n",
        "\n",
        "        ##### LSTM Model\n",
        "        model = init_model(X_train, y_train)\n",
        "        history = fit_model(model)\n",
        "        res = model.evaluate(X_test, y_test, verbose=0)\n",
        "        mae_lstm = res[2]\n",
        "        list_of_mae_recurrent_model.append(mae_lstm)\n",
        "        print(f\"MAE LSTM fold n°{fold_id} = {round(mae_lstm, 2)}\")\n",
        "\n",
        "        ##### Comparison LSTM vs Baseline for the current fold\n",
        "        print(f\"🏋🏽‍♂️ improvement over baseline: {round((1 - (mae_lstm/mae_baseline))*100,2)} % \\n\")\n",
        "\n",
        "    return list_of_mae_baseline_model, list_of_mae_recurrent_model\n"
      ]
    },
    {
      "cell_type": "code",
      "execution_count": 36,
      "metadata": {
        "id": "u5N862TxWebW"
      },
      "outputs": [],
      "source": [
        "#mae_baselines, mae_lstms = cross_validate_baseline_and_lstm()\n"
      ]
    },
    {
      "cell_type": "code",
      "execution_count": 37,
      "metadata": {
        "colab": {
          "base_uri": "https://localhost:8080/",
          "height": 250
        },
        "id": "UeOTXn8iWebW",
        "outputId": "327e69ba-f5f3-4c9e-87e3-14fc77784a22"
      },
      "outputs": [],
      "source": [
        "#print(f\"average percentage improvement over baseline = {round(np.mean(1 - (np.array(mae_lstms)/np.array(mae_baselines))),2)*100}%\")\n"
      ]
    },
    {
      "cell_type": "code",
      "execution_count": null,
      "metadata": {
        "id": "oeebfFacxYk3"
      },
      "outputs": [],
      "source": []
    }
  ],
  "metadata": {
    "accelerator": "GPU",
    "colab": {
      "gpuType": "T4",
      "machine_shape": "hm",
      "provenance": []
    },
    "kernelspec": {
      "display_name": "Python 3",
      "name": "python3"
    },
    "language_info": {
      "codemirror_mode": {
        "name": "ipython",
        "version": 3
      },
      "file_extension": ".py",
      "mimetype": "text/x-python",
      "name": "python",
      "nbconvert_exporter": "python",
      "pygments_lexer": "ipython3",
      "version": "3.10.6"
    }
  },
  "nbformat": 4,
  "nbformat_minor": 0
}
