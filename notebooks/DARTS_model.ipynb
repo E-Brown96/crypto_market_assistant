{
 "cells": [
  {
   "cell_type": "markdown",
   "metadata": {},
   "source": []
  },
  {
   "cell_type": "markdown",
   "metadata": {},
   "source": [
    "### __*Install packages, Imports, DataFrame*__"
   ]
  },
  {
   "cell_type": "code",
   "execution_count": 1,
   "metadata": {},
   "outputs": [],
   "source": [
    "\n",
    "from torchmetrics import SymmetricMeanAbsolutePercentageError, MeanSquaredError, MeanAbsoluteError\n",
    "\n",
    "\n",
    "import torch\n",
    "\n",
    "from darts.utils.timeseries_generation import (\n",
    "    gaussian_timeseries,\n",
    "    linear_timeseries,\n",
    "    sine_timeseries,\n",
    ")\n",
    "\n",
    "from darts.models import (\n",
    "    RNNModel,\n",
    "    TCNModel,\n",
    "    TransformerModel,\n",
    "    NBEATSModel,\n",
    "    BlockRNNModel,\n",
    "    VARIMA,\n",
    ")\n",
    "\n",
    "from darts.metrics import mape, smape, mae\n",
    "from darts.dataprocessing.transformers import Scaler\n",
    "from darts.utils.timeseries_generation import datetime_attribute_timeseries\n",
    "from darts.datasets import AirPassengersDataset, MonthlyMilkDataset, ElectricityDataset\n",
    "\n",
    "import logging\n",
    "\n",
    "logging.disable(logging.CRITICAL)\n",
    "\n",
    "import warnings\n",
    "\n",
    "warnings.filterwarnings(\"ignore\")\n",
    "\n",
    "\n",
    "%matplotlib inline\n",
    "\n",
    "import numpy as np\n",
    "\n",
    "# for reproducibility\n",
    "torch.manual_seed(1)\n",
    "np.random.seed(1)\n"
   ]
  },
  {
   "cell_type": "code",
   "execution_count": 2,
   "metadata": {},
   "outputs": [
    {
     "name": "stdout",
     "output_type": "stream",
     "text": [
      "            time      open      high       low     close    volume BTC  \\\n",
      "0     2017-08-17   4261.48   4485.39   4200.74   4285.08    795.150377   \n",
      "1     2017-08-18   4285.08   4371.52   3938.77   4108.37   1199.888264   \n",
      "2     2017-08-19   4108.37   4184.69   3850.00   4139.98    381.309763   \n",
      "3     2017-08-20   4139.98   4211.08   4032.62   4086.29    467.083022   \n",
      "4     2017-08-21   4069.13   4119.62   3911.79   4016.00    691.743060   \n",
      "...          ...       ...       ...       ...       ...           ...   \n",
      "2298  2023-12-02  38682.51  39717.14  38641.61  39450.35  26696.921610   \n",
      "2299  2023-12-03  39450.35  40250.00  39274.86  39972.26  26710.653350   \n",
      "2300  2023-12-04  39972.26  42420.00  39972.26  41991.10  79272.330590   \n",
      "2301  2023-12-05  41991.10  44488.00  41414.00  44073.32  67490.746440   \n",
      "2302  2023-12-06  44073.82  44297.21  43335.28  43762.69  51431.104920   \n",
      "\n",
      "        volume USD        RSI  RSI_class        ADX  ADX_class  \n",
      "0     3.454770e+06  50.000000          0   0.000000          1  \n",
      "1     5.086958e+06  50.000000          0   0.000000          1  \n",
      "2     1.549484e+06  50.000000          0   0.000000          1  \n",
      "3     1.930364e+06  50.000000          0   0.000000          1  \n",
      "4     2.797232e+06  50.000000          0   0.000000          1  \n",
      "...            ...        ...        ...        ...        ...  \n",
      "2298  1.043422e+09  68.581366          0  43.948829          2  \n",
      "2299  1.059861e+09  70.702721          1  44.436432          2  \n",
      "2300  3.285737e+09  77.134115          1  45.836661          2  \n",
      "2301  2.890205e+09  81.616552          1  47.693335          2  \n",
      "2302  2.256980e+09  79.124603          1  49.417390          2  \n",
      "\n",
      "[2303 rows x 11 columns]\n"
     ]
    }
   ],
   "source": [
    "# testing\n",
    "\n",
    "import pandas as pd\n",
    "\n",
    "import datetime as dt\n",
    "import matplotlib.pyplot as plt\n",
    "\n",
    "from darts import TimeSeries\n",
    "from sklearn.preprocessing import MinMaxScaler\n",
    "\n",
    "\n",
    "from darts.utils.missing_values import fill_missing_values\n",
    "\n",
    "from sklearn.preprocessing import OrdinalEncoder, MinMaxScaler, RobustScaler, StandardScaler\n",
    "from crypto_assist.data_preprocess import preprocessor_not_scaled\n"
   ]
  },
  {
   "cell_type": "code",
   "execution_count": 3,
   "metadata": {},
   "outputs": [
    {
     "name": "stdout",
     "output_type": "stream",
     "text": [
      "            time      open      high       low     close    volume BTC  \\\n",
      "0     2017-08-17   4261.48   4485.39   4200.74   4285.08    795.150377   \n",
      "1     2017-08-18   4285.08   4371.52   3938.77   4108.37   1199.888264   \n",
      "2     2017-08-19   4108.37   4184.69   3850.00   4139.98    381.309763   \n",
      "3     2017-08-20   4139.98   4211.08   4032.62   4086.29    467.083022   \n",
      "4     2017-08-21   4069.13   4119.62   3911.79   4016.00    691.743060   \n",
      "...          ...       ...       ...       ...       ...           ...   \n",
      "2298  2023-12-02  38682.51  39717.14  38641.61  39450.35  26696.921610   \n",
      "2299  2023-12-03  39450.35  40250.00  39274.86  39972.26  26710.653350   \n",
      "2300  2023-12-04  39972.26  42420.00  39972.26  41991.10  79272.330590   \n",
      "2301  2023-12-05  41991.10  44488.00  41414.00  44073.32  67490.746440   \n",
      "2302  2023-12-06  44073.82  44297.21  43335.28  43762.69  51431.104920   \n",
      "\n",
      "        volume USD        RSI  RSI_class        ADX  ADX_class  \n",
      "0     3.454770e+06  50.000000          0   0.000000          1  \n",
      "1     5.086958e+06  50.000000          0   0.000000          1  \n",
      "2     1.549484e+06  50.000000          0   0.000000          1  \n",
      "3     1.930364e+06  50.000000          0   0.000000          1  \n",
      "4     2.797232e+06  50.000000          0   0.000000          1  \n",
      "...            ...        ...        ...        ...        ...  \n",
      "2298  1.043422e+09  68.581366          0  43.948829          2  \n",
      "2299  1.059861e+09  70.702721          1  44.436432          2  \n",
      "2300  3.285737e+09  77.134115          1  45.836661          2  \n",
      "2301  2.890205e+09  81.616552          1  47.693335          2  \n",
      "2302  2.256980e+09  79.124603          1  49.417390          2  \n",
      "\n",
      "[2303 rows x 11 columns]\n",
      "✅ Data has been merged\n",
      "✅ Data has been imputed\n",
      "✅ Data has been processed\n"
     ]
    }
   ],
   "source": [
    "df = preprocessor_not_scaled('BTCUSDT_daily.csv','final_text_df.csv','social_number_data.csv','FearAndGreedIndex.csv')\n"
   ]
  },
  {
   "cell_type": "code",
   "execution_count": 4,
   "metadata": {},
   "outputs": [],
   "source": [
    "df.index = pd.to_datetime(df.date)\n"
   ]
  },
  {
   "cell_type": "code",
   "execution_count": 5,
   "metadata": {},
   "outputs": [],
   "source": [
    "df.drop(columns=\"date\",inplace=True)\n"
   ]
  },
  {
   "cell_type": "code",
   "execution_count": 6,
   "metadata": {},
   "outputs": [
    {
     "data": {
      "text/html": [
       "<div>\n",
       "<style scoped>\n",
       "    .dataframe tbody tr th:only-of-type {\n",
       "        vertical-align: middle;\n",
       "    }\n",
       "\n",
       "    .dataframe tbody tr th {\n",
       "        vertical-align: top;\n",
       "    }\n",
       "\n",
       "    .dataframe thead th {\n",
       "        text-align: right;\n",
       "    }\n",
       "</style>\n",
       "<table border=\"1\" class=\"dataframe\">\n",
       "  <thead>\n",
       "    <tr style=\"text-align: right;\">\n",
       "      <th></th>\n",
       "      <th>open</th>\n",
       "      <th>high</th>\n",
       "      <th>low</th>\n",
       "      <th>close</th>\n",
       "      <th>volume BTC</th>\n",
       "      <th>volume USD</th>\n",
       "      <th>RSI</th>\n",
       "      <th>RSI_class</th>\n",
       "      <th>ADX</th>\n",
       "      <th>ADX_class</th>\n",
       "      <th>FAGI_score</th>\n",
       "      <th>scored_title</th>\n",
       "      <th>scored_text</th>\n",
       "      <th>average_score</th>\n",
       "      <th>twitter_followers</th>\n",
       "      <th>twitter_favourites</th>\n",
       "      <th>reddit_subscribers</th>\n",
       "      <th>reddit_active_users</th>\n",
       "      <th>reddit_comments_per_day</th>\n",
       "      <th>FAGI_sentiment_encoded</th>\n",
       "    </tr>\n",
       "    <tr>\n",
       "      <th>date</th>\n",
       "      <th></th>\n",
       "      <th></th>\n",
       "      <th></th>\n",
       "      <th></th>\n",
       "      <th></th>\n",
       "      <th></th>\n",
       "      <th></th>\n",
       "      <th></th>\n",
       "      <th></th>\n",
       "      <th></th>\n",
       "      <th></th>\n",
       "      <th></th>\n",
       "      <th></th>\n",
       "      <th></th>\n",
       "      <th></th>\n",
       "      <th></th>\n",
       "      <th></th>\n",
       "      <th></th>\n",
       "      <th></th>\n",
       "      <th></th>\n",
       "    </tr>\n",
       "  </thead>\n",
       "  <tbody>\n",
       "    <tr>\n",
       "      <th>2017-08-17</th>\n",
       "      <td>4261.48</td>\n",
       "      <td>4485.39</td>\n",
       "      <td>4200.74</td>\n",
       "      <td>4285.08</td>\n",
       "      <td>795.150377</td>\n",
       "      <td>3.454770e+06</td>\n",
       "      <td>50.0</td>\n",
       "      <td>0</td>\n",
       "      <td>0.0</td>\n",
       "      <td>1</td>\n",
       "      <td>50.0</td>\n",
       "      <td>0.0</td>\n",
       "      <td>0.0</td>\n",
       "      <td>0.0</td>\n",
       "      <td>1000.000000</td>\n",
       "      <td>2163.435644</td>\n",
       "      <td>1000.000000</td>\n",
       "      <td>1747.715439</td>\n",
       "      <td>699.824346</td>\n",
       "      <td>2.0</td>\n",
       "    </tr>\n",
       "    <tr>\n",
       "      <th>2017-08-18</th>\n",
       "      <td>4285.08</td>\n",
       "      <td>4371.52</td>\n",
       "      <td>3938.77</td>\n",
       "      <td>4108.37</td>\n",
       "      <td>1199.888264</td>\n",
       "      <td>5.086958e+06</td>\n",
       "      <td>50.0</td>\n",
       "      <td>0</td>\n",
       "      <td>0.0</td>\n",
       "      <td>1</td>\n",
       "      <td>50.0</td>\n",
       "      <td>0.0</td>\n",
       "      <td>0.0</td>\n",
       "      <td>0.0</td>\n",
       "      <td>2209.747759</td>\n",
       "      <td>2163.435644</td>\n",
       "      <td>1419.855422</td>\n",
       "      <td>1747.715439</td>\n",
       "      <td>699.824346</td>\n",
       "      <td>2.0</td>\n",
       "    </tr>\n",
       "    <tr>\n",
       "      <th>2017-08-19</th>\n",
       "      <td>4108.37</td>\n",
       "      <td>4184.69</td>\n",
       "      <td>3850.00</td>\n",
       "      <td>4139.98</td>\n",
       "      <td>381.309763</td>\n",
       "      <td>1.549484e+06</td>\n",
       "      <td>50.0</td>\n",
       "      <td>0</td>\n",
       "      <td>0.0</td>\n",
       "      <td>1</td>\n",
       "      <td>50.0</td>\n",
       "      <td>0.0</td>\n",
       "      <td>0.0</td>\n",
       "      <td>0.0</td>\n",
       "      <td>3419.495519</td>\n",
       "      <td>2163.435644</td>\n",
       "      <td>1839.710843</td>\n",
       "      <td>1747.715439</td>\n",
       "      <td>699.824346</td>\n",
       "      <td>2.0</td>\n",
       "    </tr>\n",
       "    <tr>\n",
       "      <th>2017-08-20</th>\n",
       "      <td>4139.98</td>\n",
       "      <td>4211.08</td>\n",
       "      <td>4032.62</td>\n",
       "      <td>4086.29</td>\n",
       "      <td>467.083022</td>\n",
       "      <td>1.930364e+06</td>\n",
       "      <td>50.0</td>\n",
       "      <td>0</td>\n",
       "      <td>0.0</td>\n",
       "      <td>1</td>\n",
       "      <td>50.0</td>\n",
       "      <td>0.0</td>\n",
       "      <td>0.0</td>\n",
       "      <td>0.0</td>\n",
       "      <td>4629.243278</td>\n",
       "      <td>2163.435644</td>\n",
       "      <td>2259.566265</td>\n",
       "      <td>1747.715439</td>\n",
       "      <td>699.824346</td>\n",
       "      <td>2.0</td>\n",
       "    </tr>\n",
       "    <tr>\n",
       "      <th>2017-08-21</th>\n",
       "      <td>4069.13</td>\n",
       "      <td>4119.62</td>\n",
       "      <td>3911.79</td>\n",
       "      <td>4016.00</td>\n",
       "      <td>691.743060</td>\n",
       "      <td>2.797232e+06</td>\n",
       "      <td>50.0</td>\n",
       "      <td>0</td>\n",
       "      <td>0.0</td>\n",
       "      <td>1</td>\n",
       "      <td>50.0</td>\n",
       "      <td>0.0</td>\n",
       "      <td>0.0</td>\n",
       "      <td>0.0</td>\n",
       "      <td>5838.991037</td>\n",
       "      <td>2163.435644</td>\n",
       "      <td>2679.421687</td>\n",
       "      <td>1747.715439</td>\n",
       "      <td>699.824346</td>\n",
       "      <td>2.0</td>\n",
       "    </tr>\n",
       "  </tbody>\n",
       "</table>\n",
       "</div>"
      ],
      "text/plain": [
       "               open     high      low    close   volume BTC    volume USD  \\\n",
       "date                                                                        \n",
       "2017-08-17  4261.48  4485.39  4200.74  4285.08   795.150377  3.454770e+06   \n",
       "2017-08-18  4285.08  4371.52  3938.77  4108.37  1199.888264  5.086958e+06   \n",
       "2017-08-19  4108.37  4184.69  3850.00  4139.98   381.309763  1.549484e+06   \n",
       "2017-08-20  4139.98  4211.08  4032.62  4086.29   467.083022  1.930364e+06   \n",
       "2017-08-21  4069.13  4119.62  3911.79  4016.00   691.743060  2.797232e+06   \n",
       "\n",
       "             RSI  RSI_class  ADX  ADX_class  FAGI_score  scored_title  \\\n",
       "date                                                                    \n",
       "2017-08-17  50.0          0  0.0          1        50.0           0.0   \n",
       "2017-08-18  50.0          0  0.0          1        50.0           0.0   \n",
       "2017-08-19  50.0          0  0.0          1        50.0           0.0   \n",
       "2017-08-20  50.0          0  0.0          1        50.0           0.0   \n",
       "2017-08-21  50.0          0  0.0          1        50.0           0.0   \n",
       "\n",
       "            scored_text  average_score  twitter_followers  twitter_favourites  \\\n",
       "date                                                                            \n",
       "2017-08-17          0.0            0.0        1000.000000         2163.435644   \n",
       "2017-08-18          0.0            0.0        2209.747759         2163.435644   \n",
       "2017-08-19          0.0            0.0        3419.495519         2163.435644   \n",
       "2017-08-20          0.0            0.0        4629.243278         2163.435644   \n",
       "2017-08-21          0.0            0.0        5838.991037         2163.435644   \n",
       "\n",
       "            reddit_subscribers  reddit_active_users  reddit_comments_per_day  \\\n",
       "date                                                                           \n",
       "2017-08-17         1000.000000          1747.715439               699.824346   \n",
       "2017-08-18         1419.855422          1747.715439               699.824346   \n",
       "2017-08-19         1839.710843          1747.715439               699.824346   \n",
       "2017-08-20         2259.566265          1747.715439               699.824346   \n",
       "2017-08-21         2679.421687          1747.715439               699.824346   \n",
       "\n",
       "            FAGI_sentiment_encoded  \n",
       "date                                \n",
       "2017-08-17                     2.0  \n",
       "2017-08-18                     2.0  \n",
       "2017-08-19                     2.0  \n",
       "2017-08-20                     2.0  \n",
       "2017-08-21                     2.0  "
      ]
     },
     "execution_count": 6,
     "metadata": {},
     "output_type": "execute_result"
    }
   ],
   "source": [
    "df.head()\n"
   ]
  },
  {
   "cell_type": "code",
   "execution_count": 7,
   "metadata": {},
   "outputs": [],
   "source": [
    "df.drop(columns=[\"RSI\"], inplace=True)\n"
   ]
  },
  {
   "cell_type": "code",
   "execution_count": 8,
   "metadata": {},
   "outputs": [],
   "source": [
    "df = df.loc['2019-1-01':]\n"
   ]
  },
  {
   "cell_type": "markdown",
   "metadata": {},
   "source": [
    "### __*Scaling and Converting the data*__"
   ]
  },
  {
   "cell_type": "code",
   "execution_count": 9,
   "metadata": {},
   "outputs": [],
   "source": [
    "#freq: This parameter defines the frequency or time interval between consecutive data points in the time series.\n",
    "#'D': It means that each data point in the time series corresponds to an hour\n",
    "\n",
    "timeseries = TimeSeries.from_dataframe(df, freq='D')\n"
   ]
  },
  {
   "cell_type": "markdown",
   "metadata": {},
   "source": []
  },
  {
   "cell_type": "code",
   "execution_count": 10,
   "metadata": {},
   "outputs": [],
   "source": [
    "# Here we are converting the MinMax scaler to a Time Series version of it\n",
    "\n",
    "from darts.dataprocessing.transformers.scaler import Scaler\n",
    "from sklearn.preprocessing import MinMaxScaler\n",
    "scaler = MinMaxScaler()\n",
    "ts_scaler = Scaler(scaler)\n",
    "ts_scaler_target = Scaler(scaler)\n"
   ]
  },
  {
   "cell_type": "code",
   "execution_count": 11,
   "metadata": {},
   "outputs": [],
   "source": [
    "\n",
    "scaled_df = ts_scaler.fit_transform(timeseries)\n",
    "ts_scaler_target = ts_scaler_target.fit(timeseries[\"close\"])\n"
   ]
  },
  {
   "cell_type": "markdown",
   "metadata": {},
   "source": [
    "### __*Cleaning Missing data*__"
   ]
  },
  {
   "cell_type": "code",
   "execution_count": 12,
   "metadata": {},
   "outputs": [
    {
     "data": {
      "text/html": [
       "<div><svg style=\"position: absolute; width: 0; height: 0; overflow: hidden\">\n",
       "<defs>\n",
       "<symbol id=\"icon-database\" viewBox=\"0 0 32 32\">\n",
       "<path d=\"M16 0c-8.837 0-16 2.239-16 5v4c0 2.761 7.163 5 16 5s16-2.239 16-5v-4c0-2.761-7.163-5-16-5z\"></path>\n",
       "<path d=\"M16 17c-8.837 0-16-2.239-16-5v6c0 2.761 7.163 5 16 5s16-2.239 16-5v-6c0 2.761-7.163 5-16 5z\"></path>\n",
       "<path d=\"M16 26c-8.837 0-16-2.239-16-5v6c0 2.761 7.163 5 16 5s16-2.239 16-5v-6c0 2.761-7.163 5-16 5z\"></path>\n",
       "</symbol>\n",
       "<symbol id=\"icon-file-text2\" viewBox=\"0 0 32 32\">\n",
       "<path d=\"M28.681 7.159c-0.694-0.947-1.662-2.053-2.724-3.116s-2.169-2.030-3.116-2.724c-1.612-1.182-2.393-1.319-2.841-1.319h-15.5c-1.378 0-2.5 1.121-2.5 2.5v27c0 1.378 1.122 2.5 2.5 2.5h23c1.378 0 2.5-1.122 2.5-2.5v-19.5c0-0.448-0.137-1.23-1.319-2.841zM24.543 5.457c0.959 0.959 1.712 1.825 2.268 2.543h-4.811v-4.811c0.718 0.556 1.584 1.309 2.543 2.268zM28 29.5c0 0.271-0.229 0.5-0.5 0.5h-23c-0.271 0-0.5-0.229-0.5-0.5v-27c0-0.271 0.229-0.5 0.5-0.5 0 0 15.499-0 15.5 0v7c0 0.552 0.448 1 1 1h7v19.5z\"></path>\n",
       "<path d=\"M23 26h-14c-0.552 0-1-0.448-1-1s0.448-1 1-1h14c0.552 0 1 0.448 1 1s-0.448 1-1 1z\"></path>\n",
       "<path d=\"M23 22h-14c-0.552 0-1-0.448-1-1s0.448-1 1-1h14c0.552 0 1 0.448 1 1s-0.448 1-1 1z\"></path>\n",
       "<path d=\"M23 18h-14c-0.552 0-1-0.448-1-1s0.448-1 1-1h14c0.552 0 1 0.448 1 1s-0.448 1-1 1z\"></path>\n",
       "</symbol>\n",
       "</defs>\n",
       "</svg>\n",
       "<style>/* CSS stylesheet for displaying xarray objects in jupyterlab.\n",
       " *\n",
       " */\n",
       "\n",
       ":root {\n",
       "  --xr-font-color0: var(--jp-content-font-color0, rgba(0, 0, 0, 1));\n",
       "  --xr-font-color2: var(--jp-content-font-color2, rgba(0, 0, 0, 0.54));\n",
       "  --xr-font-color3: var(--jp-content-font-color3, rgba(0, 0, 0, 0.38));\n",
       "  --xr-border-color: var(--jp-border-color2, #e0e0e0);\n",
       "  --xr-disabled-color: var(--jp-layout-color3, #bdbdbd);\n",
       "  --xr-background-color: var(--jp-layout-color0, white);\n",
       "  --xr-background-color-row-even: var(--jp-layout-color1, white);\n",
       "  --xr-background-color-row-odd: var(--jp-layout-color2, #eeeeee);\n",
       "}\n",
       "\n",
       "html[theme=dark],\n",
       "body[data-theme=dark],\n",
       "body.vscode-dark {\n",
       "  --xr-font-color0: rgba(255, 255, 255, 1);\n",
       "  --xr-font-color2: rgba(255, 255, 255, 0.54);\n",
       "  --xr-font-color3: rgba(255, 255, 255, 0.38);\n",
       "  --xr-border-color: #1F1F1F;\n",
       "  --xr-disabled-color: #515151;\n",
       "  --xr-background-color: #111111;\n",
       "  --xr-background-color-row-even: #111111;\n",
       "  --xr-background-color-row-odd: #313131;\n",
       "}\n",
       "\n",
       ".xr-wrap {\n",
       "  display: block !important;\n",
       "  min-width: 300px;\n",
       "  max-width: 700px;\n",
       "}\n",
       "\n",
       ".xr-text-repr-fallback {\n",
       "  /* fallback to plain text repr when CSS is not injected (untrusted notebook) */\n",
       "  display: none;\n",
       "}\n",
       "\n",
       ".xr-header {\n",
       "  padding-top: 6px;\n",
       "  padding-bottom: 6px;\n",
       "  margin-bottom: 4px;\n",
       "  border-bottom: solid 1px var(--xr-border-color);\n",
       "}\n",
       "\n",
       ".xr-header > div,\n",
       ".xr-header > ul {\n",
       "  display: inline;\n",
       "  margin-top: 0;\n",
       "  margin-bottom: 0;\n",
       "}\n",
       "\n",
       ".xr-obj-type,\n",
       ".xr-array-name {\n",
       "  margin-left: 2px;\n",
       "  margin-right: 10px;\n",
       "}\n",
       "\n",
       ".xr-obj-type {\n",
       "  color: var(--xr-font-color2);\n",
       "}\n",
       "\n",
       ".xr-sections {\n",
       "  padding-left: 0 !important;\n",
       "  display: grid;\n",
       "  grid-template-columns: 150px auto auto 1fr 20px 20px;\n",
       "}\n",
       "\n",
       ".xr-section-item {\n",
       "  display: contents;\n",
       "}\n",
       "\n",
       ".xr-section-item input {\n",
       "  display: none;\n",
       "}\n",
       "\n",
       ".xr-section-item input + label {\n",
       "  color: var(--xr-disabled-color);\n",
       "}\n",
       "\n",
       ".xr-section-item input:enabled + label {\n",
       "  cursor: pointer;\n",
       "  color: var(--xr-font-color2);\n",
       "}\n",
       "\n",
       ".xr-section-item input:enabled + label:hover {\n",
       "  color: var(--xr-font-color0);\n",
       "}\n",
       "\n",
       ".xr-section-summary {\n",
       "  grid-column: 1;\n",
       "  color: var(--xr-font-color2);\n",
       "  font-weight: 500;\n",
       "}\n",
       "\n",
       ".xr-section-summary > span {\n",
       "  display: inline-block;\n",
       "  padding-left: 0.5em;\n",
       "}\n",
       "\n",
       ".xr-section-summary-in:disabled + label {\n",
       "  color: var(--xr-font-color2);\n",
       "}\n",
       "\n",
       ".xr-section-summary-in + label:before {\n",
       "  display: inline-block;\n",
       "  content: '►';\n",
       "  font-size: 11px;\n",
       "  width: 15px;\n",
       "  text-align: center;\n",
       "}\n",
       "\n",
       ".xr-section-summary-in:disabled + label:before {\n",
       "  color: var(--xr-disabled-color);\n",
       "}\n",
       "\n",
       ".xr-section-summary-in:checked + label:before {\n",
       "  content: '▼';\n",
       "}\n",
       "\n",
       ".xr-section-summary-in:checked + label > span {\n",
       "  display: none;\n",
       "}\n",
       "\n",
       ".xr-section-summary,\n",
       ".xr-section-inline-details {\n",
       "  padding-top: 4px;\n",
       "  padding-bottom: 4px;\n",
       "}\n",
       "\n",
       ".xr-section-inline-details {\n",
       "  grid-column: 2 / -1;\n",
       "}\n",
       "\n",
       ".xr-section-details {\n",
       "  display: none;\n",
       "  grid-column: 1 / -1;\n",
       "  margin-bottom: 5px;\n",
       "}\n",
       "\n",
       ".xr-section-summary-in:checked ~ .xr-section-details {\n",
       "  display: contents;\n",
       "}\n",
       "\n",
       ".xr-array-wrap {\n",
       "  grid-column: 1 / -1;\n",
       "  display: grid;\n",
       "  grid-template-columns: 20px auto;\n",
       "}\n",
       "\n",
       ".xr-array-wrap > label {\n",
       "  grid-column: 1;\n",
       "  vertical-align: top;\n",
       "}\n",
       "\n",
       ".xr-preview {\n",
       "  color: var(--xr-font-color3);\n",
       "}\n",
       "\n",
       ".xr-array-preview,\n",
       ".xr-array-data {\n",
       "  padding: 0 5px !important;\n",
       "  grid-column: 2;\n",
       "}\n",
       "\n",
       ".xr-array-data,\n",
       ".xr-array-in:checked ~ .xr-array-preview {\n",
       "  display: none;\n",
       "}\n",
       "\n",
       ".xr-array-in:checked ~ .xr-array-data,\n",
       ".xr-array-preview {\n",
       "  display: inline-block;\n",
       "}\n",
       "\n",
       ".xr-dim-list {\n",
       "  display: inline-block !important;\n",
       "  list-style: none;\n",
       "  padding: 0 !important;\n",
       "  margin: 0;\n",
       "}\n",
       "\n",
       ".xr-dim-list li {\n",
       "  display: inline-block;\n",
       "  padding: 0;\n",
       "  margin: 0;\n",
       "}\n",
       "\n",
       ".xr-dim-list:before {\n",
       "  content: '(';\n",
       "}\n",
       "\n",
       ".xr-dim-list:after {\n",
       "  content: ')';\n",
       "}\n",
       "\n",
       ".xr-dim-list li:not(:last-child):after {\n",
       "  content: ',';\n",
       "  padding-right: 5px;\n",
       "}\n",
       "\n",
       ".xr-has-index {\n",
       "  font-weight: bold;\n",
       "}\n",
       "\n",
       ".xr-var-list,\n",
       ".xr-var-item {\n",
       "  display: contents;\n",
       "}\n",
       "\n",
       ".xr-var-item > div,\n",
       ".xr-var-item label,\n",
       ".xr-var-item > .xr-var-name span {\n",
       "  background-color: var(--xr-background-color-row-even);\n",
       "  margin-bottom: 0;\n",
       "}\n",
       "\n",
       ".xr-var-item > .xr-var-name:hover span {\n",
       "  padding-right: 5px;\n",
       "}\n",
       "\n",
       ".xr-var-list > li:nth-child(odd) > div,\n",
       ".xr-var-list > li:nth-child(odd) > label,\n",
       ".xr-var-list > li:nth-child(odd) > .xr-var-name span {\n",
       "  background-color: var(--xr-background-color-row-odd);\n",
       "}\n",
       "\n",
       ".xr-var-name {\n",
       "  grid-column: 1;\n",
       "}\n",
       "\n",
       ".xr-var-dims {\n",
       "  grid-column: 2;\n",
       "}\n",
       "\n",
       ".xr-var-dtype {\n",
       "  grid-column: 3;\n",
       "  text-align: right;\n",
       "  color: var(--xr-font-color2);\n",
       "}\n",
       "\n",
       ".xr-var-preview {\n",
       "  grid-column: 4;\n",
       "}\n",
       "\n",
       ".xr-index-preview {\n",
       "  grid-column: 2 / 5;\n",
       "  color: var(--xr-font-color2);\n",
       "}\n",
       "\n",
       ".xr-var-name,\n",
       ".xr-var-dims,\n",
       ".xr-var-dtype,\n",
       ".xr-preview,\n",
       ".xr-attrs dt {\n",
       "  white-space: nowrap;\n",
       "  overflow: hidden;\n",
       "  text-overflow: ellipsis;\n",
       "  padding-right: 10px;\n",
       "}\n",
       "\n",
       ".xr-var-name:hover,\n",
       ".xr-var-dims:hover,\n",
       ".xr-var-dtype:hover,\n",
       ".xr-attrs dt:hover {\n",
       "  overflow: visible;\n",
       "  width: auto;\n",
       "  z-index: 1;\n",
       "}\n",
       "\n",
       ".xr-var-attrs,\n",
       ".xr-var-data,\n",
       ".xr-index-data {\n",
       "  display: none;\n",
       "  background-color: var(--xr-background-color) !important;\n",
       "  padding-bottom: 5px !important;\n",
       "}\n",
       "\n",
       ".xr-var-attrs-in:checked ~ .xr-var-attrs,\n",
       ".xr-var-data-in:checked ~ .xr-var-data,\n",
       ".xr-index-data-in:checked ~ .xr-index-data {\n",
       "  display: block;\n",
       "}\n",
       "\n",
       ".xr-var-data > table {\n",
       "  float: right;\n",
       "}\n",
       "\n",
       ".xr-var-name span,\n",
       ".xr-var-data,\n",
       ".xr-index-name div,\n",
       ".xr-index-data,\n",
       ".xr-attrs {\n",
       "  padding-left: 25px !important;\n",
       "}\n",
       "\n",
       ".xr-attrs,\n",
       ".xr-var-attrs,\n",
       ".xr-var-data,\n",
       ".xr-index-data {\n",
       "  grid-column: 1 / -1;\n",
       "}\n",
       "\n",
       "dl.xr-attrs {\n",
       "  padding: 0;\n",
       "  margin: 0;\n",
       "  display: grid;\n",
       "  grid-template-columns: 125px auto;\n",
       "}\n",
       "\n",
       ".xr-attrs dt,\n",
       ".xr-attrs dd {\n",
       "  padding: 0;\n",
       "  margin: 0;\n",
       "  float: left;\n",
       "  padding-right: 10px;\n",
       "  width: auto;\n",
       "}\n",
       "\n",
       ".xr-attrs dt {\n",
       "  font-weight: normal;\n",
       "  grid-column: 1;\n",
       "}\n",
       "\n",
       ".xr-attrs dt:hover span {\n",
       "  display: inline-block;\n",
       "  background: var(--xr-background-color);\n",
       "  padding-right: 10px;\n",
       "}\n",
       "\n",
       ".xr-attrs dd {\n",
       "  grid-column: 2;\n",
       "  white-space: pre-wrap;\n",
       "  word-break: break-all;\n",
       "}\n",
       "\n",
       ".xr-icon-database,\n",
       ".xr-icon-file-text2,\n",
       ".xr-no-icon {\n",
       "  display: inline-block;\n",
       "  vertical-align: middle;\n",
       "  width: 1em;\n",
       "  height: 1.5em !important;\n",
       "  stroke-width: 0;\n",
       "  stroke: currentColor;\n",
       "  fill: currentColor;\n",
       "}\n",
       "</style><pre class='xr-text-repr-fallback'>&lt;TimeSeries (DataArray) (date: 1801, component: 19, sample: 1)&gt;\n",
       "array([[[0.00472232],\n",
       "        [0.0058516 ],\n",
       "        [0.00464559],\n",
       "        ...,\n",
       "        [0.2445421 ],\n",
       "        [0.14865773],\n",
       "        [0.        ]],\n",
       "\n",
       "       [[0.00620717],\n",
       "        [0.0069493 ],\n",
       "        [0.00637051],\n",
       "        ...,\n",
       "        [0.2445421 ],\n",
       "        [0.14865773],\n",
       "        [0.25      ]],\n",
       "\n",
       "       [[0.00716028],\n",
       "        [0.00665344],\n",
       "        [0.00604525],\n",
       "        ...,\n",
       "...\n",
       "        ...,\n",
       "        [0.2445421 ],\n",
       "        [0.14865773],\n",
       "        [0.75      ]],\n",
       "\n",
       "       [[0.60181277],\n",
       "        [0.62619074],\n",
       "        [0.60541719],\n",
       "        ...,\n",
       "        [0.2445421 ],\n",
       "        [0.14865773],\n",
       "        [0.75      ]],\n",
       "\n",
       "       [[0.6342906 ],\n",
       "        [0.62328119],\n",
       "        [0.63597555],\n",
       "        ...,\n",
       "        [0.2445421 ],\n",
       "        [0.14865773],\n",
       "        [0.75      ]]])\n",
       "Coordinates:\n",
       "  * date       (date) datetime64[ns] 2019-01-01 2019-01-02 ... 2023-12-06\n",
       "  * component  (component) object &#x27;open&#x27; &#x27;high&#x27; ... &#x27;FAGI_sentiment_encoded&#x27;\n",
       "Dimensions without coordinates: sample\n",
       "Attributes:\n",
       "    static_covariates:  None\n",
       "    hierarchy:          None</pre><div class='xr-wrap' style='display:none'><div class='xr-header'><div class='xr-obj-type'>TimeSeries (DataArray)</div><div class='xr-array-name'></div><ul class='xr-dim-list'><li><span class='xr-has-index'>date</span>: 1801</li><li><span class='xr-has-index'>component</span>: 19</li><li><span>sample</span>: 1</li></ul></div><ul class='xr-sections'><li class='xr-section-item'><div class='xr-array-wrap'><input id='section-6a90f327-0992-468a-95b7-fac3f4a932c9' class='xr-array-in' type='checkbox' checked><label for='section-6a90f327-0992-468a-95b7-fac3f4a932c9' title='Show/hide data repr'><svg class='icon xr-icon-database'><use xlink:href='#icon-database'></use></svg></label><div class='xr-array-preview xr-preview'><span>0.004722 0.005852 0.004646 0.006218 0.01965 ... 1.0 0.2445 0.1487 0.75</span></div><div class='xr-array-data'><pre>array([[[0.00472232],\n",
       "        [0.0058516 ],\n",
       "        [0.00464559],\n",
       "        ...,\n",
       "        [0.2445421 ],\n",
       "        [0.14865773],\n",
       "        [0.        ]],\n",
       "\n",
       "       [[0.00620717],\n",
       "        [0.0069493 ],\n",
       "        [0.00637051],\n",
       "        ...,\n",
       "        [0.2445421 ],\n",
       "        [0.14865773],\n",
       "        [0.25      ]],\n",
       "\n",
       "       [[0.00716028],\n",
       "        [0.00665344],\n",
       "        [0.00604525],\n",
       "        ...,\n",
       "...\n",
       "        ...,\n",
       "        [0.2445421 ],\n",
       "        [0.14865773],\n",
       "        [0.75      ]],\n",
       "\n",
       "       [[0.60181277],\n",
       "        [0.62619074],\n",
       "        [0.60541719],\n",
       "        ...,\n",
       "        [0.2445421 ],\n",
       "        [0.14865773],\n",
       "        [0.75      ]],\n",
       "\n",
       "       [[0.6342906 ],\n",
       "        [0.62328119],\n",
       "        [0.63597555],\n",
       "        ...,\n",
       "        [0.2445421 ],\n",
       "        [0.14865773],\n",
       "        [0.75      ]]])</pre></div></div></li><li class='xr-section-item'><input id='section-5c567812-e24c-41f8-994b-c68cbc4e6830' class='xr-section-summary-in' type='checkbox'  checked><label for='section-5c567812-e24c-41f8-994b-c68cbc4e6830' class='xr-section-summary' >Coordinates: <span>(2)</span></label><div class='xr-section-inline-details'></div><div class='xr-section-details'><ul class='xr-var-list'><li class='xr-var-item'><div class='xr-var-name'><span class='xr-has-index'>date</span></div><div class='xr-var-dims'>(date)</div><div class='xr-var-dtype'>datetime64[ns]</div><div class='xr-var-preview xr-preview'>2019-01-01 ... 2023-12-06</div><input id='attrs-c309c93a-a82e-4709-94b0-b0e96459e3f0' class='xr-var-attrs-in' type='checkbox' disabled><label for='attrs-c309c93a-a82e-4709-94b0-b0e96459e3f0' title='Show/Hide attributes'><svg class='icon xr-icon-file-text2'><use xlink:href='#icon-file-text2'></use></svg></label><input id='data-110cf4ea-20be-4081-a152-1dfb9f6d692e' class='xr-var-data-in' type='checkbox'><label for='data-110cf4ea-20be-4081-a152-1dfb9f6d692e' title='Show/Hide data repr'><svg class='icon xr-icon-database'><use xlink:href='#icon-database'></use></svg></label><div class='xr-var-attrs'><dl class='xr-attrs'></dl></div><div class='xr-var-data'><pre>array([&#x27;2019-01-01T00:00:00.000000000&#x27;, &#x27;2019-01-02T00:00:00.000000000&#x27;,\n",
       "       &#x27;2019-01-03T00:00:00.000000000&#x27;, ..., &#x27;2023-12-04T00:00:00.000000000&#x27;,\n",
       "       &#x27;2023-12-05T00:00:00.000000000&#x27;, &#x27;2023-12-06T00:00:00.000000000&#x27;],\n",
       "      dtype=&#x27;datetime64[ns]&#x27;)</pre></div></li><li class='xr-var-item'><div class='xr-var-name'><span class='xr-has-index'>component</span></div><div class='xr-var-dims'>(component)</div><div class='xr-var-dtype'>object</div><div class='xr-var-preview xr-preview'>&#x27;open&#x27; ... &#x27;FAGI_sentiment_encoded&#x27;</div><input id='attrs-a0fa0efb-2313-4607-88df-a4c2abfbd7f3' class='xr-var-attrs-in' type='checkbox' disabled><label for='attrs-a0fa0efb-2313-4607-88df-a4c2abfbd7f3' title='Show/Hide attributes'><svg class='icon xr-icon-file-text2'><use xlink:href='#icon-file-text2'></use></svg></label><input id='data-ebb989b1-fb00-4830-9a59-5fd9485c1dba' class='xr-var-data-in' type='checkbox'><label for='data-ebb989b1-fb00-4830-9a59-5fd9485c1dba' title='Show/Hide data repr'><svg class='icon xr-icon-database'><use xlink:href='#icon-database'></use></svg></label><div class='xr-var-attrs'><dl class='xr-attrs'></dl></div><div class='xr-var-data'><pre>array([&#x27;open&#x27;, &#x27;high&#x27;, &#x27;low&#x27;, &#x27;close&#x27;, &#x27;volume BTC&#x27;, &#x27;volume USD&#x27;, &#x27;RSI_class&#x27;,\n",
       "       &#x27;ADX&#x27;, &#x27;ADX_class&#x27;, &#x27;FAGI_score&#x27;, &#x27;scored_title&#x27;, &#x27;scored_text&#x27;,\n",
       "       &#x27;average_score&#x27;, &#x27;twitter_followers&#x27;, &#x27;twitter_favourites&#x27;,\n",
       "       &#x27;reddit_subscribers&#x27;, &#x27;reddit_active_users&#x27;, &#x27;reddit_comments_per_day&#x27;,\n",
       "       &#x27;FAGI_sentiment_encoded&#x27;], dtype=object)</pre></div></li></ul></div></li><li class='xr-section-item'><input id='section-cc4070f1-f289-42c8-b6ca-f8b77160d47c' class='xr-section-summary-in' type='checkbox'  ><label for='section-cc4070f1-f289-42c8-b6ca-f8b77160d47c' class='xr-section-summary' >Indexes: <span>(2)</span></label><div class='xr-section-inline-details'></div><div class='xr-section-details'><ul class='xr-var-list'><li class='xr-var-item'><div class='xr-index-name'><div>date</div></div><div class='xr-index-preview'>PandasIndex</div><div></div><input id='index-fe03a2bb-bd79-4441-97c2-e3768242522a' class='xr-index-data-in' type='checkbox'/><label for='index-fe03a2bb-bd79-4441-97c2-e3768242522a' title='Show/Hide index repr'><svg class='icon xr-icon-database'><use xlink:href='#icon-database'></use></svg></label><div class='xr-index-data'><pre>PandasIndex(DatetimeIndex([&#x27;2019-01-01&#x27;, &#x27;2019-01-02&#x27;, &#x27;2019-01-03&#x27;, &#x27;2019-01-04&#x27;,\n",
       "               &#x27;2019-01-05&#x27;, &#x27;2019-01-06&#x27;, &#x27;2019-01-07&#x27;, &#x27;2019-01-08&#x27;,\n",
       "               &#x27;2019-01-09&#x27;, &#x27;2019-01-10&#x27;,\n",
       "               ...\n",
       "               &#x27;2023-11-27&#x27;, &#x27;2023-11-28&#x27;, &#x27;2023-11-29&#x27;, &#x27;2023-11-30&#x27;,\n",
       "               &#x27;2023-12-01&#x27;, &#x27;2023-12-02&#x27;, &#x27;2023-12-03&#x27;, &#x27;2023-12-04&#x27;,\n",
       "               &#x27;2023-12-05&#x27;, &#x27;2023-12-06&#x27;],\n",
       "              dtype=&#x27;datetime64[ns]&#x27;, name=&#x27;date&#x27;, length=1801, freq=&#x27;D&#x27;))</pre></div></li><li class='xr-var-item'><div class='xr-index-name'><div>component</div></div><div class='xr-index-preview'>PandasIndex</div><div></div><input id='index-2748cf73-6ae4-4874-ba72-b2be24c1a042' class='xr-index-data-in' type='checkbox'/><label for='index-2748cf73-6ae4-4874-ba72-b2be24c1a042' title='Show/Hide index repr'><svg class='icon xr-icon-database'><use xlink:href='#icon-database'></use></svg></label><div class='xr-index-data'><pre>PandasIndex(Index([&#x27;open&#x27;, &#x27;high&#x27;, &#x27;low&#x27;, &#x27;close&#x27;, &#x27;volume BTC&#x27;, &#x27;volume USD&#x27;, &#x27;RSI_class&#x27;,\n",
       "       &#x27;ADX&#x27;, &#x27;ADX_class&#x27;, &#x27;FAGI_score&#x27;, &#x27;scored_title&#x27;, &#x27;scored_text&#x27;,\n",
       "       &#x27;average_score&#x27;, &#x27;twitter_followers&#x27;, &#x27;twitter_favourites&#x27;,\n",
       "       &#x27;reddit_subscribers&#x27;, &#x27;reddit_active_users&#x27;, &#x27;reddit_comments_per_day&#x27;,\n",
       "       &#x27;FAGI_sentiment_encoded&#x27;],\n",
       "      dtype=&#x27;object&#x27;, name=&#x27;component&#x27;))</pre></div></li></ul></div></li><li class='xr-section-item'><input id='section-d3d1b21c-1200-44f2-aa1d-dd712c2596d0' class='xr-section-summary-in' type='checkbox'  checked><label for='section-d3d1b21c-1200-44f2-aa1d-dd712c2596d0' class='xr-section-summary' >Attributes: <span>(2)</span></label><div class='xr-section-inline-details'></div><div class='xr-section-details'><dl class='xr-attrs'><dt><span>static_covariates :</span></dt><dd>None</dd><dt><span>hierarchy :</span></dt><dd>None</dd></dl></div></li></ul></div></div>"
      ],
      "text/plain": [
       "<TimeSeries (DataArray) (date: 1801, component: 19, sample: 1)>\n",
       "array([[[0.00472232],\n",
       "        [0.0058516 ],\n",
       "        [0.00464559],\n",
       "        ...,\n",
       "        [0.2445421 ],\n",
       "        [0.14865773],\n",
       "        [0.        ]],\n",
       "\n",
       "       [[0.00620717],\n",
       "        [0.0069493 ],\n",
       "        [0.00637051],\n",
       "        ...,\n",
       "        [0.2445421 ],\n",
       "        [0.14865773],\n",
       "        [0.25      ]],\n",
       "\n",
       "       [[0.00716028],\n",
       "        [0.00665344],\n",
       "        [0.00604525],\n",
       "        ...,\n",
       "...\n",
       "        ...,\n",
       "        [0.2445421 ],\n",
       "        [0.14865773],\n",
       "        [0.75      ]],\n",
       "\n",
       "       [[0.60181277],\n",
       "        [0.62619074],\n",
       "        [0.60541719],\n",
       "        ...,\n",
       "        [0.2445421 ],\n",
       "        [0.14865773],\n",
       "        [0.75      ]],\n",
       "\n",
       "       [[0.6342906 ],\n",
       "        [0.62328119],\n",
       "        [0.63597555],\n",
       "        ...,\n",
       "        [0.2445421 ],\n",
       "        [0.14865773],\n",
       "        [0.75      ]]])\n",
       "Coordinates:\n",
       "  * date       (date) datetime64[ns] 2019-01-01 2019-01-02 ... 2023-12-06\n",
       "  * component  (component) object 'open' 'high' ... 'FAGI_sentiment_encoded'\n",
       "Dimensions without coordinates: sample\n",
       "Attributes:\n",
       "    static_covariates:  None\n",
       "    hierarchy:          None"
      ]
     },
     "execution_count": 12,
     "metadata": {},
     "output_type": "execute_result"
    }
   ],
   "source": [
    "from darts.utils.missing_values import fill_missing_values\n",
    "scaled_df = fill_missing_values(scaled_df)\n",
    "scaled_df\n"
   ]
  },
  {
   "cell_type": "markdown",
   "metadata": {},
   "source": [
    "### __*Train Test Split*__"
   ]
  },
  {
   "cell_type": "code",
   "execution_count": 13,
   "metadata": {},
   "outputs": [
    {
     "data": {
      "text/plain": [
       "<Axes: xlabel='date'>"
      ]
     },
     "execution_count": 13,
     "metadata": {},
     "output_type": "execute_result"
    },
    {
     "data": {
      "image/png": "[encoded data removed]",
      "text/plain": [
       "<Figure size 640x480 with 1 Axes>"
      ]
     },
     "metadata": {},
     "output_type": "display_data"
    }
   ],
   "source": [
    "train, val = (scaled_df).split_before(0.8)\n",
    "\n",
    "train.plot(label=\"training\")\n"
   ]
  },
  {
   "cell_type": "code",
   "execution_count": 14,
   "metadata": {},
   "outputs": [],
   "source": [
    "val,test = (val).split_before(0.85)\n"
   ]
  },
  {
   "cell_type": "code",
   "execution_count": 15,
   "metadata": {},
   "outputs": [
    {
     "data": {
      "text/plain": [
       "(Timedelta('305 days 00:00:00'),\n",
       " Timestamp('2022-12-11 00:00:00'),\n",
       " Timestamp('2023-10-12 00:00:00'))"
      ]
     },
     "execution_count": 15,
     "metadata": {},
     "output_type": "execute_result"
    }
   ],
   "source": [
    "val.duration, val.start_time(), val.end_time()\n"
   ]
  },
  {
   "cell_type": "markdown",
   "metadata": {},
   "source": [
    "### __*Setup Earlystopping and the train on GPU*__"
   ]
  },
  {
   "cell_type": "code",
   "execution_count": 16,
   "metadata": {},
   "outputs": [],
   "source": [
    "from pytorch_lightning.callbacks.early_stopping import EarlyStopping\n",
    "\n",
    "# stop training when validation loss does not decrease more than 0.05 (`min_delta`) over\n",
    "# a period of 5 epochs (`patience`)\n",
    "stopper = EarlyStopping(\n",
    "    monitor=\"val_loss\",\n",
    "    patience=10,\n",
    "    min_delta=0.0001,\n",
    "    mode='min',\n",
    ")\n",
    "\n",
    "pl_trainer_kwargs={\"callbacks\": [stopper],\n",
    "                   \"accelerator\": \"cpu\"\n",
    "                   }\n"
   ]
  },
  {
   "cell_type": "markdown",
   "metadata": {},
   "source": [
    "### __*Instanciate BlockRNNMODEL*__"
   ]
  },
  {
   "cell_type": "code",
   "execution_count": 17,
   "metadata": {},
   "outputs": [],
   "source": [
    "# predict 7 days considering the latest 50 days\n",
    "\n",
    "\n",
    "model_covariates = BlockRNNModel(\n",
    "    model=\"LSTM\",\n",
    "    input_chunk_length= 35,\n",
    "    output_chunk_length=5,\n",
    "    torch_metrics= SymmetricMeanAbsolutePercentageError(),\n",
    "    n_epochs=500,\n",
    "    hidden_dim = 70,\n",
    "    n_rnn_layers = 1,\n",
    "    pl_trainer_kwargs = pl_trainer_kwargs,\n",
    "    random_state=0,\n",
    ")\n"
   ]
  },
  {
   "cell_type": "markdown",
   "metadata": {},
   "source": [
    "### __*GridSearch*__"
   ]
  },
  {
   "cell_type": "code",
   "execution_count": 18,
   "metadata": {},
   "outputs": [
    {
     "data": {
      "text/plain": [
       "'# predict 7 days considering the latest 50 days\\n\\nmodel_gridSearch = BlockRNNModel(\\n    model=\"LSTM\",\\n    input_chunk_length= 45,\\n    output_chunk_length=7,\\n    #dropout=0.1,\\n    #\\n    torch_metrics= SymmetricMeanAbsolutePercentageError(),\\n    n_epochs=500,\\n    pl_trainer_kwargs = pl_trainer_kwargs,\\n    random_state=0,\\n)\\n'"
      ]
     },
     "execution_count": 18,
     "metadata": {},
     "output_type": "execute_result"
    }
   ],
   "source": [
    "\"\"\"# predict 7 days considering the latest 50 days\n",
    "\n",
    "model_gridSearch = BlockRNNModel(\n",
    "    model=\"LSTM\",\n",
    "    input_chunk_length= 45,\n",
    "    output_chunk_length=7,\n",
    "    #dropout=0.1,\n",
    "    #\n",
    "    torch_metrics= SymmetricMeanAbsolutePercentageError(),\n",
    "    n_epochs=500,\n",
    "    pl_trainer_kwargs = pl_trainer_kwargs,\n",
    "    random_state=0,\n",
    ")\n",
    "\"\"\"\n"
   ]
  },
  {
   "cell_type": "code",
   "execution_count": 19,
   "metadata": {},
   "outputs": [
    {
     "data": {
      "text/plain": [
       "'params = {\\n    #\"model\" : [\"LSTM\", \"GRU\"],\\n    \"hidden_dim\" : [10],\\n    \"n_rnn_layers\" : [5],\\n    #\"hidden_fc_sizes\" : [5],\\n    #\"dropout\" : [0.1],\\n    \"input_chunk_length\": [45],\\n    \"output_chunk_length\": [7]\\n}\\n\\n\\ngridresult = BlockRNNModel.gridsearch(\\n                        parameters=params,\\n                        series=[train[\"close\"]],\\n                        past_covariates=train,\\n                        verbose=True,\\n                        forecast_horizon = 7\\n                        )'"
      ]
     },
     "execution_count": 19,
     "metadata": {},
     "output_type": "execute_result"
    }
   ],
   "source": [
    "\"\"\"params = {\n",
    "    #\"model\" : [\"LSTM\", \"GRU\"],\n",
    "    \"hidden_dim\" : [10],\n",
    "    \"n_rnn_layers\" : [5],\n",
    "    #\"hidden_fc_sizes\" : [5],\n",
    "    #\"dropout\" : [0.1],\n",
    "    \"input_chunk_length\": [45],\n",
    "    \"output_chunk_length\": [7]\n",
    "}\n",
    "\n",
    "\n",
    "gridresult = BlockRNNModel.gridsearch(\n",
    "                        parameters=params,\n",
    "                        series=[train[\"close\"]],\n",
    "                        past_covariates=train,\n",
    "                        verbose=True,\n",
    "                        forecast_horizon = 7\n",
    "                        )\"\"\"\n"
   ]
  },
  {
   "cell_type": "code",
   "execution_count": 20,
   "metadata": {},
   "outputs": [
    {
     "data": {
      "text/plain": [
       "'best_model, dict_bestparams = gridresult\\nprint(f\"dict_bestparams: {dict_bestparams}\")\\n'"
      ]
     },
     "execution_count": 20,
     "metadata": {},
     "output_type": "execute_result"
    }
   ],
   "source": [
    "\"\"\"best_model, dict_bestparams = gridresult\n",
    "print(f\"dict_bestparams: {dict_bestparams}\")\n",
    "\"\"\"\n"
   ]
  },
  {
   "cell_type": "markdown",
   "metadata": {},
   "source": [
    "### __*Train the model*__"
   ]
  },
  {
   "cell_type": "code",
   "execution_count": 21,
   "metadata": {},
   "outputs": [
    {
     "data": {
      "application/vnd.jupyter.widget-view+json": {
       "model_id": "7a30d3381ce447b89bbf68cfe58a4375",
       "version_major": 2,
       "version_minor": 0
      },
      "text/plain": [
       "Sanity Checking: |          | 0/? [00:00<?, ?it/s]"
      ]
     },
     "metadata": {},
     "output_type": "display_data"
    },
    {
     "data": {
      "application/vnd.jupyter.widget-view+json": {
       "model_id": "aec1d2a6a5eb4ed39514c0acaf68a1ff",
       "version_major": 2,
       "version_minor": 0
      },
      "text/plain": [
       "Training: |          | 0/? [00:00<?, ?it/s]"
      ]
     },
     "metadata": {},
     "output_type": "display_data"
    },
    {
     "data": {
      "application/vnd.jupyter.widget-view+json": {
       "model_id": "fe7ec3532d96446abbedf90f311c7cea",
       "version_major": 2,
       "version_minor": 0
      },
      "text/plain": [
       "Validation: |          | 0/? [00:00<?, ?it/s]"
      ]
     },
     "metadata": {},
     "output_type": "display_data"
    },
    {
     "data": {
      "application/vnd.jupyter.widget-view+json": {
       "model_id": "22538ac7c7604cbfb48b0f788894a648",
       "version_major": 2,
       "version_minor": 0
      },
      "text/plain": [
       "Validation: |          | 0/? [00:00<?, ?it/s]"
      ]
     },
     "metadata": {},
     "output_type": "display_data"
    },
    {
     "data": {
      "application/vnd.jupyter.widget-view+json": {
       "model_id": "1866c50415874fda9cc9f31d72b63f66",
       "version_major": 2,
       "version_minor": 0
      },
      "text/plain": [
       "Validation: |          | 0/? [00:00<?, ?it/s]"
      ]
     },
     "metadata": {},
     "output_type": "display_data"
    },
    {
     "data": {
      "application/vnd.jupyter.widget-view+json": {
       "model_id": "e66c365f502d431d8b9bdf2253a46fc8",
       "version_major": 2,
       "version_minor": 0
      },
      "text/plain": [
       "Validation: |          | 0/? [00:00<?, ?it/s]"
      ]
     },
     "metadata": {},
     "output_type": "display_data"
    },
    {
     "data": {
      "application/vnd.jupyter.widget-view+json": {
       "model_id": "2465938339c0426593c2f8919cde1e14",
       "version_major": 2,
       "version_minor": 0
      },
      "text/plain": [
       "Validation: |          | 0/? [00:00<?, ?it/s]"
      ]
     },
     "metadata": {},
     "output_type": "display_data"
    },
    {
     "data": {
      "application/vnd.jupyter.widget-view+json": {
       "model_id": "19bf6cd9e97a44a4b0461b53ad09a1b2",
       "version_major": 2,
       "version_minor": 0
      },
      "text/plain": [
       "Validation: |          | 0/? [00:00<?, ?it/s]"
      ]
     },
     "metadata": {},
     "output_type": "display_data"
    },
    {
     "data": {
      "application/vnd.jupyter.widget-view+json": {
       "model_id": "b2c1b0f5bcde4086a8aeb3cc58fbfabd",
       "version_major": 2,
       "version_minor": 0
      },
      "text/plain": [
       "Validation: |          | 0/? [00:00<?, ?it/s]"
      ]
     },
     "metadata": {},
     "output_type": "display_data"
    },
    {
     "data": {
      "application/vnd.jupyter.widget-view+json": {
       "model_id": "610226e5d738455f9a6ec0c660a246e1",
       "version_major": 2,
       "version_minor": 0
      },
      "text/plain": [
       "Validation: |          | 0/? [00:00<?, ?it/s]"
      ]
     },
     "metadata": {},
     "output_type": "display_data"
    },
    {
     "data": {
      "application/vnd.jupyter.widget-view+json": {
       "model_id": "090b51bd1d8d46a2b920a8ec6f1a223b",
       "version_major": 2,
       "version_minor": 0
      },
      "text/plain": [
       "Validation: |          | 0/? [00:00<?, ?it/s]"
      ]
     },
     "metadata": {},
     "output_type": "display_data"
    },
    {
     "data": {
      "application/vnd.jupyter.widget-view+json": {
       "model_id": "04ef8acc1ff642aab5ce8938b92628cc",
       "version_major": 2,
       "version_minor": 0
      },
      "text/plain": [
       "Validation: |          | 0/? [00:00<?, ?it/s]"
      ]
     },
     "metadata": {},
     "output_type": "display_data"
    },
    {
     "data": {
      "application/vnd.jupyter.widget-view+json": {
       "model_id": "9f4188f2120b4b93a658c8fa9e4bcf5a",
       "version_major": 2,
       "version_minor": 0
      },
      "text/plain": [
       "Validation: |          | 0/? [00:00<?, ?it/s]"
      ]
     },
     "metadata": {},
     "output_type": "display_data"
    },
    {
     "data": {
      "application/vnd.jupyter.widget-view+json": {
       "model_id": "ed6be271d56d465682b763f555836ecf",
       "version_major": 2,
       "version_minor": 0
      },
      "text/plain": [
       "Validation: |          | 0/? [00:00<?, ?it/s]"
      ]
     },
     "metadata": {},
     "output_type": "display_data"
    },
    {
     "data": {
      "application/vnd.jupyter.widget-view+json": {
       "model_id": "ce7cb7643e57436c8a7d845b8473e6b6",
       "version_major": 2,
       "version_minor": 0
      },
      "text/plain": [
       "Validation: |          | 0/? [00:00<?, ?it/s]"
      ]
     },
     "metadata": {},
     "output_type": "display_data"
    },
    {
     "data": {
      "application/vnd.jupyter.widget-view+json": {
       "model_id": "49a330ecc47f48d88dc54562fac1fcf5",
       "version_major": 2,
       "version_minor": 0
      },
      "text/plain": [
       "Validation: |          | 0/? [00:00<?, ?it/s]"
      ]
     },
     "metadata": {},
     "output_type": "display_data"
    },
    {
     "data": {
      "application/vnd.jupyter.widget-view+json": {
       "model_id": "ad208cfbce5149f5bc87adca60bbc1de",
       "version_major": 2,
       "version_minor": 0
      },
      "text/plain": [
       "Validation: |          | 0/? [00:00<?, ?it/s]"
      ]
     },
     "metadata": {},
     "output_type": "display_data"
    },
    {
     "data": {
      "application/vnd.jupyter.widget-view+json": {
       "model_id": "9ff185a2472241788241f9645b8fee03",
       "version_major": 2,
       "version_minor": 0
      },
      "text/plain": [
       "Validation: |          | 0/? [00:00<?, ?it/s]"
      ]
     },
     "metadata": {},
     "output_type": "display_data"
    },
    {
     "data": {
      "application/vnd.jupyter.widget-view+json": {
       "model_id": "9b3677609e83452f9b8e1416b2f2edb5",
       "version_major": 2,
       "version_minor": 0
      },
      "text/plain": [
       "Validation: |          | 0/? [00:00<?, ?it/s]"
      ]
     },
     "metadata": {},
     "output_type": "display_data"
    },
    {
     "data": {
      "application/vnd.jupyter.widget-view+json": {
       "model_id": "409eb6baf7094558914e02bf8192bfeb",
       "version_major": 2,
       "version_minor": 0
      },
      "text/plain": [
       "Validation: |          | 0/? [00:00<?, ?it/s]"
      ]
     },
     "metadata": {},
     "output_type": "display_data"
    },
    {
     "data": {
      "application/vnd.jupyter.widget-view+json": {
       "model_id": "606b5ecfa0f1482ab951c1563915e2f5",
       "version_major": 2,
       "version_minor": 0
      },
      "text/plain": [
       "Validation: |          | 0/? [00:00<?, ?it/s]"
      ]
     },
     "metadata": {},
     "output_type": "display_data"
    },
    {
     "data": {
      "application/vnd.jupyter.widget-view+json": {
       "model_id": "8cc2ee08a1d3452795cefb5cd95ab921",
       "version_major": 2,
       "version_minor": 0
      },
      "text/plain": [
       "Validation: |          | 0/? [00:00<?, ?it/s]"
      ]
     },
     "metadata": {},
     "output_type": "display_data"
    },
    {
     "data": {
      "application/vnd.jupyter.widget-view+json": {
       "model_id": "1f2b7759915d45e49f840c568c28c40b",
       "version_major": 2,
       "version_minor": 0
      },
      "text/plain": [
       "Validation: |          | 0/? [00:00<?, ?it/s]"
      ]
     },
     "metadata": {},
     "output_type": "display_data"
    },
    {
     "data": {
      "application/vnd.jupyter.widget-view+json": {
       "model_id": "568529959a4a48ae90ebd03826034dfa",
       "version_major": 2,
       "version_minor": 0
      },
      "text/plain": [
       "Validation: |          | 0/? [00:00<?, ?it/s]"
      ]
     },
     "metadata": {},
     "output_type": "display_data"
    },
    {
     "data": {
      "application/vnd.jupyter.widget-view+json": {
       "model_id": "79bcd0fae1c743c7a8683ed6751fae0c",
       "version_major": 2,
       "version_minor": 0
      },
      "text/plain": [
       "Validation: |          | 0/? [00:00<?, ?it/s]"
      ]
     },
     "metadata": {},
     "output_type": "display_data"
    },
    {
     "data": {
      "application/vnd.jupyter.widget-view+json": {
       "model_id": "252046ed86204dd0a4d5c996933e8e5a",
       "version_major": 2,
       "version_minor": 0
      },
      "text/plain": [
       "Validation: |          | 0/? [00:00<?, ?it/s]"
      ]
     },
     "metadata": {},
     "output_type": "display_data"
    },
    {
     "data": {
      "application/vnd.jupyter.widget-view+json": {
       "model_id": "6ade41ffea0e4082b4ec1c6f6a991084",
       "version_major": 2,
       "version_minor": 0
      },
      "text/plain": [
       "Validation: |          | 0/? [00:00<?, ?it/s]"
      ]
     },
     "metadata": {},
     "output_type": "display_data"
    },
    {
     "data": {
      "application/vnd.jupyter.widget-view+json": {
       "model_id": "c5e63036098a4063ab99e76ce6d84094",
       "version_major": 2,
       "version_minor": 0
      },
      "text/plain": [
       "Validation: |          | 0/? [00:00<?, ?it/s]"
      ]
     },
     "metadata": {},
     "output_type": "display_data"
    },
    {
     "data": {
      "application/vnd.jupyter.widget-view+json": {
       "model_id": "88ef3404d93546f0aea458503455b200",
       "version_major": 2,
       "version_minor": 0
      },
      "text/plain": [
       "Validation: |          | 0/? [00:00<?, ?it/s]"
      ]
     },
     "metadata": {},
     "output_type": "display_data"
    },
    {
     "data": {
      "application/vnd.jupyter.widget-view+json": {
       "model_id": "e5e184135c3346e287f28ce25b9c48eb",
       "version_major": 2,
       "version_minor": 0
      },
      "text/plain": [
       "Validation: |          | 0/? [00:00<?, ?it/s]"
      ]
     },
     "metadata": {},
     "output_type": "display_data"
    },
    {
     "data": {
      "application/vnd.jupyter.widget-view+json": {
       "model_id": "534dd277773e4feb85760ff8a211fa3f",
       "version_major": 2,
       "version_minor": 0
      },
      "text/plain": [
       "Validation: |          | 0/? [00:00<?, ?it/s]"
      ]
     },
     "metadata": {},
     "output_type": "display_data"
    },
    {
     "data": {
      "application/vnd.jupyter.widget-view+json": {
       "model_id": "de5d3ec4397148ec9184962a600b822b",
       "version_major": 2,
       "version_minor": 0
      },
      "text/plain": [
       "Validation: |          | 0/? [00:00<?, ?it/s]"
      ]
     },
     "metadata": {},
     "output_type": "display_data"
    },
    {
     "data": {
      "application/vnd.jupyter.widget-view+json": {
       "model_id": "7bd11f84f73649979c71d711605f0283",
       "version_major": 2,
       "version_minor": 0
      },
      "text/plain": [
       "Validation: |          | 0/? [00:00<?, ?it/s]"
      ]
     },
     "metadata": {},
     "output_type": "display_data"
    },
    {
     "data": {
      "application/vnd.jupyter.widget-view+json": {
       "model_id": "d3430f279e334cd5b963d9294fd5e192",
       "version_major": 2,
       "version_minor": 0
      },
      "text/plain": [
       "Validation: |          | 0/? [00:00<?, ?it/s]"
      ]
     },
     "metadata": {},
     "output_type": "display_data"
    },
    {
     "data": {
      "application/vnd.jupyter.widget-view+json": {
       "model_id": "80afccfc0f1347568f761e6bd9862bb4",
       "version_major": 2,
       "version_minor": 0
      },
      "text/plain": [
       "Validation: |          | 0/? [00:00<?, ?it/s]"
      ]
     },
     "metadata": {},
     "output_type": "display_data"
    },
    {
     "data": {
      "application/vnd.jupyter.widget-view+json": {
       "model_id": "7a68e83e441a49f889d17d0804ec239a",
       "version_major": 2,
       "version_minor": 0
      },
      "text/plain": [
       "Validation: |          | 0/? [00:00<?, ?it/s]"
      ]
     },
     "metadata": {},
     "output_type": "display_data"
    },
    {
     "data": {
      "application/vnd.jupyter.widget-view+json": {
       "model_id": "7c4c648397ed4350af4625fdb89c8836",
       "version_major": 2,
       "version_minor": 0
      },
      "text/plain": [
       "Validation: |          | 0/? [00:00<?, ?it/s]"
      ]
     },
     "metadata": {},
     "output_type": "display_data"
    },
    {
     "data": {
      "application/vnd.jupyter.widget-view+json": {
       "model_id": "a97a87cefea349c59bacb727f55ce8cd",
       "version_major": 2,
       "version_minor": 0
      },
      "text/plain": [
       "Validation: |          | 0/? [00:00<?, ?it/s]"
      ]
     },
     "metadata": {},
     "output_type": "display_data"
    },
    {
     "data": {
      "application/vnd.jupyter.widget-view+json": {
       "model_id": "2cfdeff1846f4cce9e9bfdb337ad2544",
       "version_major": 2,
       "version_minor": 0
      },
      "text/plain": [
       "Validation: |          | 0/? [00:00<?, ?it/s]"
      ]
     },
     "metadata": {},
     "output_type": "display_data"
    },
    {
     "data": {
      "application/vnd.jupyter.widget-view+json": {
       "model_id": "1c5afdc358754e019b6631d5b84d44be",
       "version_major": 2,
       "version_minor": 0
      },
      "text/plain": [
       "Validation: |          | 0/? [00:00<?, ?it/s]"
      ]
     },
     "metadata": {},
     "output_type": "display_data"
    },
    {
     "data": {
      "text/plain": [
       "BlockRNNModel(model=LSTM, hidden_dim=70, n_rnn_layers=1, hidden_fc_sizes=None, dropout=0.0, input_chunk_length=35, output_chunk_length=5, torch_metrics=SymmetricMeanAbsolutePercentageError(), n_epochs=500, pl_trainer_kwargs={'callbacks': [<pytorch_lightning.callbacks.early_stopping.EarlyStopping object at 0x153e17a90>], 'accelerator': 'cpu'}, random_state=0)"
      ]
     },
     "execution_count": 21,
     "metadata": {},
     "output_type": "execute_result"
    }
   ],
   "source": [
    "model_covariates.fit(\n",
    "    series=[train[\"close\"]],    # the target training data\n",
    "    past_covariates=train,     # the multi covariate features training data\n",
    "    val_series=[val[\"close\"]],  # the target validation data\n",
    "    val_past_covariates=val,   # the multi covariate features validation data\n",
    "    verbose=True\n",
    ")\n"
   ]
  },
  {
   "cell_type": "markdown",
   "metadata": {},
   "source": [
    "### __*Do a prediction*__"
   ]
  },
  {
   "cell_type": "code",
   "execution_count": 22,
   "metadata": {},
   "outputs": [
    {
     "data": {
      "application/vnd.jupyter.widget-view+json": {
       "model_id": "68518f85695f4cd9b83352c2890e48fe",
       "version_major": 2,
       "version_minor": 0
      },
      "text/plain": [
       "Predicting: |          | 0/? [00:00<?, ?it/s]"
      ]
     },
     "metadata": {},
     "output_type": "display_data"
    },
    {
     "data": {
      "text/plain": [
       "<Axes: xlabel='date'>"
      ]
     },
     "execution_count": 22,
     "metadata": {},
     "output_type": "execute_result"
    },
    {
     "data": {
      "image/png": "[encoded data removed]",
      "text/plain": [
       "<Figure size 640x480 with 1 Axes>"
      ]
     },
     "metadata": {},
     "output_type": "display_data"
    }
   ],
   "source": [
    "pred_cov = model_covariates.predict(n=5,                        # n of days to predict\n",
    "                                 series=test[\"close\"][-35-5:-5],       # target input for prediction\n",
    "                                 past_covariates=test[-35-5:-5]) # past-covariates input for prediction\n",
    "\n",
    "test[-5:][\"close\"].plot(label=\"actual\")\n",
    "pred_cov.plot(label=\"forecast\")\n"
   ]
  },
  {
   "cell_type": "markdown",
   "metadata": {},
   "source": [
    "### __*Result of the metrics*__"
   ]
  },
  {
   "cell_type": "code",
   "execution_count": 23,
   "metadata": {},
   "outputs": [
    {
     "data": {
      "text/plain": [
       "array([[39450.35],\n",
       "       [39972.26],\n",
       "       [41991.1 ],\n",
       "       [44073.32],\n",
       "       [43762.69]])"
      ]
     },
     "execution_count": 23,
     "metadata": {},
     "output_type": "execute_result"
    }
   ],
   "source": [
    "#Real Data\n",
    "real_data = ts_scaler_target.inverse_transform(test['close'][-5:]).values()\n",
    "real_data\n"
   ]
  },
  {
   "cell_type": "markdown",
   "metadata": {},
   "source": [
    "### __*Turn Prediction into original scale*__"
   ]
  },
  {
   "cell_type": "code",
   "execution_count": 24,
   "metadata": {},
   "outputs": [
    {
     "data": {
      "text/plain": [
       "array([[37004.12645593],\n",
       "       [36848.98254835],\n",
       "       [35785.67739005],\n",
       "       [35958.29017835],\n",
       "       [34326.12668675]])"
      ]
     },
     "execution_count": 24,
     "metadata": {},
     "output_type": "execute_result"
    }
   ],
   "source": [
    "#Predicted Data\n",
    "predicted_data = ts_scaler_target.inverse_transform(pred_cov).values()\n",
    "predicted_data\n"
   ]
  },
  {
   "cell_type": "code",
   "execution_count": 25,
   "metadata": {},
   "outputs": [
    {
     "name": "stdout",
     "output_type": "stream",
     "text": [
      "14.987162637727005\n"
     ]
    }
   ],
   "source": [
    "# check the SMAPE error\n",
    "\n",
    "def smape_function(A, F):\n",
    "    return 100/len(A) * np.sum(2 * np.abs(F - A) / (np.abs(A) + np.abs(F)))\n",
    "\n",
    "\n",
    "print(smape_function(real_data, predicted_data))\n"
   ]
  },
  {
   "cell_type": "markdown",
   "metadata": {},
   "source": [
    "### __*Back Test*__"
   ]
  },
  {
   "cell_type": "code",
   "execution_count": null,
   "metadata": {},
   "outputs": [],
   "source": [
    "val\n"
   ]
  },
  {
   "cell_type": "code",
   "execution_count": 40,
   "metadata": {},
   "outputs": [],
   "source": [
    "def prediction_hist():\n",
    "    historical_model = model_covariates.historical_forecasts(\n",
    "            series=[val[\"close\"]],  # the target validation data\n",
    "            past_covariates=val,\n",
    "            start=0.3,\n",
    "            forecast_horizon=5,\n",
    "            verbose=False,\n",
    "            retrain=False\n",
    "    )\n",
    "    val = val['close']\n",
    "\n",
    "    return historical_model, val\n",
    "\n",
    "\n",
    "\n",
    "\n",
    "historical_model = model_covariates.historical_forecasts(\n",
    "        series=[val[\"close\"]],  # the target validation data\n",
    "        past_covariates=val,\n",
    "        start=0.3,\n",
    "        forecast_horizon=5,\n",
    "        verbose=False,\n",
    "        retrain=False\n",
    ")\n"
   ]
  },
  {
   "cell_type": "code",
   "execution_count": 45,
   "metadata": {},
   "outputs": [
    {
     "data": {
      "text/html": [
       "<div><svg style=\"position: absolute; width: 0; height: 0; overflow: hidden\">\n",
       "<defs>\n",
       "<symbol id=\"icon-database\" viewBox=\"0 0 32 32\">\n",
       "<path d=\"M16 0c-8.837 0-16 2.239-16 5v4c0 2.761 7.163 5 16 5s16-2.239 16-5v-4c0-2.761-7.163-5-16-5z\"></path>\n",
       "<path d=\"M16 17c-8.837 0-16-2.239-16-5v6c0 2.761 7.163 5 16 5s16-2.239 16-5v-6c0 2.761-7.163 5-16 5z\"></path>\n",
       "<path d=\"M16 26c-8.837 0-16-2.239-16-5v6c0 2.761 7.163 5 16 5s16-2.239 16-5v-6c0 2.761-7.163 5-16 5z\"></path>\n",
       "</symbol>\n",
       "<symbol id=\"icon-file-text2\" viewBox=\"0 0 32 32\">\n",
       "<path d=\"M28.681 7.159c-0.694-0.947-1.662-2.053-2.724-3.116s-2.169-2.030-3.116-2.724c-1.612-1.182-2.393-1.319-2.841-1.319h-15.5c-1.378 0-2.5 1.121-2.5 2.5v27c0 1.378 1.122 2.5 2.5 2.5h23c1.378 0 2.5-1.122 2.5-2.5v-19.5c0-0.448-0.137-1.23-1.319-2.841zM24.543 5.457c0.959 0.959 1.712 1.825 2.268 2.543h-4.811v-4.811c0.718 0.556 1.584 1.309 2.543 2.268zM28 29.5c0 0.271-0.229 0.5-0.5 0.5h-23c-0.271 0-0.5-0.229-0.5-0.5v-27c0-0.271 0.229-0.5 0.5-0.5 0 0 15.499-0 15.5 0v7c0 0.552 0.448 1 1 1h7v19.5z\"></path>\n",
       "<path d=\"M23 26h-14c-0.552 0-1-0.448-1-1s0.448-1 1-1h14c0.552 0 1 0.448 1 1s-0.448 1-1 1z\"></path>\n",
       "<path d=\"M23 22h-14c-0.552 0-1-0.448-1-1s0.448-1 1-1h14c0.552 0 1 0.448 1 1s-0.448 1-1 1z\"></path>\n",
       "<path d=\"M23 18h-14c-0.552 0-1-0.448-1-1s0.448-1 1-1h14c0.552 0 1 0.448 1 1s-0.448 1-1 1z\"></path>\n",
       "</symbol>\n",
       "</defs>\n",
       "</svg>\n",
       "<style>/* CSS stylesheet for displaying xarray objects in jupyterlab.\n",
       " *\n",
       " */\n",
       "\n",
       ":root {\n",
       "  --xr-font-color0: var(--jp-content-font-color0, rgba(0, 0, 0, 1));\n",
       "  --xr-font-color2: var(--jp-content-font-color2, rgba(0, 0, 0, 0.54));\n",
       "  --xr-font-color3: var(--jp-content-font-color3, rgba(0, 0, 0, 0.38));\n",
       "  --xr-border-color: var(--jp-border-color2, #e0e0e0);\n",
       "  --xr-disabled-color: var(--jp-layout-color3, #bdbdbd);\n",
       "  --xr-background-color: var(--jp-layout-color0, white);\n",
       "  --xr-background-color-row-even: var(--jp-layout-color1, white);\n",
       "  --xr-background-color-row-odd: var(--jp-layout-color2, #eeeeee);\n",
       "}\n",
       "\n",
       "html[theme=dark],\n",
       "body[data-theme=dark],\n",
       "body.vscode-dark {\n",
       "  --xr-font-color0: rgba(255, 255, 255, 1);\n",
       "  --xr-font-color2: rgba(255, 255, 255, 0.54);\n",
       "  --xr-font-color3: rgba(255, 255, 255, 0.38);\n",
       "  --xr-border-color: #1F1F1F;\n",
       "  --xr-disabled-color: #515151;\n",
       "  --xr-background-color: #111111;\n",
       "  --xr-background-color-row-even: #111111;\n",
       "  --xr-background-color-row-odd: #313131;\n",
       "}\n",
       "\n",
       ".xr-wrap {\n",
       "  display: block !important;\n",
       "  min-width: 300px;\n",
       "  max-width: 700px;\n",
       "}\n",
       "\n",
       ".xr-text-repr-fallback {\n",
       "  /* fallback to plain text repr when CSS is not injected (untrusted notebook) */\n",
       "  display: none;\n",
       "}\n",
       "\n",
       ".xr-header {\n",
       "  padding-top: 6px;\n",
       "  padding-bottom: 6px;\n",
       "  margin-bottom: 4px;\n",
       "  border-bottom: solid 1px var(--xr-border-color);\n",
       "}\n",
       "\n",
       ".xr-header > div,\n",
       ".xr-header > ul {\n",
       "  display: inline;\n",
       "  margin-top: 0;\n",
       "  margin-bottom: 0;\n",
       "}\n",
       "\n",
       ".xr-obj-type,\n",
       ".xr-array-name {\n",
       "  margin-left: 2px;\n",
       "  margin-right: 10px;\n",
       "}\n",
       "\n",
       ".xr-obj-type {\n",
       "  color: var(--xr-font-color2);\n",
       "}\n",
       "\n",
       ".xr-sections {\n",
       "  padding-left: 0 !important;\n",
       "  display: grid;\n",
       "  grid-template-columns: 150px auto auto 1fr 20px 20px;\n",
       "}\n",
       "\n",
       ".xr-section-item {\n",
       "  display: contents;\n",
       "}\n",
       "\n",
       ".xr-section-item input {\n",
       "  display: none;\n",
       "}\n",
       "\n",
       ".xr-section-item input + label {\n",
       "  color: var(--xr-disabled-color);\n",
       "}\n",
       "\n",
       ".xr-section-item input:enabled + label {\n",
       "  cursor: pointer;\n",
       "  color: var(--xr-font-color2);\n",
       "}\n",
       "\n",
       ".xr-section-item input:enabled + label:hover {\n",
       "  color: var(--xr-font-color0);\n",
       "}\n",
       "\n",
       ".xr-section-summary {\n",
       "  grid-column: 1;\n",
       "  color: var(--xr-font-color2);\n",
       "  font-weight: 500;\n",
       "}\n",
       "\n",
       ".xr-section-summary > span {\n",
       "  display: inline-block;\n",
       "  padding-left: 0.5em;\n",
       "}\n",
       "\n",
       ".xr-section-summary-in:disabled + label {\n",
       "  color: var(--xr-font-color2);\n",
       "}\n",
       "\n",
       ".xr-section-summary-in + label:before {\n",
       "  display: inline-block;\n",
       "  content: '►';\n",
       "  font-size: 11px;\n",
       "  width: 15px;\n",
       "  text-align: center;\n",
       "}\n",
       "\n",
       ".xr-section-summary-in:disabled + label:before {\n",
       "  color: var(--xr-disabled-color);\n",
       "}\n",
       "\n",
       ".xr-section-summary-in:checked + label:before {\n",
       "  content: '▼';\n",
       "}\n",
       "\n",
       ".xr-section-summary-in:checked + label > span {\n",
       "  display: none;\n",
       "}\n",
       "\n",
       ".xr-section-summary,\n",
       ".xr-section-inline-details {\n",
       "  padding-top: 4px;\n",
       "  padding-bottom: 4px;\n",
       "}\n",
       "\n",
       ".xr-section-inline-details {\n",
       "  grid-column: 2 / -1;\n",
       "}\n",
       "\n",
       ".xr-section-details {\n",
       "  display: none;\n",
       "  grid-column: 1 / -1;\n",
       "  margin-bottom: 5px;\n",
       "}\n",
       "\n",
       ".xr-section-summary-in:checked ~ .xr-section-details {\n",
       "  display: contents;\n",
       "}\n",
       "\n",
       ".xr-array-wrap {\n",
       "  grid-column: 1 / -1;\n",
       "  display: grid;\n",
       "  grid-template-columns: 20px auto;\n",
       "}\n",
       "\n",
       ".xr-array-wrap > label {\n",
       "  grid-column: 1;\n",
       "  vertical-align: top;\n",
       "}\n",
       "\n",
       ".xr-preview {\n",
       "  color: var(--xr-font-color3);\n",
       "}\n",
       "\n",
       ".xr-array-preview,\n",
       ".xr-array-data {\n",
       "  padding: 0 5px !important;\n",
       "  grid-column: 2;\n",
       "}\n",
       "\n",
       ".xr-array-data,\n",
       ".xr-array-in:checked ~ .xr-array-preview {\n",
       "  display: none;\n",
       "}\n",
       "\n",
       ".xr-array-in:checked ~ .xr-array-data,\n",
       ".xr-array-preview {\n",
       "  display: inline-block;\n",
       "}\n",
       "\n",
       ".xr-dim-list {\n",
       "  display: inline-block !important;\n",
       "  list-style: none;\n",
       "  padding: 0 !important;\n",
       "  margin: 0;\n",
       "}\n",
       "\n",
       ".xr-dim-list li {\n",
       "  display: inline-block;\n",
       "  padding: 0;\n",
       "  margin: 0;\n",
       "}\n",
       "\n",
       ".xr-dim-list:before {\n",
       "  content: '(';\n",
       "}\n",
       "\n",
       ".xr-dim-list:after {\n",
       "  content: ')';\n",
       "}\n",
       "\n",
       ".xr-dim-list li:not(:last-child):after {\n",
       "  content: ',';\n",
       "  padding-right: 5px;\n",
       "}\n",
       "\n",
       ".xr-has-index {\n",
       "  font-weight: bold;\n",
       "}\n",
       "\n",
       ".xr-var-list,\n",
       ".xr-var-item {\n",
       "  display: contents;\n",
       "}\n",
       "\n",
       ".xr-var-item > div,\n",
       ".xr-var-item label,\n",
       ".xr-var-item > .xr-var-name span {\n",
       "  background-color: var(--xr-background-color-row-even);\n",
       "  margin-bottom: 0;\n",
       "}\n",
       "\n",
       ".xr-var-item > .xr-var-name:hover span {\n",
       "  padding-right: 5px;\n",
       "}\n",
       "\n",
       ".xr-var-list > li:nth-child(odd) > div,\n",
       ".xr-var-list > li:nth-child(odd) > label,\n",
       ".xr-var-list > li:nth-child(odd) > .xr-var-name span {\n",
       "  background-color: var(--xr-background-color-row-odd);\n",
       "}\n",
       "\n",
       ".xr-var-name {\n",
       "  grid-column: 1;\n",
       "}\n",
       "\n",
       ".xr-var-dims {\n",
       "  grid-column: 2;\n",
       "}\n",
       "\n",
       ".xr-var-dtype {\n",
       "  grid-column: 3;\n",
       "  text-align: right;\n",
       "  color: var(--xr-font-color2);\n",
       "}\n",
       "\n",
       ".xr-var-preview {\n",
       "  grid-column: 4;\n",
       "}\n",
       "\n",
       ".xr-index-preview {\n",
       "  grid-column: 2 / 5;\n",
       "  color: var(--xr-font-color2);\n",
       "}\n",
       "\n",
       ".xr-var-name,\n",
       ".xr-var-dims,\n",
       ".xr-var-dtype,\n",
       ".xr-preview,\n",
       ".xr-attrs dt {\n",
       "  white-space: nowrap;\n",
       "  overflow: hidden;\n",
       "  text-overflow: ellipsis;\n",
       "  padding-right: 10px;\n",
       "}\n",
       "\n",
       ".xr-var-name:hover,\n",
       ".xr-var-dims:hover,\n",
       ".xr-var-dtype:hover,\n",
       ".xr-attrs dt:hover {\n",
       "  overflow: visible;\n",
       "  width: auto;\n",
       "  z-index: 1;\n",
       "}\n",
       "\n",
       ".xr-var-attrs,\n",
       ".xr-var-data,\n",
       ".xr-index-data {\n",
       "  display: none;\n",
       "  background-color: var(--xr-background-color) !important;\n",
       "  padding-bottom: 5px !important;\n",
       "}\n",
       "\n",
       ".xr-var-attrs-in:checked ~ .xr-var-attrs,\n",
       ".xr-var-data-in:checked ~ .xr-var-data,\n",
       ".xr-index-data-in:checked ~ .xr-index-data {\n",
       "  display: block;\n",
       "}\n",
       "\n",
       ".xr-var-data > table {\n",
       "  float: right;\n",
       "}\n",
       "\n",
       ".xr-var-name span,\n",
       ".xr-var-data,\n",
       ".xr-index-name div,\n",
       ".xr-index-data,\n",
       ".xr-attrs {\n",
       "  padding-left: 25px !important;\n",
       "}\n",
       "\n",
       ".xr-attrs,\n",
       ".xr-var-attrs,\n",
       ".xr-var-data,\n",
       ".xr-index-data {\n",
       "  grid-column: 1 / -1;\n",
       "}\n",
       "\n",
       "dl.xr-attrs {\n",
       "  padding: 0;\n",
       "  margin: 0;\n",
       "  display: grid;\n",
       "  grid-template-columns: 125px auto;\n",
       "}\n",
       "\n",
       ".xr-attrs dt,\n",
       ".xr-attrs dd {\n",
       "  padding: 0;\n",
       "  margin: 0;\n",
       "  float: left;\n",
       "  padding-right: 10px;\n",
       "  width: auto;\n",
       "}\n",
       "\n",
       ".xr-attrs dt {\n",
       "  font-weight: normal;\n",
       "  grid-column: 1;\n",
       "}\n",
       "\n",
       ".xr-attrs dt:hover span {\n",
       "  display: inline-block;\n",
       "  background: var(--xr-background-color);\n",
       "  padding-right: 10px;\n",
       "}\n",
       "\n",
       ".xr-attrs dd {\n",
       "  grid-column: 2;\n",
       "  white-space: pre-wrap;\n",
       "  word-break: break-all;\n",
       "}\n",
       "\n",
       ".xr-icon-database,\n",
       ".xr-icon-file-text2,\n",
       ".xr-no-icon {\n",
       "  display: inline-block;\n",
       "  vertical-align: middle;\n",
       "  width: 1em;\n",
       "  height: 1.5em !important;\n",
       "  stroke-width: 0;\n",
       "  stroke: currentColor;\n",
       "  fill: currentColor;\n",
       "}\n",
       "</style><pre class='xr-text-repr-fallback'>&lt;TimeSeries (DataArray) (date: 306, component: 1, sample: 1)&gt;\n",
       "array([[[0.21342895]],\n",
       "\n",
       "       [[0.21537476]],\n",
       "\n",
       "       [[0.22418332]],\n",
       "\n",
       "       [[0.22462697]],\n",
       "\n",
       "       [[0.21765943]],\n",
       "\n",
       "       [[0.20636598]],\n",
       "\n",
       "       [[0.20861775]],\n",
       "\n",
       "       [[0.20802034]],\n",
       "\n",
       "       [[0.20335261]],\n",
       "\n",
       "       [[0.21047405]],\n",
       "\n",
       "...\n",
       "\n",
       "       [[0.37469239]],\n",
       "\n",
       "       [[0.38018318]],\n",
       "\n",
       "       [[0.3744418 ]],\n",
       "\n",
       "       [[0.38256157]],\n",
       "\n",
       "       [[0.38296046]],\n",
       "\n",
       "       [[0.38234263]],\n",
       "\n",
       "       [[0.3772445 ]],\n",
       "\n",
       "       [[0.37412571]],\n",
       "\n",
       "       [[0.36610106]],\n",
       "\n",
       "       [[0.36429388]]])\n",
       "Coordinates:\n",
       "  * date       (date) datetime64[ns] 2022-12-11 2022-12-12 ... 2023-10-12\n",
       "  * component  (component) object &#x27;close&#x27;\n",
       "Dimensions without coordinates: sample\n",
       "Attributes:\n",
       "    static_covariates:  None\n",
       "    hierarchy:          None</pre><div class='xr-wrap' style='display:none'><div class='xr-header'><div class='xr-obj-type'>TimeSeries (DataArray)</div><div class='xr-array-name'></div><ul class='xr-dim-list'><li><span class='xr-has-index'>date</span>: 306</li><li><span class='xr-has-index'>component</span>: 1</li><li><span>sample</span>: 1</li></ul></div><ul class='xr-sections'><li class='xr-section-item'><div class='xr-array-wrap'><input id='section-c6182093-8f9b-4038-ba6b-1b5426505f5f' class='xr-array-in' type='checkbox' checked><label for='section-c6182093-8f9b-4038-ba6b-1b5426505f5f' title='Show/hide data repr'><svg class='icon xr-icon-database'><use xlink:href='#icon-database'></use></svg></label><div class='xr-array-preview xr-preview'><span>0.2134 0.2154 0.2242 0.2246 0.2177 ... 0.3772 0.3741 0.3661 0.3643</span></div><div class='xr-array-data'><pre>array([[[0.21342895]],\n",
       "\n",
       "       [[0.21537476]],\n",
       "\n",
       "       [[0.22418332]],\n",
       "\n",
       "       [[0.22462697]],\n",
       "\n",
       "       [[0.21765943]],\n",
       "\n",
       "       [[0.20636598]],\n",
       "\n",
       "       [[0.20861775]],\n",
       "\n",
       "       [[0.20802034]],\n",
       "\n",
       "       [[0.20335261]],\n",
       "\n",
       "       [[0.21047405]],\n",
       "\n",
       "...\n",
       "\n",
       "       [[0.37469239]],\n",
       "\n",
       "       [[0.38018318]],\n",
       "\n",
       "       [[0.3744418 ]],\n",
       "\n",
       "       [[0.38256157]],\n",
       "\n",
       "       [[0.38296046]],\n",
       "\n",
       "       [[0.38234263]],\n",
       "\n",
       "       [[0.3772445 ]],\n",
       "\n",
       "       [[0.37412571]],\n",
       "\n",
       "       [[0.36610106]],\n",
       "\n",
       "       [[0.36429388]]])</pre></div></div></li><li class='xr-section-item'><input id='section-e298b6a4-552e-46a5-b5f8-f4b2305a051c' class='xr-section-summary-in' type='checkbox'  checked><label for='section-e298b6a4-552e-46a5-b5f8-f4b2305a051c' class='xr-section-summary' >Coordinates: <span>(2)</span></label><div class='xr-section-inline-details'></div><div class='xr-section-details'><ul class='xr-var-list'><li class='xr-var-item'><div class='xr-var-name'><span class='xr-has-index'>date</span></div><div class='xr-var-dims'>(date)</div><div class='xr-var-dtype'>datetime64[ns]</div><div class='xr-var-preview xr-preview'>2022-12-11 ... 2023-10-12</div><input id='attrs-a6d76233-ab60-4e00-bb20-77194885f9f2' class='xr-var-attrs-in' type='checkbox' disabled><label for='attrs-a6d76233-ab60-4e00-bb20-77194885f9f2' title='Show/Hide attributes'><svg class='icon xr-icon-file-text2'><use xlink:href='#icon-file-text2'></use></svg></label><input id='data-1196a13a-2b22-41f7-8244-941cfbc950d7' class='xr-var-data-in' type='checkbox'><label for='data-1196a13a-2b22-41f7-8244-941cfbc950d7' title='Show/Hide data repr'><svg class='icon xr-icon-database'><use xlink:href='#icon-database'></use></svg></label><div class='xr-var-attrs'><dl class='xr-attrs'></dl></div><div class='xr-var-data'><pre>array([&#x27;2022-12-11T00:00:00.000000000&#x27;, &#x27;2022-12-12T00:00:00.000000000&#x27;,\n",
       "       &#x27;2022-12-13T00:00:00.000000000&#x27;, ..., &#x27;2023-10-10T00:00:00.000000000&#x27;,\n",
       "       &#x27;2023-10-11T00:00:00.000000000&#x27;, &#x27;2023-10-12T00:00:00.000000000&#x27;],\n",
       "      dtype=&#x27;datetime64[ns]&#x27;)</pre></div></li><li class='xr-var-item'><div class='xr-var-name'><span class='xr-has-index'>component</span></div><div class='xr-var-dims'>(component)</div><div class='xr-var-dtype'>object</div><div class='xr-var-preview xr-preview'>&#x27;close&#x27;</div><input id='attrs-c643e170-94e1-49dd-a703-4e314b1d15aa' class='xr-var-attrs-in' type='checkbox' disabled><label for='attrs-c643e170-94e1-49dd-a703-4e314b1d15aa' title='Show/Hide attributes'><svg class='icon xr-icon-file-text2'><use xlink:href='#icon-file-text2'></use></svg></label><input id='data-df8d3f00-b676-415e-8bf5-c807e56dbedd' class='xr-var-data-in' type='checkbox'><label for='data-df8d3f00-b676-415e-8bf5-c807e56dbedd' title='Show/Hide data repr'><svg class='icon xr-icon-database'><use xlink:href='#icon-database'></use></svg></label><div class='xr-var-attrs'><dl class='xr-attrs'></dl></div><div class='xr-var-data'><pre>array([&#x27;close&#x27;], dtype=object)</pre></div></li></ul></div></li><li class='xr-section-item'><input id='section-1a700a6c-f55a-4824-b045-6d47b75794c0' class='xr-section-summary-in' type='checkbox'  ><label for='section-1a700a6c-f55a-4824-b045-6d47b75794c0' class='xr-section-summary' >Indexes: <span>(2)</span></label><div class='xr-section-inline-details'></div><div class='xr-section-details'><ul class='xr-var-list'><li class='xr-var-item'><div class='xr-index-name'><div>date</div></div><div class='xr-index-preview'>PandasIndex</div><div></div><input id='index-b885176c-9801-4a18-80df-ced13101bee6' class='xr-index-data-in' type='checkbox'/><label for='index-b885176c-9801-4a18-80df-ced13101bee6' title='Show/Hide index repr'><svg class='icon xr-icon-database'><use xlink:href='#icon-database'></use></svg></label><div class='xr-index-data'><pre>PandasIndex(DatetimeIndex([&#x27;2022-12-11&#x27;, &#x27;2022-12-12&#x27;, &#x27;2022-12-13&#x27;, &#x27;2022-12-14&#x27;,\n",
       "               &#x27;2022-12-15&#x27;, &#x27;2022-12-16&#x27;, &#x27;2022-12-17&#x27;, &#x27;2022-12-18&#x27;,\n",
       "               &#x27;2022-12-19&#x27;, &#x27;2022-12-20&#x27;,\n",
       "               ...\n",
       "               &#x27;2023-10-03&#x27;, &#x27;2023-10-04&#x27;, &#x27;2023-10-05&#x27;, &#x27;2023-10-06&#x27;,\n",
       "               &#x27;2023-10-07&#x27;, &#x27;2023-10-08&#x27;, &#x27;2023-10-09&#x27;, &#x27;2023-10-10&#x27;,\n",
       "               &#x27;2023-10-11&#x27;, &#x27;2023-10-12&#x27;],\n",
       "              dtype=&#x27;datetime64[ns]&#x27;, name=&#x27;date&#x27;, length=306, freq=&#x27;D&#x27;))</pre></div></li><li class='xr-var-item'><div class='xr-index-name'><div>component</div></div><div class='xr-index-preview'>PandasIndex</div><div></div><input id='index-2e101de7-b42c-4f8b-8d02-ab9fba98db20' class='xr-index-data-in' type='checkbox'/><label for='index-2e101de7-b42c-4f8b-8d02-ab9fba98db20' title='Show/Hide index repr'><svg class='icon xr-icon-database'><use xlink:href='#icon-database'></use></svg></label><div class='xr-index-data'><pre>PandasIndex(Index([&#x27;close&#x27;], dtype=&#x27;object&#x27;, name=&#x27;component&#x27;))</pre></div></li></ul></div></li><li class='xr-section-item'><input id='section-bccb6ec6-0415-40e8-82b0-6dfdac79ea3e' class='xr-section-summary-in' type='checkbox'  checked><label for='section-bccb6ec6-0415-40e8-82b0-6dfdac79ea3e' class='xr-section-summary' >Attributes: <span>(2)</span></label><div class='xr-section-inline-details'></div><div class='xr-section-details'><dl class='xr-attrs'><dt><span>static_covariates :</span></dt><dd>None</dd><dt><span>hierarchy :</span></dt><dd>None</dd></dl></div></li></ul></div></div>"
      ],
      "text/plain": [
       "<TimeSeries (DataArray) (date: 306, component: 1, sample: 1)>\n",
       "array([[[0.21342895]],\n",
       "\n",
       "       [[0.21537476]],\n",
       "\n",
       "       [[0.22418332]],\n",
       "\n",
       "       [[0.22462697]],\n",
       "\n",
       "       [[0.21765943]],\n",
       "\n",
       "       [[0.20636598]],\n",
       "\n",
       "       [[0.20861775]],\n",
       "\n",
       "       [[0.20802034]],\n",
       "\n",
       "       [[0.20335261]],\n",
       "\n",
       "       [[0.21047405]],\n",
       "\n",
       "...\n",
       "\n",
       "       [[0.37469239]],\n",
       "\n",
       "       [[0.38018318]],\n",
       "\n",
       "       [[0.3744418 ]],\n",
       "\n",
       "       [[0.38256157]],\n",
       "\n",
       "       [[0.38296046]],\n",
       "\n",
       "       [[0.38234263]],\n",
       "\n",
       "       [[0.3772445 ]],\n",
       "\n",
       "       [[0.37412571]],\n",
       "\n",
       "       [[0.36610106]],\n",
       "\n",
       "       [[0.36429388]]])\n",
       "Coordinates:\n",
       "  * date       (date) datetime64[ns] 2022-12-11 2022-12-12 ... 2023-10-12\n",
       "  * component  (component) object 'close'\n",
       "Dimensions without coordinates: sample\n",
       "Attributes:\n",
       "    static_covariates:  None\n",
       "    hierarchy:          None"
      ]
     },
     "execution_count": 45,
     "metadata": {},
     "output_type": "execute_result"
    }
   ],
   "source": [
    "val[\"close\"]\n"
   ]
  },
  {
   "cell_type": "code",
   "execution_count": 34,
   "metadata": {},
   "outputs": [
    {
     "data": {
      "text/plain": [
       "<Axes: xlabel='time'>"
      ]
     },
     "execution_count": 34,
     "metadata": {},
     "output_type": "execute_result"
    },
    {
     "data": {
      "image/png": "[encoded data removed]",
      "text/plain": [
       "<Figure size 640x480 with 1 Axes>"
      ]
     },
     "metadata": {},
     "output_type": "display_data"
    }
   ],
   "source": [
    "val[\"close\"].plot(label=\"data\")\n",
    "historical_model.plot(low_quantile=0.01, high_quantile=0.99,label=\"backtest ahead forecast (historical_model)\")\n",
    "SMAPE = (\"SMAPE = {:.2f}%\".format(smape(historical_model, val[\"close\"])))\n",
    "MAE = (\"MAE = {:.2f}\".format(mae(historical_model, val[\"close\"])))\n"
   ]
  },
  {
   "cell_type": "code",
   "execution_count": 32,
   "metadata": {},
   "outputs": [
    {
     "data": {
      "text/plain": [
       "'SMAPE = 6.07%'"
      ]
     },
     "execution_count": 32,
     "metadata": {},
     "output_type": "execute_result"
    }
   ],
   "source": [
    "SMAPE\n"
   ]
  },
  {
   "cell_type": "code",
   "execution_count": 50,
   "metadata": {},
   "outputs": [
    {
     "data": {
      "text/html": [
       "<div>\n",
       "<style scoped>\n",
       "    .dataframe tbody tr th:only-of-type {\n",
       "        vertical-align: middle;\n",
       "    }\n",
       "\n",
       "    .dataframe tbody tr th {\n",
       "        vertical-align: top;\n",
       "    }\n",
       "\n",
       "    .dataframe thead th {\n",
       "        text-align: right;\n",
       "    }\n",
       "</style>\n",
       "<table border=\"1\" class=\"dataframe\">\n",
       "  <thead>\n",
       "    <tr style=\"text-align: right;\">\n",
       "      <th>component</th>\n",
       "      <th>close</th>\n",
       "    </tr>\n",
       "    <tr>\n",
       "      <th>time</th>\n",
       "      <th></th>\n",
       "    </tr>\n",
       "  </thead>\n",
       "  <tbody>\n",
       "    <tr>\n",
       "      <th>2023-03-16</th>\n",
       "      <td>0.254023</td>\n",
       "    </tr>\n",
       "    <tr>\n",
       "      <th>2023-03-17</th>\n",
       "      <td>0.258164</td>\n",
       "    </tr>\n",
       "    <tr>\n",
       "      <th>2023-03-18</th>\n",
       "      <td>0.263866</td>\n",
       "    </tr>\n",
       "    <tr>\n",
       "      <th>2023-03-19</th>\n",
       "      <td>0.270069</td>\n",
       "    </tr>\n",
       "    <tr>\n",
       "      <th>2023-03-20</th>\n",
       "      <td>0.274304</td>\n",
       "    </tr>\n",
       "    <tr>\n",
       "      <th>...</th>\n",
       "      <td>...</td>\n",
       "    </tr>\n",
       "    <tr>\n",
       "      <th>2023-10-08</th>\n",
       "      <td>0.362787</td>\n",
       "    </tr>\n",
       "    <tr>\n",
       "      <th>2023-10-09</th>\n",
       "      <td>0.369224</td>\n",
       "    </tr>\n",
       "    <tr>\n",
       "      <th>2023-10-10</th>\n",
       "      <td>0.376667</td>\n",
       "    </tr>\n",
       "    <tr>\n",
       "      <th>2023-10-11</th>\n",
       "      <td>0.383516</td>\n",
       "    </tr>\n",
       "    <tr>\n",
       "      <th>2023-10-12</th>\n",
       "      <td>0.393388</td>\n",
       "    </tr>\n",
       "  </tbody>\n",
       "</table>\n",
       "<p>211 rows × 1 columns</p>\n",
       "</div>"
      ],
      "text/plain": [
       "component      close\n",
       "time                \n",
       "2023-03-16  0.254023\n",
       "2023-03-17  0.258164\n",
       "2023-03-18  0.263866\n",
       "2023-03-19  0.270069\n",
       "2023-03-20  0.274304\n",
       "...              ...\n",
       "2023-10-08  0.362787\n",
       "2023-10-09  0.369224\n",
       "2023-10-10  0.376667\n",
       "2023-10-11  0.383516\n",
       "2023-10-12  0.393388\n",
       "\n",
       "[211 rows x 1 columns]"
      ]
     },
     "execution_count": 50,
     "metadata": {},
     "output_type": "execute_result"
    }
   ],
   "source": [
    "df_history= historical_model.pd_dataframe()\n",
    "df_history\n"
   ]
  }
 ],
 "metadata": {
  "kernelspec": {
   "display_name": "crypto_market_assistant",
   "language": "python",
   "name": "python3"
  },
  "language_info": {
   "codemirror_mode": {
    "name": "ipython",
    "version": 3
   },
   "file_extension": ".py",
   "mimetype": "text/x-python",
   "name": "python",
   "nbconvert_exporter": "python",
   "pygments_lexer": "ipython3",
   "version": "3.10.6"
  }
 },
 "nbformat": 4,
 "nbformat_minor": 2
}
